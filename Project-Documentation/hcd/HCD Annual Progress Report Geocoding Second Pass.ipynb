{
 "cells": [
  {
   "cell_type": "code",
   "execution_count": 1,
   "metadata": {},
   "outputs": [],
   "source": [
    "import sys\n",
    "import getpass\n",
    "import re\n",
    "from functools import partial\n",
    "from tqdm import tqdm\n",
    "import uuid\n",
    "\n",
    "user = getpass.getuser()\n",
    "sys.dont_write_bytecode = True\n",
    "\n",
    "sys.path.insert(0, '/Users/{}/Box/DataViz Projects/Utility Code'.format(user))\n",
    "\n",
    "from utils_io import *  # initial imports\n",
    "reload_module('utils_io')  # reload after update to utils_io.py\n",
    "from utils_io import *  # reload reflects updates\n",
    "\n",
    "#geo imports\n",
    "import geopandas as gp\n",
    "import folium\n",
    "from geopandas.tools import geocode\n",
    "from geopy.geocoders import GoogleV3\n",
    "from geopy.extra.rate_limiter import RateLimiter\n",
    "from geopy import Point"
   ]
  },
  {
   "cell_type": "code",
   "execution_count": 2,
   "metadata": {},
   "outputs": [],
   "source": [
    "google_api_key = G_CREDS['dataviz_team']"
   ]
  },
  {
   "cell_type": "markdown",
   "metadata": {},
   "source": [
    "## Pull Geocoded Data and Run Through Geocoder w/ updates"
   ]
  },
  {
   "cell_type": "code",
   "execution_count": 3,
   "metadata": {},
   "outputs": [],
   "source": [
    "#Create a geo locator\n",
    "g = GoogleV3(api_key=google_api_key)"
   ]
  },
  {
   "cell_type": "code",
   "execution_count": null,
   "metadata": {},
   "outputs": [],
   "source": [
    "components = (components={\"country\": \"USA\"},\n",
    "                                bounds=bound_box,\n",
    "                               timeout=1000)"
   ]
  },
  {
   "cell_type": "code",
   "execution_count": 17,
   "metadata": {},
   "outputs": [],
   "source": [
    "#Use a rate limiter\n",
    "bound_box = [Point(38.864245,-121.208156), Point(36.893329,-123.632497)]\n",
    "geocode = RateLimiter(g.geocode, \n",
    "                      min_delay_seconds=.025, \n",
    "                      error_wait_seconds=1)"
   ]
  },
  {
   "cell_type": "code",
   "execution_count": 18,
   "metadata": {},
   "outputs": [
    {
     "data": {
      "text/plain": [
       "<geopy.extra.rate_limiter.RateLimiter at 0x7feb78f7a4d0>"
      ]
     },
     "execution_count": 18,
     "metadata": {},
     "output_type": "execute_result"
    }
   ],
   "source": [
    "geocode"
   ]
  },
  {
   "cell_type": "code",
   "execution_count": 57,
   "metadata": {},
   "outputs": [],
   "source": [
    "address_list = ['757 SHULLSBURG WAY, OAKLEY, CA',\n",
    "                '749 SHULLSBURG WAY, OAKLEY, CA',\n",
    "                '745 SHULLSBURG WAY, OAKLEY, CA',\n",
    "                '133 SISTERS CT, LOS GATOS, CA',\n",
    "                '3 QUETZAL CT, REDWOOD CITY-0000, SAN MATEO COUNTY, CA 94062-0000',\n",
    "                '133 SISTERS CT, LOS GATOS, CA, USA']\n",
    "juris_list = ['OAKLEY','OAKLEY','OAKLEY','LOS GATOS','SAN MATEO COUNTY','LOS GATOS']"
   ]
  },
  {
   "cell_type": "code",
   "execution_count": 58,
   "metadata": {},
   "outputs": [],
   "source": [
    "#Create an example dataset\n",
    "data = {'address':address_list,'jurisdiction':juris_list}"
   ]
  },
  {
   "cell_type": "code",
   "execution_count": 59,
   "metadata": {},
   "outputs": [],
   "source": [
    "ex_addresses = pd.DataFrame(data)"
   ]
  },
  {
   "cell_type": "code",
   "execution_count": 60,
   "metadata": {},
   "outputs": [
    {
     "data": {
      "text/html": [
       "<div>\n",
       "<style scoped>\n",
       "    .dataframe tbody tr th:only-of-type {\n",
       "        vertical-align: middle;\n",
       "    }\n",
       "\n",
       "    .dataframe tbody tr th {\n",
       "        vertical-align: top;\n",
       "    }\n",
       "\n",
       "    .dataframe thead th {\n",
       "        text-align: right;\n",
       "    }\n",
       "</style>\n",
       "<table border=\"1\" class=\"dataframe\">\n",
       "  <thead>\n",
       "    <tr style=\"text-align: right;\">\n",
       "      <th></th>\n",
       "      <th>address</th>\n",
       "      <th>jurisdiction</th>\n",
       "    </tr>\n",
       "  </thead>\n",
       "  <tbody>\n",
       "    <tr>\n",
       "      <th>0</th>\n",
       "      <td>757 SHULLSBURG WAY, OAKLEY, CA</td>\n",
       "      <td>OAKLEY</td>\n",
       "    </tr>\n",
       "    <tr>\n",
       "      <th>1</th>\n",
       "      <td>749 SHULLSBURG WAY, OAKLEY, CA</td>\n",
       "      <td>OAKLEY</td>\n",
       "    </tr>\n",
       "    <tr>\n",
       "      <th>2</th>\n",
       "      <td>745 SHULLSBURG WAY, OAKLEY, CA</td>\n",
       "      <td>OAKLEY</td>\n",
       "    </tr>\n",
       "    <tr>\n",
       "      <th>3</th>\n",
       "      <td>133 SISTERS CT, LOS GATOS, CA</td>\n",
       "      <td>LOS GATOS</td>\n",
       "    </tr>\n",
       "    <tr>\n",
       "      <th>4</th>\n",
       "      <td>3 QUETZAL CT, REDWOOD CITY-0000, SAN MATEO COU...</td>\n",
       "      <td>SAN MATEO COUNTY</td>\n",
       "    </tr>\n",
       "  </tbody>\n",
       "</table>\n",
       "</div>"
      ],
      "text/plain": [
       "                                             address      jurisdiction\n",
       "0                     757 SHULLSBURG WAY, OAKLEY, CA            OAKLEY\n",
       "1                     749 SHULLSBURG WAY, OAKLEY, CA            OAKLEY\n",
       "2                     745 SHULLSBURG WAY, OAKLEY, CA            OAKLEY\n",
       "3                      133 SISTERS CT, LOS GATOS, CA         LOS GATOS\n",
       "4  3 QUETZAL CT, REDWOOD CITY-0000, SAN MATEO COU...  SAN MATEO COUNTY"
      ]
     },
     "execution_count": 60,
     "metadata": {},
     "output_type": "execute_result"
    }
   ],
   "source": [
    "ex_addresses.head(5)"
   ]
  },
  {
   "cell_type": "code",
   "execution_count": 91,
   "metadata": {},
   "outputs": [
    {
     "name": "stderr",
     "output_type": "stream",
     "text": [
      "100%|██████████| 6/6 [00:04<00:00,  1.47it/s]\n"
     ]
    }
   ],
   "source": [
    "#Create a location column with geolocator and time the process \n",
    "tqdm.pandas()\n",
    "bound_box = [Point(38.864245,-121.208156), Point(36.893329,-123.632497)]\n",
    "ex_addresses['location'] = (ex_addresses['address']\n",
    "                            .progress_apply(partial(geocode,\n",
    "                                                    components={\"country\": \"USA\"},\n",
    "                                                    timeout=1000,\n",
    "                                                    bounds=bound_box)))\n",
    "\n",
    "\n",
    "\n",
    "\n"
   ]
  },
  {
   "cell_type": "code",
   "execution_count": 97,
   "metadata": {},
   "outputs": [
    {
     "data": {
      "text/plain": [
       "{'address_components': [{'long_name': 'Shullsburg',\n",
       "   'short_name': 'Shullsburg',\n",
       "   'types': ['locality', 'political']},\n",
       "  {'long_name': 'Lafayette County',\n",
       "   'short_name': 'Lafayette County',\n",
       "   'types': ['administrative_area_level_2', 'political']},\n",
       "  {'long_name': 'Wisconsin',\n",
       "   'short_name': 'WI',\n",
       "   'types': ['administrative_area_level_1', 'political']},\n",
       "  {'long_name': 'United States',\n",
       "   'short_name': 'US',\n",
       "   'types': ['country', 'political']},\n",
       "  {'long_name': '53586', 'short_name': '53586', 'types': ['postal_code']}],\n",
       " 'formatted_address': 'Shullsburg, WI 53586, USA',\n",
       " 'geometry': {'bounds': {'northeast': {'lat': 42.580734, 'lng': -90.2211169},\n",
       "   'southwest': {'lat': 42.566026, 'lng': -90.2463861}},\n",
       "  'location': {'lat': 42.5733354, 'lng': -90.23096},\n",
       "  'location_type': 'APPROXIMATE',\n",
       "  'viewport': {'northeast': {'lat': 42.580734, 'lng': -90.2211169},\n",
       "   'southwest': {'lat': 42.566026, 'lng': -90.2463861}}},\n",
       " 'partial_match': True,\n",
       " 'place_id': 'ChIJX-tzKGZL_YcR4yeseAjHSNg',\n",
       " 'types': ['locality', 'political']}"
      ]
     },
     "execution_count": 97,
     "metadata": {},
     "output_type": "execute_result"
    }
   ],
   "source": [
    "ex_addresses['location'].iloc[0].raw"
   ]
  },
  {
   "cell_type": "code",
   "execution_count": 95,
   "metadata": {},
   "outputs": [
    {
     "data": {
      "text/plain": [
       "address                            757 SHULLSBURG WAY, OAKLEY, CA\n",
       "jurisdiction                                               OAKLEY\n",
       "location        (Shullsburg, WI 53586, USA, (42.5733354, -90.2...\n",
       "Name: 0, dtype: object"
      ]
     },
     "execution_count": 95,
     "metadata": {},
     "output_type": "execute_result"
    }
   ],
   "source": [
    "ex_addresses.iloc[0]"
   ]
  },
  {
   "cell_type": "code",
   "execution_count": null,
   "metadata": {},
   "outputs": [],
   "source": []
  }
 ],
 "metadata": {
  "kernelspec": {
   "display_name": "Python 3",
   "language": "python",
   "name": "python3"
  },
  "language_info": {
   "codemirror_mode": {
    "name": "ipython",
    "version": 3
   },
   "file_extension": ".py",
   "mimetype": "text/x-python",
   "name": "python",
   "nbconvert_exporter": "python",
   "pygments_lexer": "ipython3",
   "version": "3.7.7"
  }
 },
 "nbformat": 4,
 "nbformat_minor": 4
}
