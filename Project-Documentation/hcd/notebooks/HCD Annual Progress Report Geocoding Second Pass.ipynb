{
 "cells": [
  {
   "cell_type": "code",
   "execution_count": 1,
   "metadata": {},
   "outputs": [],
   "source": [
    "import sys\n",
    "import getpass\n",
    "import re\n",
    "from functools import partial\n",
    "from tqdm import tqdm\n",
    "import uuid\n",
    "\n",
    "user = getpass.getuser()\n",
    "sys.dont_write_bytecode = True\n",
    "\n",
    "sys.path.insert(0, '/Users/{}/Box/DataViz Projects/Utility Code'.format(user))\n",
    "\n",
    "from utils_io import *  # initial imports\n",
    "reload_module('utils_io')  # reload after update to utils_io.py\n",
    "from utils_io import *  # reload reflects updates\n",
    "\n",
    "#geo imports\n",
    "import geopandas as gp\n",
    "import folium\n",
    "from geopandas.tools import geocode\n",
    "from geopy.geocoders import GoogleV3\n",
    "from geopy.extra.rate_limiter import RateLimiter\n",
    "from geopy import Point"
   ]
  },
  {
   "cell_type": "code",
   "execution_count": 2,
   "metadata": {},
   "outputs": [],
   "source": [
    "google_api_key = G_CREDS['dataviz_team']"
   ]
  },
  {
   "cell_type": "code",
   "execution_count": 5,
   "metadata": {},
   "outputs": [],
   "source": [
    "apr_id = 'briv-ikjp'"
   ]
  },
  {
   "cell_type": "markdown",
   "metadata": {},
   "source": [
    "## Pull Geocoded Data and Run Through Geocoder w/ updates"
   ]
  },
  {
   "cell_type": "code",
   "execution_count": 119,
   "metadata": {},
   "outputs": [
    {
     "name": "stdout",
     "output_type": "stream",
     "text": [
      "pulling data in 3 chunks of 14000 rows each\n",
      "pulling chunk 0\n",
      "pulling chunk 1\n",
      "pulling chunk 2\n",
      "took 6.4961 seconds\n"
     ]
    }
   ],
   "source": [
    "apr = pull_df_from_socrata('briv-ikjp')"
   ]
  },
  {
   "cell_type": "code",
   "execution_count": 116,
   "metadata": {},
   "outputs": [
    {
     "name": "stdout",
     "output_type": "stream",
     "text": [
      "<class 'pandas.core.frame.DataFrame'>\n",
      "RangeIndex: 30864 entries, 0 to 30863\n",
      "Data columns (total 74 columns):\n",
      " #   Column                       Non-Null Count  Dtype  \n",
      "---  ------                       --------------  -----  \n",
      " 0   mtc_id                       30864 non-null  object \n",
      " 1   mtc_type                     30667 non-null  object \n",
      " 2   mtc_year                     30864 non-null  float64\n",
      " 3   mtc_vlow_income_dr           254 non-null    float64\n",
      " 4   mtc_vlow_income_ndr          371 non-null    float64\n",
      " 5   mtc_vlow_tot                 30864 non-null  float64\n",
      " 6   mtc_low_income_dr            388 non-null    float64\n",
      " 7   mtc_low_income_ndr           821 non-null    float64\n",
      " 8   mtc_low_tot                  30864 non-null  float64\n",
      " 9   mtc_mod_income_dr            466 non-null    float64\n",
      " 10  mtc_mod_income_ndr           3269 non-null   float64\n",
      " 11  mtc_mod_tot                  30864 non-null  float64\n",
      " 12  mtc_above_mod_income         25870 non-null  float64\n",
      " 13  mtc_total_units              2053 non-null   float64\n",
      " 14  mtc_issue_dt                 30667 non-null  object \n",
      " 15  mtc_address_full             30686 non-null  object \n",
      " 16  mtc_geocode_address          30337 non-null  object \n",
      " 17  mtc_geocode_type             30864 non-null  object \n",
      " 18  mtc_mapped                   30864 non-null  bool   \n",
      " 19  mtc_lat                      30337 non-null  float64\n",
      " 20  mtc_long                     30337 non-null  float64\n",
      " 21  mtc_wkt                      30337 non-null  object \n",
      " 22  mtc_pda                      0 non-null      float64\n",
      " 23  mtc_tpa                      0 non-null      float64\n",
      " 24  mtc_housing_element_site     0 non-null      float64\n",
      " 25  mtc_notes                    0 non-null      float64\n",
      " 26  jurs_name                    30864 non-null  object \n",
      " 27  cnty_name                    30864 non-null  object \n",
      " 28  year                         30864 non-null  float64\n",
      " 29  prior_apn                    2983 non-null   object \n",
      " 30  apn                          30680 non-null  object \n",
      " 31  street_address               30686 non-null  object \n",
      " 32  project_name                 14339 non-null  object \n",
      " 33  jurs_tracking_id             23670 non-null  object \n",
      " 34  unit_cat_desc                30864 non-null  object \n",
      " 35  tenure                       30864 non-null  object \n",
      " 36  vlow_income_dr               30864 non-null  float64\n",
      " 37  vlow_income_ndr              30864 non-null  float64\n",
      " 38  low_income_dr                30864 non-null  float64\n",
      " 39  low_income_ndr               30864 non-null  float64\n",
      " 40  mod_income_dr                30864 non-null  float64\n",
      " 41  mod_income_ndr               30864 non-null  float64\n",
      " 42  above_mod_income             30864 non-null  float64\n",
      " 43  ent_approve_dt               5453 non-null   object \n",
      " 44  no_entitlements              30864 non-null  float64\n",
      " 45  bp_vlow_income_dr            30864 non-null  float64\n",
      " 46  bp_vlow_income_ndr           30864 non-null  float64\n",
      " 47  bp_low_income_dr             30864 non-null  float64\n",
      " 48  bp_low_income_ndr            30864 non-null  float64\n",
      " 49  bp_mod_income_dr             30864 non-null  float64\n",
      " 50  bp_mod_income_ndr            30864 non-null  float64\n",
      " 51  bp_above_mod_income          30864 non-null  float64\n",
      " 52  bp_issue_dt                  17812 non-null  object \n",
      " 53  no_bilding_permits           30864 non-null  float64\n",
      " 54  co_vlow_income_dr            30864 non-null  float64\n",
      " 55  co_vlow_income_ndr           30864 non-null  float64\n",
      " 56  co_low_income_dr             30864 non-null  float64\n",
      " 57  co_low_income_ndr            30864 non-null  float64\n",
      " 58  co_mod_income_dr             30864 non-null  float64\n",
      " 59  co_mod_income_ndr            30864 non-null  float64\n",
      " 60  co_above_mod_income          30864 non-null  float64\n",
      " 61  co_issue_dt                  13269 non-null  object \n",
      " 62  no_other_forms_of_readiness  30864 non-null  float64\n",
      " 63  extr_low_income_units        2053 non-null   float64\n",
      " 64  approve_sb35                 30864 non-null  object \n",
      " 65  infill_units                 15675 non-null  object \n",
      " 66  fin_assist_name              474 non-null    object \n",
      " 67  dr_type                      1110 non-null   object \n",
      " 68  no_fa_dr                     5121 non-null   object \n",
      " 69  term_aff_dr                  757 non-null    object \n",
      " 70  dem_des_units                1413 non-null   float64\n",
      " 71  dem_or_des_units             1171 non-null   object \n",
      " 72  dem_des_units_own_rent       1142 non-null   object \n",
      " 73  notes                        4474 non-null   object \n",
      "dtypes: bool(1), float64(45), object(28)\n",
      "memory usage: 17.2+ MB\n"
     ]
    }
   ],
   "source": [
    "apr.info()"
   ]
  },
  {
   "cell_type": "code",
   "execution_count": 125,
   "metadata": {},
   "outputs": [],
   "source": [
    "columns = ['mtc_id',\n",
    "           'mtc_address_full',\n",
    "           'mtc_geocode_type']\n",
    "apr_notgeo = apr[columns][apr['mtc_geocode_type'] == 'NOT_GEOCODED']"
   ]
  },
  {
   "cell_type": "code",
   "execution_count": 126,
   "metadata": {},
   "outputs": [],
   "source": [
    "#Create a geo locator\n",
    "g = GoogleV3(api_key=google_api_key)"
   ]
  },
  {
   "cell_type": "code",
   "execution_count": 127,
   "metadata": {},
   "outputs": [],
   "source": [
    "#Use a rate limiter\n",
    "bound_box = [Point(38.864245,-121.208156), Point(36.893329,-123.632497)]\n",
    "geocode = RateLimiter(g.geocode, \n",
    "                      min_delay_seconds=.025, \n",
    "                      error_wait_seconds=1)"
   ]
  },
  {
   "cell_type": "code",
   "execution_count": 129,
   "metadata": {},
   "outputs": [
    {
     "name": "stderr",
     "output_type": "stream",
     "text": [
      "100%|██████████| 527/527 [05:39<00:00,  1.55it/s]\n"
     ]
    }
   ],
   "source": [
    "#Create a location column with geolocator and time the process \n",
    "tqdm.pandas()\n",
    "bound_box = [Point(38.864245,-121.208156), Point(36.893329,-123.632497)]\n",
    "apr_notgeo['location'] = (apr_notgeo['mtc_address_full']\n",
    "                            .progress_apply(partial(geocode,\n",
    "                                                    components={\"country\": \"USA\"},\n",
    "                                                    timeout=1000,\n",
    "                                                    bounds=bound_box)))\n"
   ]
  },
  {
   "cell_type": "code",
   "execution_count": 137,
   "metadata": {},
   "outputs": [],
   "source": [
    "#Set geocode location type\n",
    "apr_notgeo['mtc_geocode_type'] = apr_notgeo['location'].map(lambda loc: loc.raw['geometry']['location_type'] \n",
    "                                                                if loc else 'NOT_GEOCODED')"
   ]
  },
  {
   "cell_type": "code",
   "execution_count": 138,
   "metadata": {},
   "outputs": [],
   "source": [
    "#Set latitude\n",
    "apr_notgeo['mtc_lat'] = (apr_notgeo['location']\n",
    "                                        .map(lambda loc: loc.latitude if loc else None))\n",
    "#Set longitude \n",
    "apr_notgeo['mtc_long'] = (apr_notgeo['location']\n",
    "                                        .map(lambda loc: loc.longitude if loc else None))"
   ]
  },
  {
   "cell_type": "code",
   "execution_count": 139,
   "metadata": {},
   "outputs": [],
   "source": [
    "#Set geocode address \n",
    "apr_notgeo['mtc_geocode_address'] = (apr_notgeo['location']\n",
    "                                      .map(lambda loc: loc.address if loc else None))"
   ]
  },
  {
   "cell_type": "code",
   "execution_count": 140,
   "metadata": {},
   "outputs": [],
   "source": [
    "#Create geodataframe from lat long coords\n",
    "apr_notgeo_geo = gp.GeoDataFrame(apr_notgeo,\n",
    "                                  geometry=gp.points_from_xy(apr_notgeo['mtc_long'],apr_notgeo['mtc_lat']),\n",
    "                                  crs=\"EPSG:4326\")"
   ]
  },
  {
   "cell_type": "code",
   "execution_count": 147,
   "metadata": {},
   "outputs": [],
   "source": [
    "#Set geometry field to null if no lat long\n",
    "apr_notgeo_geo['geometry'] = np.where(apr_notgeo_geo['mtc_geocode_type']  == 'NOT_GEOCODED',\n",
    "                                        np.nan,\n",
    "                                        apr_notgeo_geo['geometry'])"
   ]
  },
  {
   "cell_type": "code",
   "execution_count": 148,
   "metadata": {},
   "outputs": [],
   "source": [
    "#Set wkt column\n",
    "apr_notgeo_geo['mtc_wkt'] = apr_notgeo_geo['geometry'].apply(lambda x: np.nan if x is None else x.wkt)"
   ]
  },
  {
   "cell_type": "code",
   "execution_count": 149,
   "metadata": {},
   "outputs": [],
   "source": [
    "#Create checkbox column to indicate whether or not the project had been mapped\n",
    "apr_notgeo_geo['mtc_mapped'] = np.where(apr_notgeo_geo['mtc_geocode_type'] == 'NOT_GEOCODED', False,True)"
   ]
  },
  {
   "cell_type": "code",
   "execution_count": 152,
   "metadata": {},
   "outputs": [],
   "source": [
    "apr_geocode_updated_geo = apr_notgeo_geo[apr_notgeo_geo['mtc_mapped'] == True]"
   ]
  },
  {
   "cell_type": "code",
   "execution_count": 153,
   "metadata": {},
   "outputs": [
    {
     "data": {
      "text/plain": [
       "(68, 10)"
      ]
     },
     "execution_count": 153,
     "metadata": {},
     "output_type": "execute_result"
    }
   ],
   "source": [
    "apr_geocode_updated_geo.shape"
   ]
  },
  {
   "cell_type": "code",
   "execution_count": 154,
   "metadata": {},
   "outputs": [],
   "source": [
    "final_columns = ['mtc_id',\n",
    "                 'mtc_address_full',\n",
    "                 'mtc_geocode_address',\n",
    "                 'mtc_geocode_type',\n",
    "                 'mtc_mapped',\n",
    "                 'mtc_lat',\n",
    "                 'mtc_long',\n",
    "                 'mtc_wkt',\n",
    "                 'mtc_mapped']"
   ]
  },
  {
   "cell_type": "code",
   "execution_count": 155,
   "metadata": {},
   "outputs": [
    {
     "name": "stdout",
     "output_type": "stream",
     "text": [
      "upserting data to Socrata in 1 chunks of 68 rows each\n"
     ]
    },
    {
     "name": "stderr",
     "output_type": "stream",
     "text": [
      "/Users/jcroff/Box/DataViz Projects/Utility Code/utils_analytics.py:1181: UserWarning: DataFrame columns are not unique, some columns will be omitted.\n",
      "  upsert_data_raw = df.to_dict(orient='records')\n"
     ]
    },
    {
     "name": "stdout",
     "output_type": "stream",
     "text": [
      "upserted chunk 0\n",
      "data upserted to briv-ikjp\n",
      "took 1.7823 seconds\n"
     ]
    }
   ],
   "source": [
    "upsert_df_socrata(apr_geocode_updated_geo[final_columns],'briv-ikjp')"
   ]
  }
 ],
 "metadata": {
  "kernelspec": {
   "display_name": "Python 3",
   "language": "python",
   "name": "python3"
  },
  "language_info": {
   "codemirror_mode": {
    "name": "ipython",
    "version": 3
   },
   "file_extension": ".py",
   "mimetype": "text/x-python",
   "name": "python",
   "nbconvert_exporter": "python",
   "pygments_lexer": "ipython3",
   "version": "3.7.7"
  }
 },
 "nbformat": 4,
 "nbformat_minor": 4
}
