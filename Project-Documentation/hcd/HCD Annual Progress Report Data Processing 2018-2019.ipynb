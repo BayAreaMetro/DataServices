{
 "cells": [
  {
   "cell_type": "code",
   "execution_count": 1,
   "metadata": {},
   "outputs": [],
   "source": [
    "import sys\n",
    "import getpass\n",
    "\n",
    "user = getpass.getuser()\n",
    "sys.dont_write_bytecode = True\n",
    "\n",
    "sys.path.insert(0, '/Users/{}/Box/DataViz Projects/Utility Code'.format(user))\n",
    "\n",
    "from utils_io import *\n",
    "\n",
    "#geo imports\n",
    "import geopandas as gp"
   ]
  },
  {
   "cell_type": "markdown",
   "metadata": {},
   "source": [
    "# Housing and Community Development Annual Progress Report Data Processing <a name=\"top\"></a>\n",
    "\n",
    "## Background\n",
    "\n",
    "### Annual Progress Reports\n",
    "\n",
    "**[HCD Regional Housing Needs Allocation and Housing Element Website](https://www.hcd.ca.gov/community-development/housing-element/index.shtml)**\n",
    "\n",
    "Each jurisdiction (city council or board of supervisors) must prepare an annual progress report on the jurisdiction’s status and progress in implementing its housing element. (Government Code Section 65400.)\n",
    "\n",
    "Each jurisdiction’s Annual Progress Report (APR) must be submitted to HCD and the Governor’s Office of Planning and Research (OPR) by April 1 of each year (covering the previous calendar year).\n",
    "\n",
    "New APR form and instructions - for calendar year (CY) 2018 and 2019\n",
    "\n",
    "AB 879 and SB 35 of the 2017 Housing Package, as well as AB 1486 (2019), added new data requirements for the Housing Element Annual Progress Reports (APRs). These changes are reflected in the new APR form and instructions, which are posted below.\n",
    "\n",
    "- [APR form for CY 2018 and 2019](https://www.hcd.ca.gov/community-development/housing-element/docs/Housing-Element-Annual-Progress-Report-2019.xlsm) (XLS)\n",
    "- [APR instructions for CY 2018 and 2019](https://www.hcd.ca.gov/community-development/housing-element/docs/Housing-Element-Annual-Progress-Report-Instructions-2019.pdf) (PDF)\n",
    "\n",
    "**Annual Progress Report Tables**\n",
    "\n",
    "1. Table A - Housing Development Applications \n",
    "2. Table A2 - New Construction, Entitled, Permits, and Completed Units\n",
    "3. Table B - Regional Housing Needs Allocation Progress – Permitted Units Issued By Affordability\n",
    "4. Table C - Sites Identified or Rezoned to Accommodate Shortfall Housing Need\n",
    "5. Table D - Program Implementation Status pursuant to Government Code section 65583 \n",
    "6. Table E - Commercial Development Bonus Approved pursuant to Government Code\n",
    "\n",
    "## Approach\n",
    "\n",
    "## Process\n",
    "\n",
    "## Data Sources\n",
    "\n",
    "## Table of Contents\n",
    "\n",
    "1. [Pre-Processing Steps](#preprocessing)\n"
   ]
  },
  {
   "cell_type": "markdown",
   "metadata": {},
   "source": [
    "## Pre-Processing Steps <a name=\"preprocessing\"></a>\n",
    "**[Skip to next step](#)**"
   ]
  },
  {
   "cell_type": "code",
   "execution_count": null,
   "metadata": {},
   "outputs": [],
   "source": []
  },
  {
   "cell_type": "code",
   "execution_count": 24,
   "metadata": {},
   "outputs": [],
   "source": [
    "#set working directory\n",
    "work_dir = os.path.join('/Users',\n",
    "                       user,\n",
    "                       'Box',\n",
    "                       'DataViz Projects',\n",
    "                       'Data Services',\n",
    "                       'Housing',\n",
    "                       '2020')"
   ]
  },
  {
   "cell_type": "code",
   "execution_count": 26,
   "metadata": {},
   "outputs": [
    {
     "data": {
      "text/plain": [
       "['bay area extract Table A 2018-2019.xlsx',\n",
       " 'HCD APR_Data 07312020.csv',\n",
       " 'ORIGINAL Table A 2018-2019.xlsx',\n",
       " 'ORIGINAL Table A2 Report with Data Dictionary.xlsx',\n",
       " 'ORIGINAL Table D Report.xlsx',\n",
       " 'SOCRATA FALSE TYPE NOTES.xlsx',\n",
       " 'Table A2 Report with Data Dictionary.xlsx',\n",
       " 'Table D Report.xlsx',\n",
       " '~$ORIGINAL Table A 2018-2019.xlsx',\n",
       " '~$ORIGINAL Table A2 Report with Data Dictionary.xlsx',\n",
       " '~$ORIGINAL Table D Report.xlsx']"
      ]
     },
     "execution_count": 26,
     "metadata": {},
     "output_type": "execute_result"
    }
   ],
   "source": [
    "#list files in working directory\n",
    "os.listdir(os.path.join(work_dir,\n",
    "                       '2019 Original APRs'))"
   ]
  },
  {
   "cell_type": "code",
   "execution_count": null,
   "metadata": {},
   "outputs": [],
   "source": [
    "#read "
   ]
  },
  {
   "cell_type": "markdown",
   "metadata": {},
   "source": [
    "**[Back to Top](#top)**\n",
    "\n",
    "**[Back to Section Top](#)**"
   ]
  },
  {
   "cell_type": "code",
   "execution_count": null,
   "metadata": {},
   "outputs": [],
   "source": []
  }
 ],
 "metadata": {
  "kernelspec": {
   "display_name": "Python 3",
   "language": "python",
   "name": "python3"
  },
  "language_info": {
   "codemirror_mode": {
    "name": "ipython",
    "version": 3
   },
   "file_extension": ".py",
   "mimetype": "text/x-python",
   "name": "python",
   "nbconvert_exporter": "python",
   "pygments_lexer": "ipython3",
   "version": "3.7.7"
  }
 },
 "nbformat": 4,
 "nbformat_minor": 4
}
