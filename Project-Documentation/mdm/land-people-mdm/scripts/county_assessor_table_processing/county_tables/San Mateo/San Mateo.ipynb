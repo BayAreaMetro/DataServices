{
 "cells": [
  {
   "cell_type": "code",
   "execution_count": null,
   "metadata": {},
   "outputs": [],
   "source": [
    "import os\n",
    "import sys\n",
    "import pandas as pd\n",
    "\n",
    "sys.path.insert(0, '../')\n",
    "from utils import (base_path, process_fwf_data,\n",
    "                   concat_data_add_source, create_county_redshift_table)"
   ]
  },
  {
   "cell_type": "code",
   "execution_count": null,
   "metadata": {},
   "outputs": [],
   "source": [
    "county_name = 'San_Mateo'"
   ]
  },
  {
   "cell_type": "markdown",
   "metadata": {},
   "source": [
    "# I. Initial data processing \n",
    "\n",
    "**Start:** file(s) in format given by county assessor\n",
    "\n",
    "**End:** csv file for each data source"
   ]
  },
  {
   "cell_type": "code",
   "execution_count": null,
   "metadata": {},
   "outputs": [],
   "source": [
    "# initialize main data dictionary\n",
    "data_dict = {}\n",
    "\n",
    "data_dir = os.path.join(base_path,\n",
    "                       'San Mateo County Assessor Data',\n",
    "                       'BayAreaMetro')"
   ]
  },
  {
   "cell_type": "markdown",
   "metadata": {},
   "source": [
    "## Condo"
   ]
  },
  {
   "cell_type": "code",
   "execution_count": null,
   "metadata": {},
   "outputs": [],
   "source": [
    "fname = 'condo'\n",
    "\n",
    "d = {'APN': 9,\n",
    "    'COMPLEX NAME': 60,\n",
    "    'APARTMENT CONVERSION (Y/N)': 1,\n",
    "    'BUILDING FLOORS': 2,\n",
    "    'NO OF UNITS': 4,\n",
    "    'SECURITY': 1,\n",
    "    'ARCHITECTURAL APPEAL': 1,\n",
    "    'POOL': 1,\n",
    "    'TENNIS COURT': 1,\n",
    "    'COMMON GREEN': 1,\n",
    "    'COMMON RECREATION': 1,\n",
    "    'YEAR BUILT': 4,\n",
    "    'EFFECTIVE YEAR': 4,\n",
    "    'QUALITY RATING ': 1,\n",
    "    'CONDITION': 1,\n",
    "    'LIVING ROOM': 2,\n",
    "    'DINING ROOM': 2,\n",
    "    'KITCHEN': 2,\n",
    "    'FAMILY ROOM': 2,\n",
    "    'DEN LIBRARY': 2,\n",
    "    '# OF BEDROOMS': 2,\n",
    "    'SUPPLEMENTAL ROOM': 2,\n",
    "    'TOTAL ROOMS': 3,\n",
    "    'BATHS': 2,\n",
    "    'BASE AREA': 5,\n",
    "    'GARAGE AREA': 4,\n",
    "    'STORIES IN UNIT': 2,\n",
    "    'ENDUNIT': 1,\n",
    "    'GROUND FLOOR': 1,\n",
    "    'TOP FLOOR': 1,\n",
    "    'FIREPLACES': 2,\n",
    "    'CENTRAL HEATING': 1,\n",
    "    'CENTRAL COOLING': 1,\n",
    "    'CARPORT': 1,\n",
    "    'STALLS': 2}\n",
    "\n",
    "data_dict[fname] = process_fwf_data(data_folder=data_dir, fname=fname,\n",
    "                                    colwidths_dict=d, county_name='San_Mateo')\n",
    "\n",
    "# reload to check conversion\n",
    "df = pd.read_csv(data_dict[fname]['df_path'])\n",
    "df.head()"
   ]
  },
  {
   "cell_type": "markdown",
   "metadata": {},
   "source": [
    "## Secured Master"
   ]
  },
  {
   "cell_type": "code",
   "execution_count": null,
   "metadata": {},
   "outputs": [],
   "source": [
    "fname = 'FROLL2018'\n",
    "\n",
    "d = {'APN': 9,\n",
    "    'TRA': 6,\n",
    "    'OWNER': 40,\n",
    "    'SECOND OWNER': 40,\n",
    "    'C/O NAME OR THIRD OWNER': 40,\n",
    "    'MAILING ADDRESS 1': 60,\n",
    "    'MAILING ADDRESS 2': 60,\n",
    "    'MAILING ADDRESS 3': 60,\n",
    "    'MAILING CITY': 20,\n",
    "    'MAILING STATE': 2,\n",
    "    'MAILING ZIP': 9,\n",
    "    'MAILING COUNTRY': 4,\n",
    "    'SITUS NO1': 8,\n",
    "    'SITUS NO2 ': 8,\n",
    "    'SITUS FRACTION': 3,\n",
    "    'SITUS DIRECTION': 3,\n",
    "    'SITUS STREET': 32,\n",
    "    'SITUS STREET TYPE': 4,\n",
    "    'SITUS STREET BOX': 8,\n",
    "    'SITUS CITY': 20,\n",
    "    'PUC CODE': 2,\n",
    "    'LEGAL DESCRIPTIONS': 220,\n",
    "    'LAND VALUE': 12,\n",
    "    'IMPROVEMENT VALUE': 12,\n",
    "    'ROOT VALUE': 12,\n",
    "    'MINERAL VALUE': 12,\n",
    "    'PERSONAL PROPERTY VALUE': 12,\n",
    "    'FIXTURE VALUE': 12,\n",
    "    'EXEMPTION CODE': 4,\n",
    "    'EXEMPTION 1': 12,\n",
    "    'EXEMPTION 2': 12,\n",
    "    'NET VALUE': 12,\n",
    "    'DATE OF RECORD': 8,\n",
    "    'DOCUMENT NUMBER': 11,\n",
    "    'DATE OF LAST SALE': 8,\n",
    "    'LAST SALE AMOUNT': 12}\n",
    "\n",
    "data_dict[fname] = process_fwf_data(data_folder=data_dir, fname=fname,\n",
    "                                    colwidths_dict=d, county_name='San_Mateo')\n",
    "\n",
    "# reload to check conversion\n",
    "df = pd.read_csv(data_dict[fname]['df_path'])\n",
    "df.head()"
   ]
  },
  {
   "cell_type": "markdown",
   "metadata": {},
   "source": [
    "## Hotel.Motel"
   ]
  },
  {
   "cell_type": "code",
   "execution_count": null,
   "metadata": {},
   "outputs": [],
   "source": [
    "fname = 'hotel'\n",
    "\n",
    "d = {'APN': 9,\n",
    "    'YEAR BUILT': 4,\n",
    "    'ACRES': 9,\n",
    "    'GROSS BUILDING AREA': 9,\n",
    "    'HOTEL CLASS': 10,\n",
    "    'LAND AREA': 9,\n",
    "    'LOCATION CODE': 10,\n",
    "    'CONSTRUCTION CLASS': 10,\n",
    "    'QUALITY CLASS': 10,\n",
    "    'STORIES': 9,\n",
    "    'TOTAL ROOMS': 9}\n",
    "\n",
    "data_dict[fname] = process_fwf_data(data_folder=data_dir, fname=fname,\n",
    "                                    colwidths_dict=d, county_name='San_Mateo')\n",
    "\n",
    "# reload to check conversion\n",
    "df = pd.read_csv(data_dict[fname]['df_path'])\n",
    "df.head()"
   ]
  },
  {
   "cell_type": "markdown",
   "metadata": {},
   "source": [
    "## Industrial"
   ]
  },
  {
   "cell_type": "code",
   "execution_count": null,
   "metadata": {},
   "outputs": [],
   "source": [
    "fname = 'industrial'\n",
    "\n",
    "d = {'APN': 9,\n",
    "    'MARKET CLASS': 10,\n",
    "    'STORIES': 12,\n",
    "    'STORY HEIGHT': 9,\n",
    "    'GROSS BUILDING AREA': 9,\n",
    "    'NET RENT AREA': 9,\n",
    "    'WAREHOUSE AREA': 9,\n",
    "    'SHOP AREA': 9,\n",
    "    'STORAGE AREA': 9,\n",
    "    'REFRIGERATE AREA': 9,\n",
    "    'OFFICE AREA': 9,\n",
    "    'MEZZANINE AREA': 9,\n",
    "    'MISC AREA': 9,\n",
    "    'QUALITY RANK': 10,\n",
    "    'YEAR BUILT': 9,\n",
    "    'WALL HEIGHT': 9,\n",
    "    'BUILDING WIDTH': 9,\n",
    "    'BUILDING LENGTH': 9,\n",
    "    'LAND SQ. FEET': 9,\n",
    "    'NO OF ACRES': 12,\n",
    "    'PARKING SPACES': 9,\n",
    "    'DOCK DOOR COUNT': 9}\n",
    "\n",
    "data_dict[fname] = process_fwf_data(data_folder=data_dir, fname=fname,\n",
    "                                    colwidths_dict=d, county_name='San_Mateo')\n",
    "\n",
    "# reload to check conversion\n",
    "df = pd.read_csv(data_dict[fname]['df_path'])\n",
    "df.head()"
   ]
  },
  {
   "cell_type": "markdown",
   "metadata": {},
   "source": [
    "## Mobilehome"
   ]
  },
  {
   "cell_type": "code",
   "execution_count": null,
   "metadata": {},
   "outputs": [],
   "source": [
    "fname = 'mobilehome'\n",
    "\n",
    "d = {'APN': 9,\n",
    "    'SPACE NO': 10,\n",
    "    'MANUFACTURER ': 10,\n",
    "    'TRADE NAME': 10,\n",
    "    'YEAR MANUFACTURED': 4,\n",
    "    'FLOOR PLAN': 10,\n",
    "    'WIDTH': 5,\n",
    "    'LENGTH': 5,\n",
    "    'TOTAL SQ FT': 6}\n",
    "\n",
    "data_dict[fname] = process_fwf_data(data_folder=data_dir, fname=fname,\n",
    "                                    colwidths_dict=d, county_name='San_Mateo')\n",
    "\n",
    "# reload to check conversion\n",
    "df = pd.read_csv(data_dict[fname]['df_path'])\n",
    "df.head()"
   ]
  },
  {
   "cell_type": "markdown",
   "metadata": {},
   "source": [
    "## Multi Family"
   ]
  },
  {
   "cell_type": "code",
   "execution_count": null,
   "metadata": {},
   "outputs": [],
   "source": [
    "fname = 'multifam'\n",
    "\n",
    "d = {'APN': 9,\n",
    "    'YEAR BUILT': 9,\n",
    "    'PROPERTY USE CODE': 2,\n",
    "    'TYPE': 10,\n",
    "    '# OF BLDG': 9,\n",
    "    '# OF STORY': 9,\n",
    "    'GROSS BLDG AREA': 9,\n",
    "    'NET RENT AREA': 9,\n",
    "    '# OF STUDIO': 9,\n",
    "    '# OF 1 BEDROOM/1 BATH': 9,\n",
    "    '# OF 1 BEDROOM/1 BATH AVE AREA': 9,\n",
    "    '# OF 2 BEDROOMS/1 BATH ': 9,\n",
    "    '# OF 2 BEDROOMS/1 BATH AVE AREA': 9,\n",
    "    '# OF 2 BEDROOMS/2 BATHS': 9,\n",
    "    '# OF 2 BEDROOMS/2 BATHS AVE AREA': 9,\n",
    "    '# OF BEDROOMS': 9,\n",
    "    '# OF DINING ROOMS': 9,\n",
    "    '# OF OTHER ROOMS': 9,\n",
    "    'TOTAL ROOMS': 9,\n",
    "    'BATHROOM': 9,\n",
    "    'HALF BATH': 9,\n",
    "    'LAUNDRY ROOM': 10,\n",
    "    'STORAGE': 10,\n",
    "    'RECREATION ROOM': 10,\n",
    "    'GYM': 10,\n",
    "    'DETACHED GARAGE ': 10,\n",
    "    'MULTI-STORY': 10,\n",
    "    'FINISHED': 10,\n",
    "    'GARAGE STALL WITH DOOR': 9,\n",
    "    'GARAGE STALL WITHOUT DOOR': 9,\n",
    "    'CARPORT STALL': 9,\n",
    "    'OPEN AIR SPACE': 9,\n",
    "    'ELEVATOR': 10,\n",
    "    'FIREPLACE': 9,\n",
    "    'WIDTH': 12,\n",
    "    'DEPTH': 12,\n",
    "    'ACRES': 9,\n",
    "    'SQ FT ACTUAL': 9,\n",
    "    'SQ FT USABLE': 9,\n",
    "    'GRADE': 10,\n",
    "    'CUL-DE-SAC': 10,\n",
    "    'CORNER': 10,\n",
    "    'NON-ST FRONT': 10,\n",
    "    'WATERFRONT': 10,\n",
    "    'DOCKING RIGHT': 10,\n",
    "    'COMMON GREEN': 10,\n",
    "    'COMMON RECREATION': 10,\n",
    "    'EASEMENTS': 10,\n",
    "    'UNITS ALLOWED': 9}\n",
    "\n",
    "data_dict[fname] = process_fwf_data(data_folder=data_dir, fname=fname,\n",
    "                                    colwidths_dict=d, county_name='San_Mateo')\n",
    "\n",
    "# reload to check conversion\n",
    "df = pd.read_csv(data_dict[fname]['df_path'])\n",
    "df.head()"
   ]
  },
  {
   "cell_type": "markdown",
   "metadata": {},
   "source": [
    "## Office"
   ]
  },
  {
   "cell_type": "code",
   "execution_count": null,
   "metadata": {},
   "outputs": [],
   "source": [
    "fname = 'office'\n",
    "\n",
    "d = {'APN': 9,\n",
    "    'MARKET CLASS': 10,\n",
    "    'STORIES': 9,\n",
    "    'STORY HEIGHT': 9,\n",
    "    'GROSS BUILDING AREA': 9,\n",
    "    'NET RENT AREA': 9,\n",
    "    'STORAGE AREA': 9,\n",
    "    'OFFICE AREA': 9,\n",
    "    'MEZZANINE AREA': 9,\n",
    "    'QUALITY RANK': 10,\n",
    "    'YEAR BUILT': 12,\n",
    "    'LAND SQ. FEET': 12,\n",
    "    'NO OF ACRES': 12,\n",
    "    'RENOVATE YEAR': 9,\n",
    "    'UNDERGROUND PARKING SPACE': 9,\n",
    "    'UNDERGROUND PARKING AREA': 9,\n",
    "    'FREIGHT ELEVATOR': 10,\n",
    "    'ELEVATOR BANK': 10,\n",
    "    'BASEMENT AREA': 9,\n",
    "    'SURFACE PARKING SPACE': 9,\n",
    "    'STRUCTURE AREA': 9,\n",
    "    'PARKING STRUCTURE': 10,\n",
    "    'STRUCTURE PARKING SPACE': 9,\n",
    "    'STRUCTURE STORY': 9,\n",
    "    'RETAIL AREA': 9}\n",
    "\n",
    "data_dict[fname] = process_fwf_data(data_folder=data_dir, fname=fname,\n",
    "                                    colwidths_dict=d, county_name='San_Mateo')\n",
    "\n",
    "# reload to check conversion\n",
    "df = pd.read_csv(data_dict[fname]['df_path'])\n",
    "df.head()"
   ]
  },
  {
   "cell_type": "markdown",
   "metadata": {},
   "source": [
    "## Single Family"
   ]
  },
  {
   "cell_type": "code",
   "execution_count": null,
   "metadata": {},
   "outputs": [],
   "source": [
    "fname = 'resident'\n",
    "\n",
    "d = {'APN': 9,\n",
    "    'YEAR BUILT': 4,\n",
    "    'PROPERTY USE CODE': 2,\n",
    "    'LIVING ROOM': 2,\n",
    "    'DINING ROOM': 2,\n",
    "    'KITCHEN': 2,\n",
    "    'FAMILY ROOM': 2,\n",
    "    '# OF BEDROOM': 2,\n",
    "    'DEN LIBRARY': 2,\n",
    "    'SUPPLEMENTAL ROOM': 2,\n",
    "    'TOTAL ROOM': 3,\n",
    "    '# OF BATHROOM': 6,\n",
    "    'CENTRAL HEATING': 10,\n",
    "    'CENTRAL COOLING': 10,\n",
    "    'GARAGE IN BASEMENT': 10,\n",
    "    'CARPORT': 10,\n",
    "    'STALLS': 9,\n",
    "    'PATTERN': 10,\n",
    "    'BASE AREA': 9,\n",
    "    'FIRST FLOOR AREA': 9,\n",
    "    'SECOND FLOOR AREA': 9,\n",
    "    'THIRD FLOOR AREA': 9,\n",
    "    'ATTIC AREA': 9,\n",
    "    'FINISHED BASEMENT AREA': 9,\n",
    "    'BASEMENT AREA': 9,\n",
    "    'AREA OF ADDITION': 9,\n",
    "    'STORIES': 12,\n",
    "    'GARAGE AREA': 9,\n",
    "    'POOL YEAR': 9,\n",
    "    'WIDTH': 12,\n",
    "    'DEPTH': 12,\n",
    "    'SQ FEET ACTUAL': 9,\n",
    "    'SQ FEET USABLE': 9,\n",
    "    'ACRES': 9,\n",
    "    'CORNER': 10,\n",
    "    'ALLEY': 10,\n",
    "    'NON-STREET FRONT': 10,\n",
    "    'COMMON GREEN': 10,\n",
    "    'COMMON RECREATION ROOM': 10,\n",
    "    'WATER FRONT': 10}\n",
    "\n",
    "data_dict[fname] = process_fwf_data(data_folder=data_dir, fname=fname,\n",
    "                                    colwidths_dict=d, county_name='San_Mateo')\n",
    "\n",
    "# reload to check conversion\n",
    "df = pd.read_csv(data_dict[fname]['df_path'])\n",
    "df.head()"
   ]
  },
  {
   "cell_type": "markdown",
   "metadata": {},
   "source": [
    "## Sales History"
   ]
  },
  {
   "cell_type": "code",
   "execution_count": null,
   "metadata": {},
   "outputs": [],
   "source": [
    "fname = 'salehist'\n",
    "\n",
    "d = {'APN': 9,\n",
    "    'SALE DATE': 8,\n",
    "    'DOCUMENT #': 10,\n",
    "    'SALE AMOUNT': 12}\n",
    "\n",
    "data_dict[fname] = process_fwf_data(data_folder=data_dir, fname=fname,\n",
    "                                    colwidths_dict=d, county_name='San_Mateo')\n",
    "\n",
    "# reload to check conversion\n",
    "df = pd.read_csv(data_dict[fname]['df_path'])\n",
    "df.head()"
   ]
  },
  {
   "cell_type": "markdown",
   "metadata": {},
   "source": [
    "# II. Combine data and add source"
   ]
  },
  {
   "cell_type": "code",
   "execution_count": null,
   "metadata": {},
   "outputs": [],
   "source": [
    "concat_data_add_source(county_name=county_name)"
   ]
  },
  {
   "cell_type": "markdown",
   "metadata": {},
   "source": [
    "# III. Create Redshift table"
   ]
  },
  {
   "cell_type": "code",
   "execution_count": null,
   "metadata": {},
   "outputs": [],
   "source": [
    "create_county_redshift_table(county_name)"
   ]
  },
  {
   "cell_type": "code",
   "execution_count": null,
   "metadata": {},
   "outputs": [],
   "source": []
  }
 ],
 "metadata": {
  "kernelspec": {
   "display_name": "Python 3",
   "language": "python",
   "name": "python3"
  },
  "language_info": {
   "codemirror_mode": {
    "name": "ipython",
    "version": 3
   },
   "file_extension": ".py",
   "mimetype": "text/x-python",
   "name": "python",
   "nbconvert_exporter": "python",
   "pygments_lexer": "ipython3",
   "version": "3.7.3"
  }
 },
 "nbformat": 4,
 "nbformat_minor": 2
}
