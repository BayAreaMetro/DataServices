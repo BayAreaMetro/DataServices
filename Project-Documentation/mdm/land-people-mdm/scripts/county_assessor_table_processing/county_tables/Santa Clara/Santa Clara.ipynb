{
 "cells": [
  {
   "cell_type": "code",
   "execution_count": null,
   "metadata": {},
   "outputs": [],
   "source": [
    "import os\n",
    "import sys\n",
    "\n",
    "sys.path.insert(0, '../')\n",
    "from utils import (base_path, process_tabular_data, modify_step_1_data,\n",
    "                   concat_data_add_source, create_county_redshift_table)"
   ]
  },
  {
   "cell_type": "code",
   "execution_count": null,
   "metadata": {},
   "outputs": [],
   "source": [
    "county_name = 'Santa_Clara'"
   ]
  },
  {
   "cell_type": "markdown",
   "metadata": {},
   "source": [
    "# I. Initial data processing \n",
    "\n",
    "**Start:** file(s) in format given by county assessor\n",
    "\n",
    "**End:** csv file for each data source"
   ]
  },
  {
   "cell_type": "markdown",
   "metadata": {},
   "source": [
    "### Initialize Step I inputs and outputs"
   ]
  },
  {
   "cell_type": "code",
   "execution_count": null,
   "metadata": {},
   "outputs": [],
   "source": [
    "input_dir = os.path.join(base_path, 'Santa Clara County Assessor Data')\n",
    "df_dict = {}\n",
    "step_1_d = {'mf901': {'input': 'mf901-csv.csv'},\n",
    "            'pc851agm': {'input': 'pc851agm-csv.csv'},\n",
    "            'pc851ci': {'input': 'pc851ci-csv.csv'},\n",
    "            'pc851mf': {'input': 'pc851mf-csv.csv'},\n",
    "            'pc851sf': {'input': 'pc851sf-csv.csv'},\n",
    "            'sf902': {'input': 'sf902-csv.csv'}\n",
    "            }"
   ]
  },
  {
   "cell_type": "markdown",
   "metadata": {},
   "source": [
    "## Assessor's Master File"
   ]
  },
  {
   "cell_type": "code",
   "execution_count": null,
   "metadata": {},
   "outputs": [],
   "source": [
    "# mf901\n",
    "\n",
    "data_id = 'mf901'\n",
    "df_dict[data_id] = process_tabular_data(county_name, data_id, step_1_d, input_dir)\n",
    "modify_step_1_data(county_name, data_id, df_dict, step_1_d, building_id=False)"
   ]
  },
  {
   "cell_type": "markdown",
   "metadata": {},
   "source": [
    "## Agricultural"
   ]
  },
  {
   "cell_type": "code",
   "execution_count": null,
   "metadata": {},
   "outputs": [],
   "source": [
    "# pc851agm\n",
    "\n",
    "data_id = 'pc851agm'\n",
    "df_dict[data_id] = process_tabular_data(county_name, data_id, step_1_d, input_dir)\n",
    "modify_step_1_data(county_name, data_id, df_dict, step_1_d, building_id=False)"
   ]
  },
  {
   "cell_type": "markdown",
   "metadata": {},
   "source": [
    "## Commercial"
   ]
  },
  {
   "cell_type": "code",
   "execution_count": null,
   "metadata": {},
   "outputs": [],
   "source": [
    "# pc851ci\n",
    "\n",
    "data_id = 'pc851ci'\n",
    "df_dict[data_id] = process_tabular_data(county_name, data_id, step_1_d, input_dir)\n",
    "modify_step_1_data(county_name, data_id, df_dict, step_1_d, building_id=True)"
   ]
  },
  {
   "cell_type": "markdown",
   "metadata": {},
   "source": [
    "## Multi Family"
   ]
  },
  {
   "cell_type": "code",
   "execution_count": null,
   "metadata": {},
   "outputs": [],
   "source": [
    "# pc851mf\n",
    "\n",
    "data_id = 'pc851mf'\n",
    "df_dict[data_id] = process_tabular_data(county_name, data_id, step_1_d, input_dir)\n",
    "modify_step_1_data(county_name, data_id, df_dict, step_1_d, building_id=True)"
   ]
  },
  {
   "cell_type": "markdown",
   "metadata": {},
   "source": [
    "## Single Family"
   ]
  },
  {
   "cell_type": "code",
   "execution_count": null,
   "metadata": {},
   "outputs": [],
   "source": [
    "# pc851sf\n",
    "data_id = 'pc851sf'\n",
    "df_dict[data_id] = process_tabular_data(county_name, data_id, step_1_d, input_dir)\n",
    "modify_step_1_data(county_name, data_id, df_dict, step_1_d, building_id=True)"
   ]
  },
  {
   "cell_type": "markdown",
   "metadata": {},
   "source": [
    "## Unknown File"
   ]
  },
  {
   "cell_type": "code",
   "execution_count": null,
   "metadata": {},
   "outputs": [],
   "source": [
    "# sf902\n",
    "\n",
    "data_id = 'sf902'\n",
    "df_dict[data_id] = process_tabular_data(county_name, data_id, step_1_d, input_dir)\n",
    "modify_step_1_data(county_name, data_id, df_dict, step_1_d, building_id=False)"
   ]
  },
  {
   "cell_type": "markdown",
   "metadata": {},
   "source": [
    "# II. Combine data"
   ]
  },
  {
   "cell_type": "code",
   "execution_count": null,
   "metadata": {},
   "outputs": [],
   "source": [
    "replace_d = {'?': None}\n",
    "\n",
    "conv_d = {'RENTABLE_AREA': float,\n",
    "          'TOTAL_AREA': float}\n",
    "\n",
    "concat_data_add_source(county_name=county_name, replace_d=replace_d, conv_d=conv_d)"
   ]
  },
  {
   "cell_type": "markdown",
   "metadata": {},
   "source": [
    "# III. Create Redshift table"
   ]
  },
  {
   "cell_type": "code",
   "execution_count": null,
   "metadata": {},
   "outputs": [],
   "source": [
    "create_county_redshift_table(county_name)"
   ]
  },
  {
   "cell_type": "code",
   "execution_count": null,
   "metadata": {},
   "outputs": [],
   "source": []
  }
 ],
 "metadata": {
  "kernelspec": {
   "display_name": "Python 3",
   "language": "python",
   "name": "python3"
  },
  "language_info": {
   "codemirror_mode": {
    "name": "ipython",
    "version": 3
   },
   "file_extension": ".py",
   "mimetype": "text/x-python",
   "name": "python",
   "nbconvert_exporter": "python",
   "pygments_lexer": "ipython3",
   "version": "3.7.3"
  }
 },
 "nbformat": 4,
 "nbformat_minor": 2
}
