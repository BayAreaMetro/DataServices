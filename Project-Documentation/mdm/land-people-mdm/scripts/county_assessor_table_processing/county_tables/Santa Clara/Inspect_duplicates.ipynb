{
 "cells": [
  {
   "cell_type": "code",
   "execution_count": null,
   "metadata": {},
   "outputs": [],
   "source": [
    "import os\n",
    "import sys\n",
    "import pandas as pd\n",
    "\n",
    "sys.path.insert(0, '../')\n",
    "from utils import drop_dups_with_less_info"
   ]
  },
  {
   "cell_type": "code",
   "execution_count": null,
   "metadata": {},
   "outputs": [],
   "source": [
    "df_dir = 'step_1_outputs/csv_data'"
   ]
  },
  {
   "cell_type": "markdown",
   "metadata": {},
   "source": [
    "# Inspecting duplicate APNs and building_ids\n",
    "\n",
    "Tables provided by Santa Clara with duplicate APNs:\n",
    "\n",
    "- Commercial: pc851ci\n",
    "- Multi-Family: pc851mf\n",
    "- Single-Family: pc851sf\n",
    "\n",
    "This step will be between Steps I and II of county assessor table processing. Output will be modified county tables in each county output folder (on S3 and locally)"
   ]
  },
  {
   "cell_type": "markdown",
   "metadata": {},
   "source": [
    "## Commercial: pc851ci\n",
    "\n",
    "**Conclusion:** Some information may not be up to date\n",
    "\n",
    "**Recommendation:** Select record with more information (less NaN and 0 values)"
   ]
  },
  {
   "cell_type": "code",
   "execution_count": null,
   "metadata": {},
   "outputs": [],
   "source": [
    "pc851ci = pd.read_csv(os.path.join(df_dir, 'Santa_Clara_Assessor_Data_pc851ci.csv'))\n",
    "\n",
    "pc851ci['building_id'] = ('A' + pc851ci['APN'].astype(str)\n",
    "                          + 'B' + pc851ci['BUILDING_NUM'].astype(str))"
   ]
  },
  {
   "cell_type": "code",
   "execution_count": null,
   "metadata": {},
   "outputs": [],
   "source": [
    "vcs = pc851ci['building_id'].value_counts()\n",
    "dup_ids = vcs[vcs > 1].index\n",
    "\n",
    "mini_pc851ci = pc851ci[pc851ci['building_id'].isin(dup_ids)]\n",
    "mini_pc851ci.T"
   ]
  },
  {
   "cell_type": "code",
   "execution_count": null,
   "metadata": {},
   "outputs": [],
   "source": [
    "# Mismatched columns\n",
    "inconsistent_cols = ['REMARKS']  # for APN 42451131\n",
    "\n",
    "# NaN\n",
    "nan_cols = ['CONDITION_CODE', 'REMARKS']\n",
    "\n",
    "# 0\n",
    "zero_cols = ['EFFECTIVE_YEAR', 'NUMBER_UNITS', 'LEASE_AREA',\n",
    "             'RENTABLE_AREA', 'TOTAL_AREA', 'NUMBER_FLOORS']"
   ]
  },
  {
   "cell_type": "markdown",
   "metadata": {},
   "source": [
    "#### Drop duplicates and check that it worked"
   ]
  },
  {
   "cell_type": "code",
   "execution_count": null,
   "metadata": {},
   "outputs": [],
   "source": [
    "drop_dups_with_less_info(pc851ci)\n",
    "# verify that it worked:\n",
    "vcs = pc851ci['building_id'].value_counts()\n",
    "dup_ids = vcs[vcs > 1].index\n",
    "assert(len(dup_ids) == 0)"
   ]
  },
  {
   "cell_type": "markdown",
   "metadata": {},
   "source": [
    "## Multi-Family: pc851mf\n",
    "\n",
    "**Conclusion:** Cannot discern why there are duplicate records \n",
    "\n",
    "**Recommendation:** Select record with more information (less NaN and 0 values)"
   ]
  },
  {
   "cell_type": "code",
   "execution_count": null,
   "metadata": {},
   "outputs": [],
   "source": [
    "pc851mf = pd.read_csv(os.path.join(df_dir, 'Santa_Clara_Assessor_Data_pc851mf.csv'))\n",
    "# there was 1 duplicate value for APN 31312025\n",
    "pc851mf.drop_duplicates(inplace=True)"
   ]
  },
  {
   "cell_type": "code",
   "execution_count": null,
   "metadata": {},
   "outputs": [],
   "source": [
    "pc851mf['building_id'] = ('A' + pc851mf['APN'].astype(str)\n",
    "                          + 'B' + pc851mf['BUILDING_NUM'].astype(str))"
   ]
  },
  {
   "cell_type": "code",
   "execution_count": null,
   "metadata": {},
   "outputs": [],
   "source": [
    "vcs = pc851mf['building_id'].value_counts()\n",
    "dup_ids = vcs[vcs > 1].index\n",
    "\n",
    "mini_pc851mf = pc851mf[pc851mf['building_id'].isin(dup_ids)]\n",
    "mini_pc851mf.T"
   ]
  },
  {
   "cell_type": "code",
   "execution_count": null,
   "metadata": {},
   "outputs": [],
   "source": [
    "# Mismatched columns\n",
    "inconsistent_cols = ['YEAR_BUILT', 'REMARKS']  # for APN 76432056, 76432056\n",
    "\n",
    "# NaN\n",
    "nan_cols = ['REC_ROOM_FLAG', 'FIREPLACE_FLAG', 'CONDITION_CODE']\n",
    "\n",
    "# 0\n",
    "zero_cols = ['EFFECTIVE_YEAR', 'LEASE_AREA', 'REMARKS']"
   ]
  },
  {
   "cell_type": "markdown",
   "metadata": {},
   "source": [
    "#### Drop duplicates and check that it worked"
   ]
  },
  {
   "cell_type": "code",
   "execution_count": null,
   "metadata": {},
   "outputs": [],
   "source": [
    "drop_dups_with_less_info(pc851mf)\n",
    "# verify that it worked:\n",
    "vcs = pc851mf['building_id'].value_counts()\n",
    "dup_ids = vcs[vcs > 1].index\n",
    "assert(len(dup_ids) == 0)"
   ]
  },
  {
   "cell_type": "markdown",
   "metadata": {},
   "source": [
    "## Single-Family: pc851sf\n",
    "\n",
    "**Conclusion:** duplicate building ids seem to be due to old building records (e.g. pre-addition, pre-demo)\n",
    "\n",
    "**Recommendation:** Select newest record based on YEAR_BUILT or EFFECTIVE_YEAR and amount of information (less NaN and 0 values), or if they are the same, select the record with more information (less NaN and 0 values). **EDIT**: just select record with more data (to be consistent with other tables' processing)"
   ]
  },
  {
   "cell_type": "code",
   "execution_count": null,
   "metadata": {},
   "outputs": [],
   "source": [
    "pc851sf = pd.read_csv(os.path.join(df_dir, 'Santa_Clara_Assessor_Data_pc851sf.csv'))\n",
    "pc851sf.drop_duplicates(inplace=True)"
   ]
  },
  {
   "cell_type": "code",
   "execution_count": null,
   "metadata": {},
   "outputs": [],
   "source": [
    "pc851sf['building_id'] = ('A' + pc851sf['APN'].astype(str)\n",
    "                          + 'B' + pc851sf['BUILDING_NUM'].astype(str))"
   ]
  },
  {
   "cell_type": "code",
   "execution_count": null,
   "metadata": {},
   "outputs": [],
   "source": [
    "vcs = pc851sf['building_id'].value_counts()\n",
    "dup_ids = vcs[vcs > 1].index\n",
    "\n",
    "mini_pc851sf = pc851sf[pc851sf['building_id'].isin(dup_ids)]\n",
    "mini_pc851sf.T"
   ]
  },
  {
   "cell_type": "code",
   "execution_count": null,
   "metadata": {},
   "outputs": [],
   "source": [
    "# Mismatched columns (not a complete list)\n",
    "inconsistent_cols = ['POOL_SAP_CODE', 'REMARKS', 'EFFECTIVE_YEAR', 'YEAR_BUILT']  # for APN 52701013, 48123055\n",
    "\n",
    "# NaN\n",
    "nan_cols = ['REMARKS', 'HEAT_AIR_COND', 'GARAGE_PORT',\n",
    "           'PORCH_FLAG', 'PATIO-CODE', 'MISC_COSTS', 'POOL_SAP_CODE',\n",
    "           'HILLSIDE_FLAG', 'TENNIS_FLAG', 'GARAGE_CONV_FLAG', 'EXTRA_KITCHEN',\n",
    "           'EXTRA_PLUMB', 'SCREEN_ROOM_FLAG']\n",
    "\n",
    "# 0\n",
    "zero_cols = ['TOTAL_ROOMS', 'BATH_ROOMS', 'BEDROOM', 'FIRST_FLOOR_AREA'] # for APN 48123055"
   ]
  },
  {
   "cell_type": "code",
   "execution_count": null,
   "metadata": {},
   "outputs": [],
   "source": [
    "pc851sf[pc851sf['building_id'] == 'A52701013B1.0'].T"
   ]
  },
  {
   "cell_type": "code",
   "execution_count": null,
   "metadata": {},
   "outputs": [],
   "source": [
    "pc851sf[pc851sf['building_id'] == 'A51719079B1.0'].T"
   ]
  },
  {
   "cell_type": "markdown",
   "metadata": {},
   "source": [
    "#### Drop duplicates and check that it worked"
   ]
  },
  {
   "cell_type": "code",
   "execution_count": null,
   "metadata": {},
   "outputs": [],
   "source": [
    "drop_dups_with_less_info(pc851sf)\n",
    "# verify that it worked:\n",
    "vcs = pc851sf['building_id'].value_counts()\n",
    "dup_ids = vcs[vcs > 1].index\n",
    "assert(len(dup_ids) == 0)"
   ]
  }
 ],
 "metadata": {
  "kernelspec": {
   "display_name": "Python 3",
   "language": "python",
   "name": "python3"
  },
  "language_info": {
   "codemirror_mode": {
    "name": "ipython",
    "version": 3
   },
   "file_extension": ".py",
   "mimetype": "text/x-python",
   "name": "python",
   "nbconvert_exporter": "python",
   "pygments_lexer": "ipython3",
   "version": "3.7.3"
  }
 },
 "nbformat": 4,
 "nbformat_minor": 2
}
