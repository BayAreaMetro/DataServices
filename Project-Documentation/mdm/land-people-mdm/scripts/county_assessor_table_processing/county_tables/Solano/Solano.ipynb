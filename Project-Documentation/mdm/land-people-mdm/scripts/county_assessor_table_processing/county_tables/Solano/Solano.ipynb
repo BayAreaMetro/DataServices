{
 "cells": [
  {
   "cell_type": "code",
   "execution_count": null,
   "metadata": {},
   "outputs": [],
   "source": [
    "import os\n",
    "import sys\n",
    "import pandas as pd\n",
    "\n",
    "sys.path.insert(0, '../')\n",
    "from utils import (base_path, process_fwf_data,\n",
    "                   concat_data_add_source, create_county_redshift_table)"
   ]
  },
  {
   "cell_type": "code",
   "execution_count": null,
   "metadata": {},
   "outputs": [],
   "source": [
    "county_name = 'Solano'"
   ]
  },
  {
   "cell_type": "markdown",
   "metadata": {},
   "source": [
    "# I. Initial data processing \n",
    "\n",
    "**Start:** file(s) in format given by county assessor\n",
    "\n",
    "**End:** csv file for each data source\n",
    "\n",
    "Process:\n",
    "\n",
    "- copy columns from .doc file into excel file\n",
    "- copy the column name and width columns into Sublime\n",
    "- do text replace\n",
    "\n",
    "\n",
    "\"\t\" : \"': \"\n",
    "\n",
    "\n",
    "\n",
    "\"\n",
    "\" : \",\n",
    "'\""
   ]
  },
  {
   "cell_type": "code",
   "execution_count": null,
   "metadata": {},
   "outputs": [],
   "source": [
    "# initialize main data dictionary\n",
    "data_dict = {}\n",
    "\n",
    "\n",
    "data_dir = os.path.join(base_path, 'Solano County Assessor Data')"
   ]
  },
  {
   "cell_type": "markdown",
   "metadata": {},
   "source": [
    "## SD110311"
   ]
  },
  {
   "cell_type": "code",
   "execution_count": null,
   "metadata": {},
   "outputs": [],
   "source": [
    "fname = 'sd110311'\n",
    "\n",
    "# initialize column widths dictionary\n",
    "d = {'PARCEL NUMBER': 10,\n",
    "     'ACRES': 8,\n",
    "     'LOT SIZE (Sq. Ft.)': 12,\n",
    "     'USE CODE': 4,\n",
    "     'NUMBER OF UNITS': 4,\n",
    "     'MAP TYPE': 2,\n",
    "     'MAP BOOK & PAGE': 8,\n",
    "     'MAP BLOCK': 4,\n",
    "     'MAP LOT': 4,\n",
    "     'MAP SUB LOT': 4,\n",
    "     'SUBDIVISION NAME': 30,\n",
    "     'SUBDIVISION UNIT': 4,\n",
    "     'CENSUS TRACT': 8,\n",
    "     'TAX AREA CODE': 6,\n",
    "     'ASSESSEE': 30,\n",
    "     'MAILING ADDRESS LINE 1': 30,\n",
    "     'MAILING ADDRESS LINE 2': 30,\n",
    "     'MAILING ADDRESS CITY & STATE': 20,\n",
    "     'MAILING ADDRESS ZIPCODE': 10,\n",
    "     'SITUS STREET NUMBER': 6,\n",
    "     'SITUS STREET NAME': 30,\n",
    "     'SITE CITY': 2,\n",
    "     'SITE BUILDING': 2,\n",
    "     'SITE UNIT ': 4,\n",
    "     'MINERAL RIGHT VALUE': 12,\n",
    "     'LAND VALUE': 12,\n",
    "     'IMPROVEMENT VALUE': 12,\n",
    "     'TREES & VINES VALUE': 12,\n",
    "     'DATE VALUE CHANGED': 8,\n",
    "     'PERSONAL PROPERTY VALUE': 12,\n",
    "     'FIXED MACHINERY & EQUIP VALUE': 12,\n",
    "     'LATE FILING PENALTY': 12,\n",
    "     'CATEGORY': 4,\n",
    "     'HOMEOWNER EXEMPTION TYPE': 2,\n",
    "     'HOMEOWNER EXEMPTION': 12,\n",
    "     'NON-PROFIT OR WELFARE EXEMPTION': 12,\n",
    "     'SOLDERS AND SAILORS EXEMPTION': 12}\n",
    "\n",
    "data_dict[fname] = process_fwf_data(data_folder=data_dir, fname=fname,\n",
    "                                    colwidths_dict=d, county_name=county_name)\n",
    "\n",
    "# reload to check conversion\n",
    "df = pd.read_csv(data_dict[fname]['df_path'])\n",
    "df.head()"
   ]
  },
  {
   "cell_type": "markdown",
   "metadata": {},
   "source": [
    "## SD110815"
   ]
  },
  {
   "cell_type": "code",
   "execution_count": null,
   "metadata": {},
   "outputs": [],
   "source": [
    "fname = 'sd110815'\n",
    "\n",
    "# initialize column widths dictionary\n",
    "d = {'PARCEL NUMBER': 10,\n",
    "     'DOCUMENT REFERENCE': 12,\n",
    "     'DOCUMENT DATE': 8,\n",
    "     'DOCUMENT IRS AMOUNT': 10,\n",
    "     'DOCUMENT IRS CODE': 2,\n",
    "     'USE CODE': 4,\n",
    "     'NUMBER OF PARCELS IN SALE': 4,\n",
    "     'UNADJUSTED SALE PRICE': 12,\n",
    "     'SQUARE FOOTAGE': 12,\n",
    "     'TOTAL ACRES SOLD': 8,\n",
    "     'ALLOWABLE UNITS': 4,\n",
    "     'ZONING': 16}\n",
    "\n",
    "data_dict[fname] = process_fwf_data(data_folder=data_dir, fname=fname,\n",
    "                                    colwidths_dict=d, county_name=county_name)\n",
    "\n",
    "# reload to check conversion\n",
    "df = pd.read_csv(data_dict[fname]['df_path'])\n",
    "df.head()"
   ]
  },
  {
   "cell_type": "markdown",
   "metadata": {},
   "source": [
    "## SD110816"
   ]
  },
  {
   "cell_type": "code",
   "execution_count": null,
   "metadata": {},
   "outputs": [],
   "source": [
    "fname = 'sd110816'\n",
    "\n",
    "# initialize column widths dictionary\n",
    "d = {'PARCEL NUMBER': 10,\n",
    "    'DOCUMENT REFERENCE': 12,\n",
    "    'DOCUMENT DATE': 8,\n",
    "    'DOCUMENT IRS AMOUNT': 10,\n",
    "    'DOCUMENT IRS CODE': 2,\n",
    "    'USE CODE': 4,\n",
    "    'NUMBER OF PARCELS IN SALE': 4,\n",
    "    'UNADJUSTED SALE PRICE': 12,\n",
    "    'AREA OF FIRST FLOOR': 6,\n",
    "    'AREA OF SECOND FLOOR': 6,\n",
    "    'AREA OF THIRD FLOOR': 6,\n",
    "    'AREA OF OTHER': 6,\n",
    "    'TOTAL AREA OF BUILDING': 8,\n",
    "    'YEAR BUILT': 4}\n",
    "\n",
    "data_dict[fname] = process_fwf_data(data_folder=data_dir, fname=fname,\n",
    "                                    colwidths_dict=d, county_name=county_name)\n",
    "\n",
    "# reload to check conversion\n",
    "df = pd.read_csv(data_dict[fname]['df_path'])\n",
    "df.head()"
   ]
  },
  {
   "cell_type": "markdown",
   "metadata": {},
   "source": [
    "## SD110817"
   ]
  },
  {
   "cell_type": "code",
   "execution_count": null,
   "metadata": {},
   "outputs": [],
   "source": [
    "fname = 'sd110817'\n",
    "\n",
    "# initialize column widths dictionary\n",
    "d = {'PARCEL NUMBER': 10,\n",
    "    'DOCUMENT REFERENCE': 12,\n",
    "    'DOCUMENT DATE': 8,\n",
    "    'DOCUMENT IRS AMOUNT': 10,\n",
    "    'DOCUMENT IRS CODE': 2,\n",
    "    'USE CODE': 4,\n",
    "    'NUMBER OF PARCELS IN SALE': 4,\n",
    "    'UNADJUSTED SALE PRICE': 12,\n",
    "    'NUMBER OF STUDIO APTS': 4,\n",
    "    'SIZE OF STUDIO SQUARE FOOT': 4,\n",
    "    'NUMBER OF ONE BEDROOM APTS': 4,\n",
    "    'SIZE OF ONE BEDROOM SQ FOOT': 4,\n",
    "    'NUMBER OF TWO BEDROOM APTS': 4,\n",
    "    'SIZE OF TWO BEDROOM SQ FOOT': 4,\n",
    "    'NUMBER OF OTHER TYPE APTS': 4,\n",
    "    'SIZE OF OTHER TYPE SQ FOOT': 4,\n",
    "    'TOTAL NUMBER OF UNITS': 4,\n",
    "    'YEAR BUILT': 4,\n",
    "    'TOTAL AREA OF BUILDING': 8}\n",
    "\n",
    "data_dict[fname] = process_fwf_data(data_folder=data_dir, fname=fname,\n",
    "                                    colwidths_dict=d, county_name=county_name)\n",
    "\n",
    "# reload to check conversion\n",
    "df = pd.read_csv(data_dict[fname]['df_path'])\n",
    "df.head()"
   ]
  },
  {
   "cell_type": "markdown",
   "metadata": {},
   "source": [
    "## SD110818"
   ]
  },
  {
   "cell_type": "code",
   "execution_count": null,
   "metadata": {},
   "outputs": [],
   "source": [
    "fname = 'sd110818'\n",
    "\n",
    "# initialize column widths dictionary\n",
    "d = {'PARCEL NUMBER': 10,\n",
    "    'DOCUMENT REFERENCE': 12,\n",
    "    'DOCUMENT DATE': 8,\n",
    "    'DOCUMENT IRS AMOUNT': 10,\n",
    "    'DOCUMENT IRS CODE': 2,\n",
    "    'USE CODE': 4,\n",
    "    'UNADJUSTED SALE PRICE': 12,\n",
    "    'NUMBER OF PARCELS IN SALE': 4,\n",
    "    'SIZE OF PARCEL (LOTSIZE)': 12,\n",
    "    'TOTAL ACRES IN SALE': 8,\n",
    "    'AREA OF FIRST FLOOR': 6,\n",
    "    'AREA OF SECOND FLOOR': 6,\n",
    "    'AREA OF OTHER': 6,\n",
    "    'TOTAL AREA OF BUILDING': 8,\n",
    "    'YEAR BUILT': 4,\n",
    "    'AREA OF ADDITION': 4,\n",
    "    'ADDITION FACTOR': 4,\n",
    "    'NUMBER OF BEDROOMS': 2,\n",
    "    'NUMBER OF BATHS': 2,\n",
    "    'FAMILY ROOM': 2,\n",
    "    'DINING ROOM': 2,\n",
    "    'UTILITY ROOM': 2,\n",
    "    'OTHER ROOMS NOT YET COUNTED': 2,\n",
    "    'FIREPLACE INCLUDED': 2,\n",
    "    'CENTRAL HEAT OR AIR': 2,\n",
    "    'AREA OF CARPORT': 4,\n",
    "    'AREA OF GARAGE': 6,\n",
    "    'DESCRIPTION OF PATIO': 20,\n",
    "    'DESCRIPTION OF POOL': 2,\n",
    "    'MAP BOOK AND PAGE': 8,\n",
    "    'SINGLE FAMILY SUBDIVISION': 30,\n",
    "    'SUBDIVISION UNIT': 4,\n",
    "    'SUBDIVISION CITY CODE': 2}\n",
    "\n",
    "data_dict[fname] = process_fwf_data(data_folder=data_dir, fname=fname,\n",
    "                                    colwidths_dict=d, county_name=county_name)\n",
    "\n",
    "# reload to check conversion\n",
    "df = pd.read_csv(data_dict[fname]['df_path'])\n",
    "df.head()"
   ]
  },
  {
   "cell_type": "markdown",
   "metadata": {},
   "source": [
    "## SD117901"
   ]
  },
  {
   "cell_type": "code",
   "execution_count": null,
   "metadata": {},
   "outputs": [],
   "source": [
    "fname = 'sd117901'\n",
    "\n",
    "# initialize column widths dictionary\n",
    "d = {'ASSESSOR PARCEL NUMBER': 10,\n",
    "    'DATE CHANGED': 8,\n",
    "    'PROPERTY TYPE': 2,\n",
    "    'AREA OF FIRST FLOOR': 6,\n",
    "    'AREA OF SECOND FLOOR': 6,\n",
    "    'AREA OF OTHER': 6,\n",
    "    'NUMBER OF BEDROOMS': 2,\n",
    "    'NUMBER OF BATHS': 2,\n",
    "    'DINING ROOM': 2,\n",
    "    'FAMILY ROOM': 2,\n",
    "    'OTHER ROOMS NOT YET COUNTED': 2,\n",
    "    'UTILITY ROOM': 2,\n",
    "    'DESCRIPTION OF POOL': 2,\n",
    "    'AREA OF GARAGE': 6,\n",
    "    'QUALITY CLASS ': 4,\n",
    "    'YEAR BUILT': 4,\n",
    "    'FIREPLACE': 2,\n",
    "    'CENTRAL HEAT OR AIR': 2,\n",
    "    'AREA OF ADDITION': 4,\n",
    "    'ADDITION FACTOR': 4,\n",
    "    'PATIO CODE': 2,\n",
    "    'DESCRIPTION OF PATIO': 30,\n",
    "    'AREA OF PATIO': 4,\n",
    "    'AREA OF STRUCTURE': 6,\n",
    "    'DESCRIPTION OF STRUCTURE': 30}\n",
    "\n",
    "data_dict[fname] = process_fwf_data(data_folder=data_dir, fname=fname,\n",
    "                                    colwidths_dict=d, county_name=county_name)\n",
    "\n",
    "# reload to check conversion\n",
    "df = pd.read_csv(data_dict[fname]['df_path'])\n",
    "df.head()"
   ]
  },
  {
   "cell_type": "markdown",
   "metadata": {},
   "source": [
    "# II. Combine data and add source"
   ]
  },
  {
   "cell_type": "code",
   "execution_count": null,
   "metadata": {},
   "outputs": [],
   "source": [
    "concat_data_add_source(county_name=county_name)"
   ]
  },
  {
   "cell_type": "markdown",
   "metadata": {},
   "source": [
    "# III. Create Redshift table"
   ]
  },
  {
   "cell_type": "code",
   "execution_count": null,
   "metadata": {},
   "outputs": [],
   "source": [
    "create_county_redshift_table(county_name)"
   ]
  },
  {
   "cell_type": "code",
   "execution_count": null,
   "metadata": {},
   "outputs": [],
   "source": []
  }
 ],
 "metadata": {
  "kernelspec": {
   "display_name": "Python 3",
   "language": "python",
   "name": "python3"
  },
  "language_info": {
   "codemirror_mode": {
    "name": "ipython",
    "version": 3
   },
   "file_extension": ".py",
   "mimetype": "text/x-python",
   "name": "python",
   "nbconvert_exporter": "python",
   "pygments_lexer": "ipython3",
   "version": "3.7.3"
  }
 },
 "nbformat": 4,
 "nbformat_minor": 2
}
