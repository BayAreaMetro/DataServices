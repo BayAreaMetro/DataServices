{
 "cells": [
  {
   "cell_type": "code",
   "execution_count": null,
   "metadata": {},
   "outputs": [],
   "source": [
    "import os\n",
    "import sys\n",
    "import pandas as pd\n",
    "\n",
    "sys.path.insert(0, '../')\n",
    "from utils import (base_path, process_fwf_data, process_tabular_data,\n",
    "                   concat_data_add_source, find_duplicate_cols, create_county_redshift_table)"
   ]
  },
  {
   "cell_type": "code",
   "execution_count": null,
   "metadata": {},
   "outputs": [],
   "source": [
    "county_name = 'Alameda'"
   ]
  },
  {
   "cell_type": "markdown",
   "metadata": {},
   "source": [
    "# I. Initial data processing \n",
    "\n",
    "**Start:** file(s) in format given by county assessor\n",
    "\n",
    "**End:** csv file for each data source"
   ]
  },
  {
   "cell_type": "code",
   "execution_count": null,
   "metadata": {},
   "outputs": [],
   "source": [
    "data_dir = os.path.join(base_path, 'Alameda County Assessor Data')"
   ]
  },
  {
   "cell_type": "markdown",
   "metadata": {},
   "source": [
    "##  Initialize column widths dictionary\n",
    "\n",
    "Process:\n",
    "\n",
    "- Copied columns from File Layout for Job IE673 - Property Characteristics.doc into excel file\n",
    "- copied the column name and width columns into Sublime\n",
    "- did text replace (replace tab with \"': \", replace newline with \", '\")"
   ]
  },
  {
   "cell_type": "code",
   "execution_count": null,
   "metadata": {
    "scrolled": true
   },
   "outputs": [],
   "source": [
    "fname = 'IE673 - 2018-2019'\n",
    "\n",
    "d = {\"Assessor's Parcel Number (APN) sort format\": 13,\n",
    "     'APN print format': 15,\n",
    "     'Primary tax rate area (TRA)': 2,\n",
    "     'Secondary TRA': 3,\n",
    "     'Situs street number': 10,\n",
    "     'Situs street name': 50,\n",
    "     'Situs unit number': 10,\n",
    "     'Situs city': 30,\n",
    "     'Situs zip code': 5,\n",
    "     'Situs zip+4': 4,\n",
    "     'Use code': 4,\n",
    "     'Property characteristic change date (CCYYMMDD)': 8,\n",
    "     'Number of units': 5,\n",
    "     'Building class': 4,\n",
    "     'Building effective year': 4,\n",
    "     'Building area': 7,\n",
    "     'Lot size': 8,\n",
    "     'Number of buildings': 3,\n",
    "     'Number of stories': 3,\n",
    "     'Number of rooms': 3,\n",
    "     'Number of bedrooms': 3,\n",
    "     'Land/improvement ratio': 3,\n",
    "     'Percent office': 3,\n",
    "     \"Acre code - 'A' if lot size is in acres, blank otherwise\": 1,\n",
    "     'Land flag': 1,\n",
    "     'Conformity flag': 1,\n",
    "     'Additions area': 7,\n",
    "     'Misc area': 7,\n",
    "     'Rentable space': 7,\n",
    "     'Year built': 4,\n",
    "     'Number of bathrooms': 5,\n",
    "     'Condo type': 1,\n",
    "     'Elevator flag': 1,\n",
    "     'Swimming pool code': 1,\n",
    "     'Swimming pool year built': 4,\n",
    "     'Remodel code': 3,\n",
    "     'Condition code': 3,\n",
    "     'Parking code': 4,\n",
    "     'Amenities code': 4,\n",
    "     'Unit floor': 2,\n",
    "     'Wall height': 3,\n",
    "     'View code': 1,\n",
    "     'Slope code': 1,\n",
    "     'Topography code': 1,\n",
    "     'Hazards code': 2,\n",
    "     'Economic unit flag': 1,\n",
    "     'End date (CCYYMMDD) Date APN was inactivated -': 8}\n",
    "\n",
    "fname_d = process_fwf_data(data_folder=data_dir, fname=fname,\n",
    "                           colwidths_dict=d, county_name=county_name)\n",
    "# reload to check conversion\n",
    "df = pd.read_csv(fname_d['df_path'])\n",
    "df.head()"
   ]
  },
  {
   "cell_type": "markdown",
   "metadata": {},
   "source": [
    "## Taxroll data"
   ]
  },
  {
   "cell_type": "code",
   "execution_count": null,
   "metadata": {},
   "outputs": [],
   "source": [
    "# due to ProgrammingError: column \"situs_city\" duplicated error thrown by create_county_redshift_table(county_name),\n",
    "# had to rename these columns:\n",
    "# ['situs city', 'situs street name', 'situs street number', 'use code']\n",
    "\n",
    "column_rename_d = {'Situs City': 'situs city taxroll',\n",
    "                   'Situs Street Name': 'situs street name taxroll',\n",
    "                   'Situs Street Number': 'situs street number taxroll',\n",
    "                   'Use Code': 'use code taxroll'}"
   ]
  },
  {
   "cell_type": "code",
   "execution_count": null,
   "metadata": {},
   "outputs": [],
   "source": [
    "fname = 'Assessor_s_Office_Secured_Tax_Roll_2018_19.csv'\n",
    "data_fname = os.path.join(data_dir, fname)\n",
    "df_path = process_tabular_data(data_fname, county_name,\n",
    "                               col_rename_dict=column_rename_d,\n",
    "                               init_output_dirs=False)"
   ]
  },
  {
   "cell_type": "markdown",
   "metadata": {},
   "source": [
    "## Sales/Transfer data"
   ]
  },
  {
   "cell_type": "code",
   "execution_count": null,
   "metadata": {},
   "outputs": [],
   "source": [
    "# due to ProgrammingError: column <column name> duplicated error thrown by create_county_redshift_table(county_name),\n",
    "# had to rename these columns:\n",
    "# ['use code']\n",
    "\n",
    "column_rename_d = {'Use Code': 'use code transfer list'}"
   ]
  },
  {
   "cell_type": "code",
   "execution_count": null,
   "metadata": {},
   "outputs": [],
   "source": [
    "fname = 'Assessor_s_Office_Ownership_Transfer_List.csv'\n",
    "data_fname = os.path.join(data_dir, fname)\n",
    "df_path = process_tabular_data(data_fname, county_name,\n",
    "                               col_rename_dict=column_rename_d,\n",
    "                               init_output_dirs=False)"
   ]
  },
  {
   "cell_type": "markdown",
   "metadata": {},
   "source": [
    "# II. Combine data and add source"
   ]
  },
  {
   "cell_type": "code",
   "execution_count": null,
   "metadata": {},
   "outputs": [],
   "source": [
    "concat_data_add_source(county_name=county_name)"
   ]
  },
  {
   "cell_type": "markdown",
   "metadata": {},
   "source": [
    "### Correct duplicate columns\n",
    "\n",
    "Correct duplicate columns in the final dataframe before posting to S3 and Redshift.\n",
    "\n",
    "Find culprit columns, set column_rename_d, and re-run each data section as needed"
   ]
  },
  {
   "cell_type": "code",
   "execution_count": null,
   "metadata": {},
   "outputs": [],
   "source": [
    "dup_cols = find_duplicate_cols()\n",
    "dup_cols"
   ]
  },
  {
   "cell_type": "markdown",
   "metadata": {},
   "source": [
    "# III. Create Redshift table"
   ]
  },
  {
   "cell_type": "code",
   "execution_count": null,
   "metadata": {},
   "outputs": [],
   "source": [
    "create_county_redshift_table(county_name)"
   ]
  },
  {
   "cell_type": "code",
   "execution_count": null,
   "metadata": {},
   "outputs": [],
   "source": []
  }
 ],
 "metadata": {
  "kernelspec": {
   "display_name": "Python 3",
   "language": "python",
   "name": "python3"
  },
  "language_info": {
   "codemirror_mode": {
    "name": "ipython",
    "version": 3
   },
   "file_extension": ".py",
   "mimetype": "text/x-python",
   "name": "python",
   "nbconvert_exporter": "python",
   "pygments_lexer": "ipython3",
   "version": "3.7.3"
  }
 },
 "nbformat": 4,
 "nbformat_minor": 2
}
