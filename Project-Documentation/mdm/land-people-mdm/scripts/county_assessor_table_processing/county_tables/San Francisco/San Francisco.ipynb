{
 "cells": [
  {
   "cell_type": "code",
   "execution_count": null,
   "metadata": {},
   "outputs": [],
   "source": [
    "import os\n",
    "import sys\n",
    "import pandas as pd\n",
    "\n",
    "sys.path.insert(0, '../')\n",
    "from utils import (base_path, process_fwf_data,\n",
    "                   concat_data_add_source, create_county_redshift_table)"
   ]
  },
  {
   "cell_type": "code",
   "execution_count": null,
   "metadata": {},
   "outputs": [],
   "source": [
    "county_name = 'San_Francisco'"
   ]
  },
  {
   "cell_type": "markdown",
   "metadata": {},
   "source": [
    "# I. Initial data processing \n",
    "\n",
    "**Start:** file(s) in format given by county assessor\n",
    "\n",
    "**End:** csv file for each data source"
   ]
  },
  {
   "cell_type": "code",
   "execution_count": null,
   "metadata": {},
   "outputs": [],
   "source": [
    "# initialize main data dictionary\n",
    "data_dict = {}\n",
    "\n",
    "data_dir = os.path.join(base_path, 'San Francisco County Assessor Data')"
   ]
  },
  {
   "cell_type": "markdown",
   "metadata": {},
   "source": [
    "## AIAMADR"
   ]
  },
  {
   "cell_type": "code",
   "execution_count": null,
   "metadata": {},
   "outputs": [],
   "source": [
    "fname = 'aiamadr'\n",
    "\n",
    "d = {'CNTL-BYTE': 1,\n",
    "    'VOL': 2,\n",
    "    'KEY': 9,\n",
    "    'BLOCK': 5,\n",
    "    'BLOCK-N': 4,\n",
    "    'BLOCK-S': 1,\n",
    "    'LOT': 4,\n",
    "    'LOT-N': 3,\n",
    "    'LOT-S': 1,\n",
    "    'FILLER1': 23,\n",
    "    'SOURCE': 1,\n",
    "    'ADDRESS': 113,\n",
    "    'ADRS1': 27,\n",
    "    'ADRS2': 27,\n",
    "    'ADRS3': 27,\n",
    "    'ADRS4': 27,\n",
    "    'ZIP': 5,\n",
    "    'UPD-DATE': 6,\n",
    "    'U-DT-MM': 2,\n",
    "    'U-DT-DD': 2,\n",
    "    'U-DT-YY': 2,\n",
    "    'TRAN-TYPE': 10}\n",
    "\n",
    "data_dict[fname] = process_fwf_data(data_folder=data_dir, fname=fname,\n",
    "                                    colwidths_dict=d, county_name=county_name)\n",
    "\n",
    "# reload to check conversion\n",
    "df = pd.read_csv(data_dict[fname]['df_path'])\n",
    "df.head()"
   ]
  },
  {
   "cell_type": "markdown",
   "metadata": {},
   "source": [
    "## AIAOWNR"
   ]
  },
  {
   "cell_type": "code",
   "execution_count": null,
   "metadata": {},
   "outputs": [],
   "source": [
    "fname = 'aiaownr'\n",
    "\n",
    "d = {'OWNR-CTL-BYTE': 1,\n",
    "    'OWNR-VOL': 2,\n",
    "    'OWNR-KEY': 9,\n",
    "    'OWNER-BLOCK': 5,\n",
    "    'OWNR-BLK-N': 4,\n",
    "    'OWNR-BLK-S': 1,\n",
    "    'OWNR-LOT': 4,\n",
    "    'OWNR-LOT-N': 3,\n",
    "    'OWNR-LOT-S': 1,\n",
    "    'OWNR-SEQUENCE': 2,\n",
    "    'OWNR-OWNER-NAME': 30,\n",
    "    'OWNR-ENTRY-DATE': 6,\n",
    "    'OWNR-ENTRY-YY': 2,\n",
    "    'OWNR-ENTRY-MM': 2,\n",
    "    'OWNR-ENTRY-DD': 2,\n",
    "    'OWNR-LOT-STATUS': 1,\n",
    "    'OWNR-LONG-NM-CD': 1,\n",
    "    'OWNR-NEW-LOT-CD': 3,\n",
    "    'OWNR-RECRDRS-NO': 7,\n",
    "    'OWNR-RECRDRS-BK': 4,\n",
    "    'OWNR-RECRDRS-PG': 4,\n",
    "    'OWNR-RCRDR-PG-R': 4,\n",
    "    'OWNR-TRANS-TYPE': 10,\n",
    "    'OWNR-SIGND-DATE': 6,\n",
    "    'OWNR-UPDAT-DATE': 6}\n",
    "\n",
    "data_dict[fname] = process_fwf_data(data_folder=data_dir, fname=fname,\n",
    "                                    colwidths_dict=d, county_name=county_name)\n",
    "\n",
    "# reload to check conversion\n",
    "df = pd.read_csv(data_dict[fname]['df_path'])\n",
    "df.head()"
   ]
  },
  {
   "cell_type": "markdown",
   "metadata": {},
   "source": [
    "## AIASECDXW"
   ]
  },
  {
   "cell_type": "code",
   "execution_count": null,
   "metadata": {},
   "outputs": [],
   "source": [
    "fname = 'aiasecdxw'\n",
    "\n",
    "d = {'CTLBYTE': 1,\n",
    "    'RP1VOLUME': 2,\n",
    "    'RP1PRCLID': 9,\n",
    "    'SITUS': 37,\n",
    "    'ROLLYEAR': 2,\n",
    "    'RP1STACDE': 1,\n",
    "    'RP1LNDVAL': 11,\n",
    "    'RP1IMPVAL': 11,\n",
    "    'RP1FXTVAL': 11,\n",
    "    'RP1PPTVAL': 11,\n",
    "    'RP1EXMVL1': 11,\n",
    "    'RP1EXMVL2': 11,\n",
    "    'EXEMPTYPE': 2,\n",
    "    'WORKYEAR': 2,\n",
    "    'WORKSTATUS': 1,\n",
    "    'WORKFVLAND': 11,\n",
    "    'WORKFVSTR': 11,\n",
    "    'WORKFVFIXT': 11,\n",
    "    'WORKFVOTH': 11,\n",
    "    'WORKEXHOME': 11,\n",
    "    'WORKEXOTH': 11,\n",
    "    'WORKEXMTYP': 2,\n",
    "    'VALDATE': 6,\n",
    "    'REBASEYRCD': 1,\n",
    "    'REBASEYR': 4,\n",
    "    'REPRISRC': 1,\n",
    "    'REPRIPRVAL': 11,\n",
    "    'REPRISDATE': 6,\n",
    "    'RECURRSOUR': 1,\n",
    "    'RECURRPRIC': 11,\n",
    "    'RECURRSALD': 6,\n",
    "    'WSRATIO': 4,\n",
    "    'REENTRY': 4,\n",
    "    'TRANCODE': 2,\n",
    "    'TRANDATE': 6,\n",
    "    'TXSALECDE': 1,\n",
    "    'TXSALEDAT': 6,\n",
    "    'TXSALENUM': 5,\n",
    "    'LEASEHOLD': 1,\n",
    "    'RP1CLACDE': 3,\n",
    "    'RP1NBRCDE': 3,\n",
    "    'QCLPRE': 3,\n",
    "    'REMARKFLA': 1,\n",
    "    'KITCHEN': 3,\n",
    "    'BUILTIN': 4,\n",
    "    'STOREYCODE': 1,\n",
    "    'SUBLEVEL': 1,\n",
    "    'ROOMSFX': 1,\n",
    "    'CONSTTYPE': 3,\n",
    "    'BASELOT': 3,\n",
    "    'BASELOTSFX': 1,\n",
    "    'ZONE': 6,\n",
    "    'RP1APRCDE': 3,\n",
    "    'CHGDATE': 4,\n",
    "    'LOTCODE': 1,\n",
    "    'FRONT': 4,\n",
    "    'DEPTH': 4,\n",
    "    'LAREA': 10,\n",
    "    'FBA': 5,\n",
    "    'STOREYNO': 3,\n",
    "    'UNITS': 5,\n",
    "    'ROOMS': 5,\n",
    "    'BEDS': 5,\n",
    "    'BATHS': 5,\n",
    "    'SQFT': 7,\n",
    "    'YRBLT': 4,\n",
    "    'AGE': 5,\n",
    "    'ALTNC': 4,\n",
    "    'RP1TRACDE': 4,\n",
    "    'RP1LSTMOD': 8,\n",
    "    'FILLER33': 33}\n",
    "\n",
    "data_dict[fname] = process_fwf_data(data_folder=data_dir, fname=fname,\n",
    "                                    colwidths_dict=d, county_name=county_name)\n",
    "\n",
    "# reload to check conversion\n",
    "df = pd.read_csv(data_dict[fname]['df_path'])\n",
    "df.head()"
   ]
  },
  {
   "cell_type": "markdown",
   "metadata": {},
   "source": [
    "# II. Combine data and add source"
   ]
  },
  {
   "cell_type": "code",
   "execution_count": null,
   "metadata": {},
   "outputs": [],
   "source": [
    "concat_data_add_source(county_name=county_name)"
   ]
  },
  {
   "cell_type": "markdown",
   "metadata": {},
   "source": [
    "# III. Create Redshift table"
   ]
  },
  {
   "cell_type": "code",
   "execution_count": null,
   "metadata": {},
   "outputs": [],
   "source": [
    "create_county_redshift_table(county_name)"
   ]
  },
  {
   "cell_type": "code",
   "execution_count": null,
   "metadata": {},
   "outputs": [],
   "source": []
  }
 ],
 "metadata": {
  "kernelspec": {
   "display_name": "Python 3",
   "language": "python",
   "name": "python3"
  },
  "language_info": {
   "codemirror_mode": {
    "name": "ipython",
    "version": 3
   },
   "file_extension": ".py",
   "mimetype": "text/x-python",
   "name": "python",
   "nbconvert_exporter": "python",
   "pygments_lexer": "ipython3",
   "version": "3.7.3"
  }
 },
 "nbformat": 4,
 "nbformat_minor": 2
}
