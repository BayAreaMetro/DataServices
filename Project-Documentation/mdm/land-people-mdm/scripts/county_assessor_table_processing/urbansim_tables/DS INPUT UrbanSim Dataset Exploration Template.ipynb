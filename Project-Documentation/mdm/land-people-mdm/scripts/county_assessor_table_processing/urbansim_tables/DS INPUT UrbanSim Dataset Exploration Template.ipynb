{
 "cells": [
  {
   "cell_type": "code",
   "execution_count": null,
   "metadata": {},
   "outputs": [],
   "source": [
    "%matplotlib inline"
   ]
  },
  {
   "cell_type": "markdown",
   "metadata": {},
   "source": [
    "# UrbanSim Data Set Exploration\n",
    "\n",
    "\n",
    "This notebook is a template that shows how to identify UrbanSim datasets of interest (based on tags) on Socrata, pull data from Socrata into a pandas DataFrame, and begin exploratory data analysis (EDA). It is meant to be a starting point for each data steward to begin their own EDA. Once data stewards have completed their EDA, please add a folder containing the modified notebook and any outputs to this [Box folder](https://mtcdrive.app.box.com/folder/76889542701)\n",
    "\n",
    "**NOTE**: Please make and edit a COPY of this notebook and add your name as a prefix to the filename and remove the Template suffix (e.g. the resulting filename would look like this: `<Your name> DS INPUT UrbanSim Dataset Exploration.ipynb`)\n",
    "\n",
    "## How to use this notebook:\n",
    "\n",
    "1. Make a copy of this notebook to perform your own EDA\n",
    "2. Save your modified notebook copy and any outputs in a folder and copy that folder to this [Box folder](https://mtcdrive.app.box.com/folder/76889542701)\n",
    "3. Communicate your updates\n",
    "    - write data-specific notes via the BASIS dataset Feedback feature\n",
    "    - write general communications in the Slack channel #urbansim-data-collab\n",
    "    - open a GitHub issue [here](https://github.com/BayAreaMetro/DataServices/issues)"
   ]
  },
  {
   "cell_type": "code",
   "execution_count": null,
   "metadata": {},
   "outputs": [],
   "source": [
    "# Requirements: run this cell first if necessary to install necessary Python libraries\n",
    "\n",
    "! pip install boto3\n",
    "! pip install s3fs\n",
    "! conda install -y -c anaconda psycopg2\n",
    "! pip install sodapy\n",
    "! pip install sqlalchemy-redshift"
   ]
  },
  {
   "cell_type": "code",
   "execution_count": null,
   "metadata": {},
   "outputs": [],
   "source": [
    "import os\n",
    "import sys\n",
    "import pandas as pd\n",
    "\n",
    "user = os.environ['USER']\n",
    "sys.path.insert(0, '/Users/{}/Box/DataViz Projects/Utility Code'.format(user))\n",
    "from utils_io import *"
   ]
  },
  {
   "cell_type": "markdown",
   "metadata": {},
   "source": [
    "# UrbanSim Data Set Exploration\n",
    "\n",
    "Pythonic Approach to Managing Socrata Data Assets using SodaPy\n",
    "\n",
    "**SodaPy source**:\n",
    "https://github.com/xmunoz/sodapy\n",
    "\n",
    "**Github Documentation**: [BayAreaMetro/DataServices](https://github.com/BayAreaMetro/DataServices/tree/master/Project-Documentation/mdm)\n",
    "\n",
    "## Socrata Data Sets\n",
    "\n",
    "\n",
    "### UrbanSim Buildings\n",
    "\n",
    "**Documentation**: [UrbanSim Buildings](https://github.com/BayAreaMetro/DataServices/blob/master/Project-Documentation/mdm/land-people-mdm/buildings.md)\n",
    "\n",
    "**Socrata dataset ID**: ahwz-jtst\n",
    "\n",
    "**Socrata dataset**: [UrbanSim Buildings](https://data.bayareametro.gov/Cadastral/UrbanSim-Parcels/6q7r-gybw)\n",
    "\n",
    "**Primary key**: `building_id`\n",
    "\n",
    "**Foreign key**: `joinid`\n",
    "\n",
    "### UrbanSim Parcels\n",
    "\n",
    "**Documentation**: [UrbanSim Parcels](https://github.com/BayAreaMetro/DataServices/blob/master/Project-Documentation/mdm/land-people-mdm/urbansim_parcels.md)\n",
    "\n",
    "**Socrata dataset ID**: 6q7r-gybw\n",
    "\n",
    "**Socrata dataset**: [UrbanSim Parcels](https://data.bayareametro.gov/Cadastral/UrbanSim-Parcels/6q7r-gybw)\n",
    "\n",
    "**Primary key**: `joinid`\n",
    "\n",
    "### General Plan and Zoning 2018\n",
    "\n",
    "**Socrata dataset ID**: udk3-z2d5\n",
    "\n",
    "**Socrata dataset**: [General Plan and Zoning](https://data.bayareametro.gov/Land-Use/General-Plan-and-Zoning-2018/udk3-z2d5)\n",
    "\n",
    "**Primary key**: `zoning_id` (matches `recid` in General Plan and Regional Zoning tables and `RecID` in Codes tables)\n",
    "\n",
    "**Foreign key**: `joinid`\n",
    "\n",
    "\n",
    "### General Plan Codes\n",
    "\n",
    "**Socrata dataset ID**: vzcc-dhby\n",
    "\n",
    "**Socrata dataset**: [General Plan Codes](https://data.bayareametro.gov/Land-Use/Regional-General-Plan-Codes-2018/vzcc-dhby)\n",
    "\n",
    "**Primary key**: `RecID` (matches `zoning_id` in General Plan and Zoning 2018 table and `recid` in General Plan and Regional Zoning tables)\n",
    "\n",
    "\n",
    "### General Plan\n",
    "\n",
    "**Socrata dataset ID**: cc3g-fj4w\n",
    "\n",
    "**Socrata dataset**: [General Plan](https://data.bayareametro.gov/Land-Use/View-based-on-Regional-General-Plan-Codes-2018/cc3g-fj4w)\n",
    "\n",
    "**Primary key**: `recid` (matches `zoning_id` in General Plan and Zoning 2018 table and `RecID` in Codes tables)\n",
    "\n",
    "\n",
    "### Regional Zoning Codes\n",
    "\n",
    "**Socrata dataset ID**: qdrp-c5ra\n",
    "\n",
    "**Socrata dataset**: [Regional Zoning Codes](https://data.bayareametro.gov/Land-Use/Regional-Zoning-Codes-2018/qdrp-c5ra)\n",
    "\n",
    "**Primary key**: `RecID` (matches `zoning_id` in General Plan and Zoning 2018 table and `recid` in General Plan and Regional Zoning tables)\n",
    "\n",
    "### Regional Zoning\n",
    "\n",
    "**Socrata dataset ID**: q2p6-hbrp\n",
    "\n",
    "**Socrata dataset**: [Regional Zoning](https://data.bayareametro.gov/Land-Use/View-of-Parcels-and-Regional-Zoning-2018/q2p6-hbrp)\n",
    "\n",
    "**Primary key**: `recid` (matches `zoning_id` in General Plan and Zoning 2018 table and `RecID` in Codes tables)\n",
    "\n",
    "\n",
    "## Socrata Credentials\n",
    "\n",
    "Socrata credentials for this notebook are managed by Kaya Tollas (ktollas@bayareametro.gov)"
   ]
  },
  {
   "cell_type": "markdown",
   "metadata": {},
   "source": [
    "## 1. Pull these datasets into pandas DataFrames"
   ]
  },
  {
   "cell_type": "markdown",
   "metadata": {},
   "source": [
    "#### Pull UrbanSim Buildings"
   ]
  },
  {
   "cell_type": "code",
   "execution_count": null,
   "metadata": {
    "scrolled": true
   },
   "outputs": [],
   "source": [
    "urbansim_buildings_id = 'ahwz-jtst'\n",
    "urbansim_buildings = pull_df_from_socrata(urbansim_buildings_id)"
   ]
  },
  {
   "cell_type": "code",
   "execution_count": null,
   "metadata": {},
   "outputs": [],
   "source": [
    "urbansim_buildings.head()"
   ]
  },
  {
   "cell_type": "code",
   "execution_count": null,
   "metadata": {},
   "outputs": [],
   "source": [
    "urbansim_buildings.shape  # (3655207, 15)"
   ]
  },
  {
   "cell_type": "code",
   "execution_count": null,
   "metadata": {},
   "outputs": [],
   "source": [
    "urbansim_buildings['apn'].nunique()  # 2507764"
   ]
  },
  {
   "cell_type": "markdown",
   "metadata": {},
   "source": [
    "#### Pull UrbanSim Parcels"
   ]
  },
  {
   "cell_type": "code",
   "execution_count": null,
   "metadata": {
    "scrolled": true
   },
   "outputs": [],
   "source": [
    "urbansim_parcels_id = '6q7r-gybw'\n",
    "urbansim_parcels = pull_df_from_socrata(urbansim_parcels_id)"
   ]
  },
  {
   "cell_type": "code",
   "execution_count": null,
   "metadata": {},
   "outputs": [],
   "source": [
    "urbansim_parcels.head()"
   ]
  },
  {
   "cell_type": "code",
   "execution_count": null,
   "metadata": {},
   "outputs": [],
   "source": [
    "urbansim_parcels.shape  # (3655207, 7)"
   ]
  },
  {
   "cell_type": "code",
   "execution_count": null,
   "metadata": {},
   "outputs": [],
   "source": [
    "urbansim_parcels['apn'].nunique()  # 2643041"
   ]
  },
  {
   "cell_type": "markdown",
   "metadata": {},
   "source": [
    "### General Plan and Zoning"
   ]
  },
  {
   "cell_type": "markdown",
   "metadata": {},
   "source": [
    "#### Pull General Plan and Zoning 2018"
   ]
  },
  {
   "cell_type": "code",
   "execution_count": null,
   "metadata": {
    "scrolled": true
   },
   "outputs": [],
   "source": [
    "gp_zoning_id = 'udk3-z2d5'\n",
    "gp_zoning = pull_df_from_socrata(gp_zoning_id)"
   ]
  },
  {
   "cell_type": "code",
   "execution_count": null,
   "metadata": {},
   "outputs": [],
   "source": [
    "gp_zoning.head()"
   ]
  },
  {
   "cell_type": "code",
   "execution_count": null,
   "metadata": {},
   "outputs": [],
   "source": [
    "gp_zoning.shape  # (2142677, 11)"
   ]
  },
  {
   "cell_type": "code",
   "execution_count": null,
   "metadata": {},
   "outputs": [],
   "source": [
    "gp_zoning['joinid'].nunique()  # 2091536"
   ]
  },
  {
   "cell_type": "markdown",
   "metadata": {},
   "source": [
    "#### Pull General Plan Codes"
   ]
  },
  {
   "cell_type": "code",
   "execution_count": null,
   "metadata": {
    "scrolled": true
   },
   "outputs": [],
   "source": [
    "gp_codes_id = 'vzcc-dhby'\n",
    "gp_codes = pull_df_from_socrata(gp_codes_id)"
   ]
  },
  {
   "cell_type": "code",
   "execution_count": null,
   "metadata": {},
   "outputs": [],
   "source": [
    "gp_codes.head()"
   ]
  },
  {
   "cell_type": "code",
   "execution_count": null,
   "metadata": {},
   "outputs": [],
   "source": [
    "gp_codes.shape  # (2240, 15)"
   ]
  },
  {
   "cell_type": "code",
   "execution_count": null,
   "metadata": {},
   "outputs": [],
   "source": [
    "gp_codes['recid'].nunique()  # 2240"
   ]
  },
  {
   "cell_type": "markdown",
   "metadata": {},
   "source": [
    "#### Pull General Plan"
   ]
  },
  {
   "cell_type": "code",
   "execution_count": null,
   "metadata": {
    "scrolled": true
   },
   "outputs": [],
   "source": [
    "general_plan_id = 'cc3g-fj4w'\n",
    "general_plan = pull_df_from_socrata(general_plan_id)"
   ]
  },
  {
   "cell_type": "code",
   "execution_count": null,
   "metadata": {},
   "outputs": [],
   "source": [
    "general_plan.head()"
   ]
  },
  {
   "cell_type": "code",
   "execution_count": null,
   "metadata": {},
   "outputs": [],
   "source": [
    "general_plan.shape  # (334271, 16)"
   ]
  },
  {
   "cell_type": "code",
   "execution_count": null,
   "metadata": {},
   "outputs": [],
   "source": [
    "general_plan['recid'].nunique() # 147"
   ]
  },
  {
   "cell_type": "markdown",
   "metadata": {},
   "source": [
    "#### Pull Regional Zoning Codes"
   ]
  },
  {
   "cell_type": "code",
   "execution_count": null,
   "metadata": {},
   "outputs": [],
   "source": [
    "rz_codes_id = 'qdrp-c5ra'\n",
    "rz_codes = pull_df_from_socrata(rz_codes_id)"
   ]
  },
  {
   "cell_type": "code",
   "execution_count": null,
   "metadata": {},
   "outputs": [],
   "source": [
    "rz_codes.head()"
   ]
  },
  {
   "cell_type": "code",
   "execution_count": null,
   "metadata": {},
   "outputs": [],
   "source": [
    "rz_codes.shape  # (2979, 16)"
   ]
  },
  {
   "cell_type": "code",
   "execution_count": null,
   "metadata": {},
   "outputs": [],
   "source": [
    "rz_codes['recid'].nunique() # 2979"
   ]
  },
  {
   "cell_type": "markdown",
   "metadata": {},
   "source": [
    "#### Pull Regional Zoning"
   ]
  },
  {
   "cell_type": "code",
   "execution_count": null,
   "metadata": {},
   "outputs": [],
   "source": [
    "regional_zoning_id = 'q2p6-hbrp'\n",
    "regional_zoning = pull_df_from_socrata(regional_zoning_id)"
   ]
  },
  {
   "cell_type": "code",
   "execution_count": null,
   "metadata": {},
   "outputs": [],
   "source": [
    "regional_zoning.head()"
   ]
  },
  {
   "cell_type": "code",
   "execution_count": null,
   "metadata": {},
   "outputs": [],
   "source": [
    "regional_zoning.shape  # (148496, 17)"
   ]
  },
  {
   "cell_type": "code",
   "execution_count": null,
   "metadata": {},
   "outputs": [],
   "source": [
    "regional_zoning['recid'].nunique() # 240"
   ]
  },
  {
   "cell_type": "markdown",
   "metadata": {},
   "source": [
    "## 2. EDA\n",
    "\n",
    "Your exploratory data analysis steps go here:\n",
    "\n",
    "Example EDA steps: https://kite.com/blog/python/data-analysis-visualization-python\n",
    "\n",
    "Things to check for: unique values, data quality issues (e.g. misspellings, mismatches, etc.), missing values, data cleaning steps"
   ]
  },
  {
   "cell_type": "code",
   "execution_count": null,
   "metadata": {},
   "outputs": [],
   "source": [
    "# get descriptive statistics for all fields\n",
    "urbansim_buildings.describe(include='all')"
   ]
  },
  {
   "cell_type": "code",
   "execution_count": null,
   "metadata": {},
   "outputs": [],
   "source": [
    "# check if this dataset contains null values\n",
    "urbansim_buildings.isnull().values.any()"
   ]
  },
  {
   "cell_type": "code",
   "execution_count": null,
   "metadata": {},
   "outputs": [],
   "source": [
    "# get number of null values per field\n",
    "urbansim_buildings.isnull().sum()"
   ]
  },
  {
   "cell_type": "code",
   "execution_count": null,
   "metadata": {},
   "outputs": [],
   "source": [
    "# visualize some categorical data\n",
    "urbansim_buildings['fipco'].value_counts().plot.bar(title='FIPCO counts');"
   ]
  }
 ],
 "metadata": {
  "kernelspec": {
   "display_name": "Python 3",
   "language": "python",
   "name": "python3"
  },
  "language_info": {
   "codemirror_mode": {
    "name": "ipython",
    "version": 3
   },
   "file_extension": ".py",
   "mimetype": "text/x-python",
   "name": "python",
   "nbconvert_exporter": "python",
   "pygments_lexer": "ipython3",
   "version": "3.7.3"
  }
 },
 "nbformat": 4,
 "nbformat_minor": 2
}
