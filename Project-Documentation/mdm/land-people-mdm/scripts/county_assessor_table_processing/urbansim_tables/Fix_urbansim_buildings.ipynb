{
 "cells": [
  {
   "cell_type": "markdown",
   "metadata": {},
   "source": [
    "# Urbansim Buildings Processing"
   ]
  },
  {
   "cell_type": "markdown",
   "metadata": {},
   "source": [
    "### TODO\n",
    "\n",
    "Once AWS access is restored:\n",
    "\n",
    "- Re-run Update_urbansim_buildings_county.ipynb\n",
    "    - Select distinct -> drop duplicates in urbansim_buildings tables\n",
    "    \n",
    "### Verify:\n",
    "\n",
    "- joinid should be unique to APN"
   ]
  },
  {
   "cell_type": "code",
   "execution_count": 1,
   "metadata": {},
   "outputs": [],
   "source": [
    "import os\n",
    "import sys\n",
    "import pandas as pd\n",
    "\n",
    "\n",
    "user = os.environ['USER']\n",
    "sys.path.insert(0, '/Users/{}/Box/DataViz Projects/Utility Code'.format(user))\n",
    "from utils_io import *"
   ]
  },
  {
   "cell_type": "markdown",
   "metadata": {},
   "source": [
    "## 1. Get data from Socrata"
   ]
  },
  {
   "cell_type": "code",
   "execution_count": 3,
   "metadata": {
    "scrolled": true
   },
   "outputs": [
    {
     "name": "stdout",
     "output_type": "stream",
     "text": [
      "pulling data in 37 chunks of 100000 rows each\n",
      "pulling chunk 0\n",
      "pulling chunk 1\n",
      "pulling chunk 2\n",
      "pulling chunk 3\n",
      "pulling chunk 4\n",
      "pulling chunk 5\n",
      "pulling chunk 6\n",
      "pulling chunk 7\n",
      "pulling chunk 8\n",
      "pulling chunk 9\n",
      "pulling chunk 10\n",
      "pulling chunk 11\n",
      "pulling chunk 12\n",
      "pulling chunk 13\n",
      "pulling chunk 14\n",
      "pulling chunk 15\n",
      "pulling chunk 16\n",
      "pulling chunk 17\n",
      "pulling chunk 18\n",
      "pulling chunk 19\n",
      "pulling chunk 20\n",
      "pulling chunk 21\n",
      "pulling chunk 22\n",
      "pulling chunk 23\n",
      "pulling chunk 24\n",
      "pulling chunk 25\n",
      "pulling chunk 26\n",
      "pulling chunk 27\n",
      "pulling chunk 28\n",
      "pulling chunk 29\n",
      "pulling chunk 30\n",
      "pulling chunk 31\n",
      "pulling chunk 32\n",
      "pulling chunk 33\n",
      "pulling chunk 34\n",
      "pulling chunk 35\n",
      "pulling chunk 36\n"
     ]
    }
   ],
   "source": [
    "# buildings_2018\n",
    "socrata_data_id = 'rrrx-2reu'\n",
    "df = pull_df_from_socrata(socrata_data_id)"
   ]
  },
  {
   "cell_type": "markdown",
   "metadata": {},
   "source": [
    "## 2. Inspect duplicates"
   ]
  },
  {
   "cell_type": "code",
   "execution_count": 4,
   "metadata": {},
   "outputs": [
    {
     "name": "stdout",
     "output_type": "stream",
     "text": [
      "(3655207, 15)\n",
      "(3120776, 15)\n",
      "2643041\n"
     ]
    }
   ],
   "source": [
    "# lots of duplicates\n",
    "print(df.shape)  # (3655207, 15)\n",
    "df.drop_duplicates(inplace=True)\n",
    "print(df.shape)  # (3120776, 15)\n",
    "# Duplicate APNs (makes sense since we're using buildings)\n",
    "print(df['apn'].nunique())  # 2643041"
   ]
  },
  {
   "cell_type": "markdown",
   "metadata": {},
   "source": [
    "## 3. Subset to data with values for EDA"
   ]
  },
  {
   "cell_type": "code",
   "execution_count": 5,
   "metadata": {},
   "outputs": [],
   "source": [
    "county_cols = ['assessed_building_value', 'assessed_date', 'building_id',\n",
    "               'building_sqft', 'building_type', \n",
    "               'jurisdiction_cty', 'last_sale_date', 'non_residential_sqft',\n",
    "               'residential_units', 'tenure', 'year_built']"
   ]
  },
  {
   "cell_type": "code",
   "execution_count": 6,
   "metadata": {},
   "outputs": [],
   "source": [
    "# subset to data with values\n",
    "df['missing_cty_input'] = df[county_cols].isnull().all(axis=1)\n",
    "cty_data = df[df['missing_cty_input'] == False].copy()"
   ]
  },
  {
   "cell_type": "markdown",
   "metadata": {},
   "source": [
    "## 4. EDA"
   ]
  },
  {
   "cell_type": "markdown",
   "metadata": {},
   "source": [
    "### Check duplicates"
   ]
  },
  {
   "cell_type": "markdown",
   "metadata": {},
   "source": [
    "It appears that there are duplicate records for buildings where the duplicate record has no building id.\n",
    "\n",
    "Solution: Drop null values using building_id column"
   ]
  },
  {
   "cell_type": "code",
   "execution_count": null,
   "metadata": {},
   "outputs": [],
   "source": [
    "cty_data.head(10)"
   ]
  },
  {
   "cell_type": "markdown",
   "metadata": {},
   "source": [
    "Drop null building ids"
   ]
  },
  {
   "cell_type": "code",
   "execution_count": 8,
   "metadata": {},
   "outputs": [],
   "source": [
    "# # this doesn't work since value is 'nan' not NaN\n",
    "# cty_data.dropna(subset=['building_id'], inplace=True)\n",
    "\n",
    "# instead\n",
    "cty_data = cty_data[cty_data['building_id'] != 'nan']"
   ]
  },
  {
   "cell_type": "code",
   "execution_count": null,
   "metadata": {},
   "outputs": [],
   "source": [
    "cty_data.head(10)"
   ]
  },
  {
   "cell_type": "markdown",
   "metadata": {},
   "source": [
    "Reassess duplicates"
   ]
  },
  {
   "cell_type": "code",
   "execution_count": 10,
   "metadata": {},
   "outputs": [
    {
     "name": "stdout",
     "output_type": "stream",
     "text": [
      "(476300, 16)\n",
      "475110\n"
     ]
    }
   ],
   "source": [
    "print(cty_data.shape)  # (476300, 16)\n",
    "# still duplicate building ids\n",
    "print(cty_data['building_id'].nunique())  # 475110"
   ]
  },
  {
   "cell_type": "code",
   "execution_count": 19,
   "metadata": {},
   "outputs": [
    {
     "data": {
      "text/plain": [
       "371818"
      ]
     },
     "execution_count": 19,
     "metadata": {},
     "output_type": "execute_result"
    }
   ],
   "source": [
    "# get target # of buildings\n",
    "target_num_buildings = cty_data[cty_data['fipco'] == 'CA085']['building_id'].nunique()\n",
    "target_num_buildings"
   ]
  },
  {
   "cell_type": "markdown",
   "metadata": {},
   "source": [
    "It looks like the duplicate values are arising from the merge (on APN) of county data and Parcels 2018 data.\n",
    "\n",
    "Parcels 2018 appears to have APNs for Marin (fipco CA041) and San Francisco (fipco CA075) that match Santa Clara APNs"
   ]
  },
  {
   "cell_type": "code",
   "execution_count": null,
   "metadata": {},
   "outputs": [],
   "source": [
    "vcs = cty_data.groupby('building_id').size().sort_values(ascending=False)\n",
    "dup_data = cty_data[cty_data['building_id'].isin(vcs[vcs > 1].index)]\n",
    "dup_data.head()"
   ]
  },
  {
   "cell_type": "markdown",
   "metadata": {},
   "source": [
    "Now it looks like duplicate values are arising from the same merge, but this time the problem is a many to one joinid:apn relationship.\n",
    "\n",
    "This is only the case for one APN: 13241104\n",
    "\n",
    "Solution: select one of the joinids as the correct one (verify with Parcels 2018 which one ought to be chosen)"
   ]
  },
  {
   "cell_type": "code",
   "execution_count": null,
   "metadata": {},
   "outputs": [],
   "source": [
    "print(dup_data['fipco'].value_counts())\n",
    "sc_dups = dup_data[dup_data['fipco'] == 'CA085']\n",
    "\n",
    "vcs1 = sc_dups.groupby('building_id').size().sort_values(ascending=False)\n",
    "dup_sc = sc_dups[sc_dups['building_id'].isin(vcs1[vcs1 > 1].index)]\n",
    "print(dup_sc['apn'].unique())\n",
    "dup_sc"
   ]
  },
  {
   "cell_type": "markdown",
   "metadata": {},
   "source": [
    "### Create cleaned version of data"
   ]
  },
  {
   "cell_type": "code",
   "execution_count": 16,
   "metadata": {},
   "outputs": [],
   "source": [
    "non_dup = cty_data[cty_data['building_id'].isin(vcs[vcs == 1].index)]\n",
    "sc_nondup = sc_dups[sc_dups['building_id'].isin(vcs1[vcs1 == 1].index)]\n",
    "\n",
    "buildings = pd.concat([non_dup, sc_nondup, dup_sc.iloc[[0]]])\n",
    "buildings = buildings[buildings['fipco'] == 'CA085']"
   ]
  },
  {
   "cell_type": "code",
   "execution_count": 20,
   "metadata": {},
   "outputs": [],
   "source": [
    "buildings = buildings[buildings['fipco'] == 'CA085']\n",
    "# building id is now unique\n",
    "assert len(buildings) == target_num_buildings"
   ]
  },
  {
   "cell_type": "markdown",
   "metadata": {},
   "source": [
    "### Check match with Parcels 2018 data"
   ]
  },
  {
   "cell_type": "code",
   "execution_count": 21,
   "metadata": {},
   "outputs": [],
   "source": [
    "# without match: AL, MI, LI, RE, CO, SM, MO, WA, HO\n",
    "\n",
    "d = {'SJ': 'San Jose',\n",
    "     'SC': 'Santa Clara',\n",
    "     'SU': 'Sunnyvale',\n",
    "     'PA': 'Palo Alto',\n",
    "     'MV': 'Mountain View',\n",
    "     'ST': None,\n",
    "     'LA': 'Los Altos',\n",
    "     'AL': None,\n",
    "     'LH': 'Los Altos Hills',\n",
    "     'PV': 'Portola Valley',\n",
    "     'MI': None,\n",
    "     'CA': 'Campbell',\n",
    "     'CU': 'Cupertino',\n",
    "     'LG': 'Los Gatos',\n",
    "     'SA': 'Saratoga',\n",
    "     'MS': 'Monte Sereno',\n",
    "     'LI': None,\n",
    "     'MH': 'Morgan Hill',\n",
    "     'RE': None,\n",
    "     'GI': 'Gilroy',\n",
    "     'CO': None,\n",
    "     'SM': None,\n",
    "     'MO': None,\n",
    "     'WA': None,\n",
    "     'HO': None}"
   ]
  },
  {
   "cell_type": "code",
   "execution_count": 22,
   "metadata": {},
   "outputs": [
    {
     "data": {
      "text/plain": [
       "['Unincorporated Santa Clara']"
      ]
     },
     "execution_count": 22,
     "metadata": {},
     "output_type": "execute_result"
    }
   ],
   "source": [
    "missing_jurisdict = list(set(buildings['jurisdict'].unique()).difference(set(d.values())))\n",
    "missing_jurisdict"
   ]
  },
  {
   "cell_type": "code",
   "execution_count": 24,
   "metadata": {},
   "outputs": [
    {
     "name": "stdout",
     "output_type": "stream",
     "text": [
      "Unincorporated Santa Clara \n",
      "\n",
      "SJ     9813\n",
      "LG     3158\n",
      "MH     1870\n",
      "GI     1641\n",
      "SM     1408\n",
      "LA     1245\n",
      "ST      551\n",
      "SA      209\n",
      "nan     160\n",
      "PA      134\n",
      "LH      127\n",
      "CU      117\n",
      "PV       26\n",
      "WA       15\n",
      "MS       14\n",
      "RE        6\n",
      "CO        5\n",
      "SC        5\n",
      "MV        1\n",
      "Name: jurisdiction_cty, dtype: int64\n",
      "\n",
      "\n"
     ]
    }
   ],
   "source": [
    "for j in missing_jurisdict:\n",
    "    print(j, '\\n')\n",
    "    print(buildings[buildings['jurisdict'] == j]['jurisdiction_cty'].value_counts())\n",
    "    print('\\n')"
   ]
  },
  {
   "cell_type": "code",
   "execution_count": 25,
   "metadata": {},
   "outputs": [
    {
     "data": {
      "text/plain": [
       "SJ San Jose                       191019\n",
       "SU Sunnyvale                       27786\n",
       "SC Santa Clara                     21927\n",
       "MV Mountain View                   15032\n",
       "CU Cupertino                       13851\n",
       "PA Palo Alto                       13734\n",
       "GI Gilroy                          12483\n",
       "MH Morgan Hill                     11114\n",
       "CA Campbell                        10541\n",
       "SJ Unincorporated Santa Clara       9813\n",
       "SA Saratoga                         9725\n",
       "LA Los Altos                        9378\n",
       "LG Los Gatos                        9202\n",
       "LG Unincorporated Santa Clara       3158\n",
       "LH Los Altos Hills                  2793\n",
       "MH Unincorporated Santa Clara       1870\n",
       "GI Unincorporated Santa Clara       1641\n",
       "SM Unincorporated Santa Clara       1408\n",
       "LA Unincorporated Santa Clara       1245\n",
       "MS Monte Sereno                     1132\n",
       "nan San Jose                         605\n",
       "ST Unincorporated Santa Clara        551\n",
       "SA Unincorporated Santa Clara        209\n",
       "nan Unincorporated Santa Clara       160\n",
       "PA Unincorporated Santa Clara        134\n",
       "LH Unincorporated Santa Clara        127\n",
       "nan Morgan Hill                      125\n",
       "CU Unincorporated Santa Clara        117\n",
       "nan Gilroy                            77\n",
       "CA San Jose                           63\n",
       "                                   ...  \n",
       "SA San Jose                           11\n",
       "PA Los Altos Hills                    10\n",
       "CU Sunnyvale                          10\n",
       "LA Mountain View                      10\n",
       "LG Saratoga                            9\n",
       "SU Cupertino                           9\n",
       "MV Palo Alto                           9\n",
       "SJ Los Gatos                           7\n",
       "RE Unincorporated Santa Clara          6\n",
       "SM Morgan Hill                         6\n",
       "SC Unincorporated Santa Clara          5\n",
       "CO Unincorporated Santa Clara          5\n",
       "SC Sunnyvale                           5\n",
       "CU Los Altos                           4\n",
       "SA Los Gatos                           3\n",
       "nan Monte Sereno                       3\n",
       "LG Campbell                            3\n",
       "SJ Santa Clara                         2\n",
       "LH Los Altos                           2\n",
       "LA Palo Alto                           2\n",
       "PV Palo Alto                           2\n",
       "ST Palo Alto                           1\n",
       "SJ Saratoga                            1\n",
       "LG Gilroy                              1\n",
       "CU Santa Clara                         1\n",
       "MV Unincorporated Santa Clara          1\n",
       "SA Cupertino                           1\n",
       "LH Cupertino                           1\n",
       "SU San Jose                            1\n",
       "CO San Jose                            1\n",
       "Name: juris_compare, Length: 88, dtype: int64"
      ]
     },
     "execution_count": 25,
     "metadata": {},
     "output_type": "execute_result"
    }
   ],
   "source": [
    "buildings['juris_compare'] = buildings['jurisdiction_cty'] + ' ' + buildings['jurisdict']\n",
    "buildings['juris_compare'].value_counts()"
   ]
  },
  {
   "cell_type": "code",
   "execution_count": 26,
   "metadata": {},
   "outputs": [
    {
     "name": "stdout",
     "output_type": "stream",
     "text": [
      "\n",
      " San Jose\n",
      "San Jose                      191019\n",
      "Unincorporated Santa Clara      9813\n",
      "Campbell                          17\n",
      "Los Gatos                          7\n",
      "Santa Clara                        2\n",
      "Saratoga                           1\n",
      "Name: jurisdict, dtype: int64\n",
      "\n",
      " Santa Clara\n",
      "Santa Clara                   21927\n",
      "Cupertino                        15\n",
      "San Jose                         12\n",
      "Unincorporated Santa Clara        5\n",
      "Sunnyvale                         5\n",
      "Name: jurisdict, dtype: int64\n",
      "\n",
      " Sunnyvale\n",
      "Sunnyvale        27786\n",
      "Mountain View       14\n",
      "Santa Clara         13\n",
      "Cupertino            9\n",
      "San Jose             1\n",
      "Name: jurisdict, dtype: int64\n",
      "\n",
      " Palo Alto\n",
      "Palo Alto                     13734\n",
      "Unincorporated Santa Clara      134\n",
      "Mountain View                    11\n",
      "Los Altos Hills                  10\n",
      "Name: jurisdict, dtype: int64\n",
      "\n",
      " Mountain View\n",
      "Mountain View                 15032\n",
      "Los Altos                        12\n",
      "Palo Alto                         9\n",
      "Unincorporated Santa Clara        1\n",
      "Name: jurisdict, dtype: int64\n",
      "\n",
      " None\n",
      "Unincorporated Santa Clara    551\n",
      "Palo Alto                       1\n",
      "Name: jurisdict, dtype: int64\n",
      "\n",
      " Los Altos\n",
      "Los Altos                     9378\n",
      "Unincorporated Santa Clara    1245\n",
      "Los Altos Hills                 34\n",
      "Cupertino                       13\n",
      "Mountain View                   10\n",
      "Palo Alto                        2\n",
      "Name: jurisdict, dtype: int64\n",
      "\n",
      " None\n",
      "Series([], Name: jurisdict, dtype: int64)\n",
      "\n",
      " Los Altos Hills\n",
      "Los Altos Hills               2793\n",
      "Unincorporated Santa Clara     127\n",
      "Palo Alto                       31\n",
      "Los Altos                        2\n",
      "Cupertino                        1\n",
      "Name: jurisdict, dtype: int64\n",
      "\n",
      " Portola Valley\n",
      "Unincorporated Santa Clara    26\n",
      "Palo Alto                      2\n",
      "Name: jurisdict, dtype: int64\n",
      "\n",
      " None\n",
      "Series([], Name: jurisdict, dtype: int64)\n",
      "\n",
      " Campbell\n",
      "Campbell    10541\n",
      "San Jose       63\n",
      "Name: jurisdict, dtype: int64\n",
      "\n",
      " Cupertino\n",
      "Cupertino                     13851\n",
      "Unincorporated Santa Clara      117\n",
      "San Jose                         41\n",
      "Sunnyvale                        10\n",
      "Los Altos                         4\n",
      "Santa Clara                       1\n",
      "Name: jurisdict, dtype: int64\n",
      "\n",
      " Los Gatos\n",
      "Los Gatos                     9202\n",
      "Unincorporated Santa Clara    3158\n",
      "San Jose                        50\n",
      "Monte Sereno                    20\n",
      "Saratoga                         9\n",
      "Campbell                         3\n",
      "Gilroy                           1\n",
      "Name: jurisdict, dtype: int64\n",
      "\n",
      " Saratoga\n",
      "Saratoga                      9725\n",
      "Unincorporated Santa Clara     209\n",
      "San Jose                        11\n",
      "Los Gatos                        3\n",
      "Cupertino                        1\n",
      "Name: jurisdict, dtype: int64\n",
      "\n",
      " Monte Sereno\n",
      "Monte Sereno                  1132\n",
      "Los Gatos                       33\n",
      "Unincorporated Santa Clara      14\n",
      "Name: jurisdict, dtype: int64\n",
      "\n",
      " None\n",
      "Series([], Name: jurisdict, dtype: int64)\n",
      "\n",
      " Morgan Hill\n",
      "Morgan Hill                   11114\n",
      "Unincorporated Santa Clara     1870\n",
      "San Jose                         27\n",
      "Name: jurisdict, dtype: int64\n",
      "\n",
      " None\n",
      "Unincorporated Santa Clara    6\n",
      "Name: jurisdict, dtype: int64\n",
      "\n",
      " Gilroy\n",
      "Gilroy                        12483\n",
      "Unincorporated Santa Clara     1641\n",
      "Name: jurisdict, dtype: int64\n",
      "\n",
      " None\n",
      "Unincorporated Santa Clara    5\n",
      "San Jose                      1\n",
      "Name: jurisdict, dtype: int64\n",
      "\n",
      " None\n",
      "Unincorporated Santa Clara    1408\n",
      "Morgan Hill                      6\n",
      "Name: jurisdict, dtype: int64\n",
      "\n",
      " None\n",
      "Series([], Name: jurisdict, dtype: int64)\n",
      "\n",
      " None\n",
      "Unincorporated Santa Clara    15\n",
      "Name: jurisdict, dtype: int64\n",
      "\n",
      " None\n",
      "Series([], Name: jurisdict, dtype: int64)\n"
     ]
    }
   ],
   "source": [
    "for k, v in d.items():\n",
    "    print('\\n', v)\n",
    "    print(buildings[buildings['jurisdiction_cty'] == k]['jurisdict'].value_counts(dropna=False))"
   ]
  },
  {
   "cell_type": "code",
   "execution_count": 27,
   "metadata": {},
   "outputs": [],
   "source": [
    "buildings.to_csv('urbanim_buildings_proc.csv', index=False)"
   ]
  }
 ],
 "metadata": {
  "kernelspec": {
   "display_name": "Python 3",
   "language": "python",
   "name": "python3"
  },
  "language_info": {
   "codemirror_mode": {
    "name": "ipython",
    "version": 3
   },
   "file_extension": ".py",
   "mimetype": "text/x-python",
   "name": "python",
   "nbconvert_exporter": "python",
   "pygments_lexer": "ipython3",
   "version": "3.7.3"
  }
 },
 "nbformat": 4,
 "nbformat_minor": 2
}
