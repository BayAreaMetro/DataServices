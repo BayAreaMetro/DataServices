{
 "cells": [
  {
   "cell_type": "markdown",
   "metadata": {},
   "source": [
    "# Urbansim Parcels Processing"
   ]
  },
  {
   "cell_type": "markdown",
   "metadata": {},
   "source": [
    "### TODO\n",
    "AWS:\n",
    "\n",
    "- Re-run Update_urbansim_parcels_county.ipynb\n",
    "    - Select distinct -> drop duplicates in urbansim_parcels\n",
    "    \n",
    "- Add county origin column to `basis.{}_county` tables to fix fipco merge problem (discussed in EDA section in EDA_urbansim_buildings.ipynb)\n",
    "\n",
    "### Verify:\n",
    "- joinid should be unique to APN"
   ]
  },
  {
   "cell_type": "code",
   "execution_count": 1,
   "metadata": {},
   "outputs": [],
   "source": [
    "import os\n",
    "import sys\n",
    "import pandas as pd\n",
    "\n",
    "\n",
    "user = os.environ['USER']\n",
    "sys.path.insert(0, '/Users/{}/Box/DataViz Projects/Utility Code'.format(user))\n",
    "from utils_io import *"
   ]
  },
  {
   "cell_type": "markdown",
   "metadata": {},
   "source": [
    "## 1. Get data from Socrata"
   ]
  },
  {
   "cell_type": "code",
   "execution_count": 2,
   "metadata": {
    "scrolled": true
   },
   "outputs": [
    {
     "name": "stdout",
     "output_type": "stream",
     "text": [
      "pulling data in 37 chunks of 100000 rows each\n",
      "pulling chunk 0\n",
      "pulling chunk 1\n",
      "pulling chunk 2\n",
      "pulling chunk 3\n",
      "pulling chunk 4\n",
      "pulling chunk 5\n",
      "pulling chunk 6\n",
      "pulling chunk 7\n",
      "pulling chunk 8\n",
      "pulling chunk 9\n",
      "pulling chunk 10\n",
      "pulling chunk 11\n",
      "pulling chunk 12\n",
      "pulling chunk 13\n",
      "pulling chunk 14\n",
      "pulling chunk 15\n",
      "pulling chunk 16\n",
      "pulling chunk 17\n",
      "pulling chunk 18\n",
      "pulling chunk 19\n",
      "pulling chunk 20\n",
      "pulling chunk 21\n",
      "pulling chunk 22\n",
      "pulling chunk 23\n",
      "pulling chunk 24\n",
      "pulling chunk 25\n",
      "pulling chunk 26\n",
      "pulling chunk 27\n",
      "pulling chunk 28\n",
      "pulling chunk 29\n",
      "pulling chunk 30\n",
      "pulling chunk 31\n",
      "pulling chunk 32\n",
      "pulling chunk 33\n",
      "pulling chunk 34\n",
      "pulling chunk 35\n",
      "pulling chunk 36\n"
     ]
    }
   ],
   "source": [
    "socrata_data_id = '6q7r-gybw'\n",
    "df = pull_df_from_socrata(socrata_data_id)"
   ]
  },
  {
   "cell_type": "markdown",
   "metadata": {},
   "source": [
    "## 2. Inspect duplicates"
   ]
  },
  {
   "cell_type": "code",
   "execution_count": 3,
   "metadata": {},
   "outputs": [
    {
     "name": "stdout",
     "output_type": "stream",
     "text": [
      "(3655207, 7)\n",
      "(2644476, 7)\n",
      "2643041\n"
     ]
    }
   ],
   "source": [
    "# lots of duplicates\n",
    "print(df.shape)  # (3655207, 8)\n",
    "df.drop_duplicates(inplace=True)\n",
    "print(df.shape)  # (2644476, 8)\n",
    "# still duplicate APNs\n",
    "print(df['apn'].nunique())  # 2643041"
   ]
  },
  {
   "cell_type": "code",
   "execution_count": 15,
   "metadata": {},
   "outputs": [
    {
     "data": {
      "text/plain": [
       "381269"
      ]
     },
     "execution_count": 15,
     "metadata": {},
     "output_type": "execute_result"
    }
   ],
   "source": [
    "# get target # of apns\n",
    "target_num_apns = cty_data[cty_data['fipco'] == 'CA085']['apn'].nunique()\n",
    "target_num_apns"
   ]
  },
  {
   "cell_type": "markdown",
   "metadata": {},
   "source": [
    "## 3. Subset to data with values for EDA"
   ]
  },
  {
   "cell_type": "code",
   "execution_count": 4,
   "metadata": {},
   "outputs": [],
   "source": [
    "county_cols = ['acres', 'assessed_land_value', 'jurisdiction_cty']"
   ]
  },
  {
   "cell_type": "code",
   "execution_count": 6,
   "metadata": {},
   "outputs": [],
   "source": [
    "# subset to data with values\n",
    "df['missing_cty_input'] = df[county_cols].isnull().all(axis=1)\n",
    "cty_data = df[df['missing_cty_input'] == False].copy()"
   ]
  },
  {
   "cell_type": "code",
   "execution_count": null,
   "metadata": {},
   "outputs": [],
   "source": [
    "cty_data.head()"
   ]
  },
  {
   "cell_type": "markdown",
   "metadata": {},
   "source": [
    "## 4. EDA"
   ]
  },
  {
   "cell_type": "markdown",
   "metadata": {},
   "source": [
    "### Check duplicates"
   ]
  },
  {
   "cell_type": "markdown",
   "metadata": {},
   "source": [
    "It appears that there are duplicate records for apns due to the same Parcels 2018 fipco merge problem discussed in the EDA_urbansim_buildings.ipynb EDA section.\n",
    "\n",
    "Solution: Drop non-Santa Clara values"
   ]
  },
  {
   "cell_type": "code",
   "execution_count": null,
   "metadata": {},
   "outputs": [],
   "source": [
    "vcs = cty_data.groupby('apn').size().sort_values(ascending=False)\n",
    "dup_data = cty_data[cty_data['apn'].isin(vcs[vcs > 1].index)]\n",
    "dup_data.head()"
   ]
  },
  {
   "cell_type": "markdown",
   "metadata": {},
   "source": [
    "Now the secondary duplicate merge problem (noted in the EDA_urbansim_buildings.ipynb EDA section) is presented:\n",
    "duplicate joinids for one APN: 13241104\n",
    "\n",
    "Solution: select one of the joinids as the correct one (verify with Parcels 2018 which one ought to be chosen)"
   ]
  },
  {
   "cell_type": "code",
   "execution_count": null,
   "metadata": {},
   "outputs": [],
   "source": [
    "sc_dups = dup_data[dup_data['fipco'] == 'CA085']\n",
    "vcs1 = sc_dups.groupby('apn').size().sort_values(ascending=False)\n",
    "dup_sc = sc_dups[sc_dups['apn'].isin(vcs1[vcs1 > 1].index)]\n",
    "print(dup_sc['apn'].unique())\n",
    "dup_sc"
   ]
  },
  {
   "cell_type": "markdown",
   "metadata": {},
   "source": [
    "### Create cleaned version of data"
   ]
  },
  {
   "cell_type": "code",
   "execution_count": 12,
   "metadata": {},
   "outputs": [],
   "source": [
    "non_dup = cty_data[cty_data['apn'].isin(vcs[vcs == 1].index)]\n",
    "sc_nondup = sc_dups[sc_dups['apn'].isin(vcs1[vcs1 == 1].index)]\n",
    "\n",
    "parcels = pd.concat([non_dup, sc_nondup, dup_sc.iloc[[0]]])\n",
    "parcels = parcels[parcels['fipco'] == 'CA085']"
   ]
  },
  {
   "cell_type": "code",
   "execution_count": 16,
   "metadata": {},
   "outputs": [],
   "source": [
    "parcels = parcels[parcels['fipco'] == 'CA085']\n",
    "# apn is now unique\n",
    "assert len(parcels) == target_num_apns"
   ]
  },
  {
   "cell_type": "markdown",
   "metadata": {},
   "source": [
    "### Check match with Parcels 2018 data"
   ]
  },
  {
   "cell_type": "markdown",
   "metadata": {},
   "source": [
    "This table has the same jurisdiction join problems as urbansim_buildings (see EDA_urbansim_buildings.ipynb EDA section)"
   ]
  },
  {
   "cell_type": "code",
   "execution_count": 17,
   "metadata": {},
   "outputs": [
    {
     "data": {
      "text/plain": [
       "SJ San Jose                       192453\n",
       "SU Sunnyvale                       27869\n",
       "SC Santa Clara                     22075\n",
       "MV Mountain View                   15126\n",
       "CU Cupertino                       13931\n",
       "PA Palo Alto                       13780\n",
       "GI Gilroy                          12744\n",
       "MH Morgan Hill                     11432\n",
       "CA Campbell                        10546\n",
       "SJ Unincorporated Santa Clara      10449\n",
       "SA Saratoga                         9896\n",
       "LA Los Altos                        9494\n",
       "LG Los Gatos                        9323\n",
       "LG Unincorporated Santa Clara       3890\n",
       "GI Unincorporated Santa Clara       3157\n",
       "MH Unincorporated Santa Clara       2928\n",
       "LH Los Altos Hills                  2811\n",
       "SM Unincorporated Santa Clara       1688\n",
       "LA Unincorporated Santa Clara       1248\n",
       "nan San Jose                        1228\n",
       "MS Monte Sereno                     1104\n",
       "nan Unincorporated Santa Clara       820\n",
       "ST Unincorporated Santa Clara        578\n",
       "SA Unincorporated Santa Clara        334\n",
       "CU Unincorporated Santa Clara        223\n",
       "nan Morgan Hill                      207\n",
       "PA Unincorporated Santa Clara        193\n",
       "nan Gilroy                           169\n",
       "nan Santa Clara                      161\n",
       "LH Unincorporated Santa Clara        148\n",
       "                                   ...  \n",
       "SU Cupertino                           8\n",
       "LG Campbell                            6\n",
       "RE Unincorporated Santa Clara          6\n",
       "SM Morgan Hill                         6\n",
       "SC Sunnyvale                           6\n",
       "CU Los Altos                           6\n",
       "CO Unincorporated Santa Clara          6\n",
       "SC Unincorporated Santa Clara          5\n",
       "LA Palo Alto                           4\n",
       "SU San Jose                            4\n",
       "SA Los Gatos                           4\n",
       "PA Portola Valley                      3\n",
       "nan Monte Sereno                       3\n",
       "PV Palo Alto                           3\n",
       "LH Los Altos                           2\n",
       "LH Cupertino                           2\n",
       "SU Unincorporated Santa Clara          2\n",
       "ST Palo Alto                           2\n",
       "CU Santa Clara                         2\n",
       "MO Unincorporated Santa Clara          1\n",
       "MV Sunnyvale                           1\n",
       "UN Unincorporated Santa Clara          1\n",
       "LG Gilroy                              1\n",
       "CO San Jose                            1\n",
       "CA Saratoga                            1\n",
       "ST Portola Valley                      1\n",
       "LA Sunnyvale                           1\n",
       "LI Unincorporated Santa Clara          1\n",
       "SJ Saratoga                            1\n",
       "MS Saratoga                            1\n",
       "Name: juris_compare, Length: 99, dtype: int64"
      ]
     },
     "execution_count": 17,
     "metadata": {},
     "output_type": "execute_result"
    }
   ],
   "source": [
    "parcels['juris_compare'] = parcels['jurisdiction_cty'] + ' ' + parcels['jurisdict']\n",
    "parcels['juris_compare'].value_counts()"
   ]
  },
  {
   "cell_type": "code",
   "execution_count": 18,
   "metadata": {},
   "outputs": [],
   "source": [
    "parcels.to_csv('urbanim_parcels_proc.csv', index=False)"
   ]
  },
  {
   "cell_type": "code",
   "execution_count": null,
   "metadata": {},
   "outputs": [],
   "source": []
  }
 ],
 "metadata": {
  "kernelspec": {
   "display_name": "Python 3",
   "language": "python",
   "name": "python3"
  },
  "language_info": {
   "codemirror_mode": {
    "name": "ipython",
    "version": 3
   },
   "file_extension": ".py",
   "mimetype": "text/x-python",
   "name": "python",
   "nbconvert_exporter": "python",
   "pygments_lexer": "ipython3",
   "version": "3.7.3"
  }
 },
 "nbformat": 4,
 "nbformat_minor": 2
}
