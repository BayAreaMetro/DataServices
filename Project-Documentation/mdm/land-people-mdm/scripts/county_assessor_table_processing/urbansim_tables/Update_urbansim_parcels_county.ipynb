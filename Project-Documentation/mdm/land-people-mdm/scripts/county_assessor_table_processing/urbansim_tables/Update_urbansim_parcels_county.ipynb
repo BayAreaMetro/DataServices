{
 "cells": [
  {
   "cell_type": "code",
   "execution_count": null,
   "metadata": {},
   "outputs": [],
   "source": [
    "import os\n",
    "import sys\n",
    "\n",
    "user = os.environ['USER']\n",
    "sys.path.insert(0, '/Users/{}/Box/DataViz Projects/Utility Code'.format(user))\n",
    "from utils_io import load_json\n",
    "\n",
    "from config import colmap_json_output_dir\n",
    "from utils import update_urbansim_table_county"
   ]
  },
  {
   "cell_type": "markdown",
   "metadata": {},
   "source": [
    "### Santa Clara"
   ]
  },
  {
   "cell_type": "code",
   "execution_count": null,
   "metadata": {},
   "outputs": [],
   "source": [
    "county_name = 'Santa_Clara'\n",
    "urbansim_table = 'parcels'\n",
    "\n",
    "county_table = 'basis.santa_clara_county'\n",
    "staging_table = 'basis.santa_clara_parcels_stage'\n",
    "urbansim_table_redshift = 'basis.urbansim_{}'.format(urbansim_table)\n",
    "\n",
    "colmap_fname = os.path.join(colmap_json_output_dir, '{}_colmap_{}.json'.format(urbansim_table, county_name))\n",
    "colmapping = load_json(colmap_fname)\n",
    "\n",
    "update_urbansim_table_county(urbansim_table_redshift, county_table, staging_table, colmapping)"
   ]
  },
  {
   "cell_type": "code",
   "execution_count": null,
   "metadata": {},
   "outputs": [],
   "source": []
  }
 ],
 "metadata": {
  "kernelspec": {
   "display_name": "Python 3",
   "language": "python",
   "name": "python3"
  },
  "language_info": {
   "codemirror_mode": {
    "name": "ipython",
    "version": 3
   },
   "file_extension": ".py",
   "mimetype": "text/x-python",
   "name": "python",
   "nbconvert_exporter": "python",
   "pygments_lexer": "ipython3",
   "version": "3.7.3"
  }
 },
 "nbformat": 4,
 "nbformat_minor": 2
}
