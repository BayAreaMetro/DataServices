{
 "cells": [
  {
   "cell_type": "code",
   "execution_count": null,
   "metadata": {},
   "outputs": [],
   "source": [
    "import os\n",
    "import sys\n",
    "import pandas as pd\n",
    "\n",
    "\n",
    "user = os.environ['USER']\n",
    "sys.path.insert(0, '/Users/{}/Box/DataViz Projects/Utility Code'.format(user))\n",
    "from utils_io import *"
   ]
  },
  {
   "cell_type": "markdown",
   "metadata": {},
   "source": [
    "# Create Urbansim datasets on Socrata\n",
    "\n",
    "- initialize Socrata dataset\n",
    "    - specify data types\n",
    "    - specify metadata\n",
    "        - name\n",
    "        - description\n",
    "        - tags\n",
    "        - category\n",
    "- pull Urbansim data from Redshift tables\n",
    "- upsert rows in Socrata with Urbansim table data\n",
    "- publish Socrata dataset"
   ]
  },
  {
   "cell_type": "markdown",
   "metadata": {},
   "source": [
    "## Buildings"
   ]
  },
  {
   "cell_type": "code",
   "execution_count": null,
   "metadata": {},
   "outputs": [],
   "source": [
    "# Possible data types at https://dev.socrata.com/docs/datatypes/#,\n",
    "buildings_ctype_dict = {'apn': 'text',\n",
    "                         'jurisdiction_cty': 'text',\n",
    "                         'parcel_id': 'text',\n",
    "                         'building_id': 'text',\n",
    "                         'building_type': 'text',\n",
    "                         'building_sqft': 'number',\n",
    "                         'non_residential_sqft': 'number',\n",
    "                         'residential_units': 'number',\n",
    "                         'year_built': 'number',\n",
    "                         'assessed_building_value': 'number',\n",
    "                         'assessed_date': 'number',\n",
    "                         'last_sale_price': 'number',\n",
    "                         'last_sale_date': 'number',\n",
    "                         'tenure': 'text',\n",
    "                         'rent_type': 'text',\n",
    "                         'joinid': 'text',\n",
    "                         'jurisdict': 'text',\n",
    "                         'fipco': 'text'}\n",
    "\n",
    "# columns must have these fields: fieldName, name, dataTypeName\n",
    "columns = [{'fieldName': k, 'name': k, 'dataTypeName': v} for k, v in buildings_ctype_dict.items()]\n",
    "\n",
    "dataset_name = 'Urbansim Buildings'\n",
    "dataset_desc = 'Urbansim Buildings dataset'\n",
    "tags = ['basis', 'land use data processing', 'parcels']\n",
    "category = 'Land Use'\n",
    "\n",
    "dataset_metadata = create_socrata_dataset(dataset_name, dataset_desc, columns, category, tags)\n",
    "socrata_data_id = dataset_metadata['id']\n",
    "\n",
    "# download basis.urbansim_buildings table as df\n",
    "sql_statement = 'select * from basis.urbansim_buildings'\n",
    "df = pull_df_from_redshift_sql(sql_statement, dbname='dev')\n",
    "\n",
    "# upsert data in chunks\n",
    "upsert_df_socrata(df, socrata_data_id)\n",
    "\n",
    "# publish data\n",
    "publish_socrata_dataset(socrata_data_id)"
   ]
  },
  {
   "cell_type": "markdown",
   "metadata": {},
   "source": [
    "## Parcels"
   ]
  },
  {
   "cell_type": "code",
   "execution_count": null,
   "metadata": {},
   "outputs": [],
   "source": [
    "# Possible data types at https://dev.socrata.com/docs/datatypes/#,\n",
    "parcels_ctype_dict = {'apn': 'text',\n",
    "                     'jurisdiction_cty': 'text',\n",
    "                     'parcel_id': 'text',\n",
    "                     'assessed_land_value': 'number',\n",
    "                     'assessed_date': 'number',\n",
    "                     'acres': 'number',\n",
    "                     'county_id': 'text',\n",
    "                     'county': 'text',\n",
    "                     'zone_id': 'text',\n",
    "                     'taz22': 'text',\n",
    "                     'maz': 'text',\n",
    "                     'X': 'number',\n",
    "                     'Y': 'number',\n",
    "                     'juris_id': 'text',\n",
    "                     'pda_id': 'text',\n",
    "                     'tpa_id': 'text',\n",
    "                     'opp_id': 'text',\n",
    "                     'exp_id': 'text',\n",
    "                     'exp_score': 'text',\n",
    "                     'zoningmodcat': 'text',\n",
    "                     'joinid': 'text',\n",
    "                     'jurisdict': 'text',\n",
    "                     'fipco': 'text'}\n",
    "\n",
    " \n",
    "# columns must have these fields: fieldName, name, dataTypeName\n",
    "# also field names must be lowercase (English) letters, digits and underscore (must start with a letter or underscore)\n",
    "columns = [{'fieldName': k.lower(), 'name': k, 'dataTypeName': v} for k, v in parcels_ctype_dict.items()]\n",
    "\n",
    "dataset_name = 'Urbansim Parcels'\n",
    "dataset_desc = 'Urbansim Parcels dataset'\n",
    "tags = ['basis', 'land use data processing', 'parcels']\n",
    "category = 'Land Use'\n",
    "\n",
    "dataset_metadata = create_socrata_dataset(dataset_name, dataset_desc, columns, category, tags)\n",
    "socrata_data_id = dataset_metadata['id']\n",
    "\n",
    "# download basis.urbansim_parcels table as df\n",
    "sql_statement = 'select * from basis.urbansim_parcels'\n",
    "df = pull_df_from_redshift_sql(sql_statement, dbname='dev')\n",
    "\n",
    "# upsert data in chunks\n",
    "upsert_df_socrata(df, socrata_data_id)\n",
    "\n",
    "# publish data\n",
    "publish_socrata_dataset(socrata_data_id)"
   ]
  },
  {
   "cell_type": "code",
   "execution_count": null,
   "metadata": {},
   "outputs": [],
   "source": []
  }
 ],
 "metadata": {
  "kernelspec": {
   "display_name": "Python 3",
   "language": "python",
   "name": "python3"
  },
  "language_info": {
   "codemirror_mode": {
    "name": "ipython",
    "version": 3
   },
   "file_extension": ".py",
   "mimetype": "text/x-python",
   "name": "python",
   "nbconvert_exporter": "python",
   "pygments_lexer": "ipython3",
   "version": "3.7.3"
  }
 },
 "nbformat": 4,
 "nbformat_minor": 2
}
