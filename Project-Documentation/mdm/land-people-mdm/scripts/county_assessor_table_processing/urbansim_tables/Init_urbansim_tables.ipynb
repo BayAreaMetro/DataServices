{
 "cells": [
  {
   "cell_type": "code",
   "execution_count": null,
   "metadata": {},
   "outputs": [],
   "source": [
    "import os\n",
    "import sys\n",
    "from sqlalchemy import types\n",
    "\n",
    "from config import redshift_coltype_dir\n",
    "from utils import create_urbansim_table\n",
    "\n",
    "\n",
    "user = os.environ['USER']\n",
    "sys.path.insert(0, '/Users/{}/Box/DataViz Projects/Utility Code'.format(user))\n",
    "from utils_io import *"
   ]
  },
  {
   "cell_type": "markdown",
   "metadata": {},
   "source": [
    "### Initialize column types"
   ]
  },
  {
   "cell_type": "code",
   "execution_count": null,
   "metadata": {},
   "outputs": [],
   "source": [
    "# use parcels 2018 lengths\n",
    "parcels_2018_ctypes = {'joinid': types.VARCHAR(50),\n",
    "                       'apn': types.VARCHAR(100),\n",
    "                       'jurisdict': types.VARCHAR(100),\n",
    "                       'fipco': types.VARCHAR(50)}"
   ]
  },
  {
   "cell_type": "code",
   "execution_count": null,
   "metadata": {},
   "outputs": [],
   "source": [
    "# basis.urbansim_buildings\n",
    "buildings_cols = {'jurisdiction_cty': types.VARCHAR(50),\n",
    "                 'parcel_id': types.VARCHAR(50),\n",
    "                 'building_id': types.VARCHAR(50),\n",
    "                 'building_type': types.VARCHAR(50),\n",
    "                 'building_sqft': types.FLOAT,\n",
    "                 'non_residential_sqft': types.FLOAT,\n",
    "                 'residential_units': types.VARCHAR(50),\n",
    "                 'year_built': types.VARCHAR(10),\n",
    "                 'assessed_building_value': types.FLOAT,\n",
    "                 'assessed_date': types.VARCHAR(50),\n",
    "                 'last_sale_price': types.FLOAT,\n",
    "                 'last_sale_date': types.VARCHAR(50),\n",
    "                 'tenure': types.VARCHAR(50),\n",
    "                 'rent_type': types.VARCHAR(50)\n",
    "                 }\n",
    "\n",
    "buildings_dict = {**parcels_2018_ctypes, **buildings_cols}\n",
    "\n",
    "# basis.urbansim_parcels\n",
    "parcels_cols = {'jurisdiction_cty': types.VARCHAR(50),\n",
    "                'parcel_id': types.VARCHAR(50),\n",
    "                 'assessed_land_value': types.FLOAT,\n",
    "                 'assessed_date': types.VARCHAR(50),\n",
    "                 'acres': types.FLOAT,\n",
    "                 'county_id': types.VARCHAR(50),\n",
    "                 'county': types.VARCHAR(50),\n",
    "                 'zone_id': types.VARCHAR(50),\n",
    "                 'taz22': types.FLOAT,\n",
    "                 'maz': types.FLOAT,\n",
    "                 'X': types.FLOAT,\n",
    "                 'Y': types.FLOAT,\n",
    "                 'juris_id': types.VARCHAR(50),\n",
    "                 'pda_id': types.VARCHAR(50),\n",
    "                 'tpa_id': types.VARCHAR(50),\n",
    "                 'opp_id': types.VARCHAR(50),\n",
    "                 'exp_id': types.VARCHAR(50),\n",
    "                 'exp_score': types.VARCHAR(50),\n",
    "                 'zoningmodcat': types.VARCHAR(50)\n",
    "               }\n",
    "parcels_dict = {**parcels_2018_ctypes, **parcels_cols}"
   ]
  },
  {
   "cell_type": "code",
   "execution_count": null,
   "metadata": {},
   "outputs": [],
   "source": [
    "buildings_output_fname = os.path.join(redshift_coltype_dir, 'urbansim_buildings_coltypes.txt')\n",
    "write_text(repr(buildings_dict), buildings_output_fname)\n",
    "\n",
    "parcels_output_fname = os.path.join(redshift_coltype_dir, 'urbansim_parcels_coltypes.txt')\n",
    "write_text(repr(parcels_dict), parcels_output_fname)"
   ]
  },
  {
   "cell_type": "markdown",
   "metadata": {},
   "source": [
    "### Post as tables"
   ]
  },
  {
   "cell_type": "code",
   "execution_count": null,
   "metadata": {},
   "outputs": [],
   "source": [
    "urbansim_init_d = {\n",
    "                   'basis.urbansim_buildings': buildings_dict,\n",
    "                   'basis.urbansim_parcels': parcels_dict\n",
    "                  }\n",
    "\n",
    "for tablename, column_type_dict in urbansim_init_d.items():\n",
    "    create_urbansim_table(tablename, column_type_dict)"
   ]
  },
  {
   "cell_type": "code",
   "execution_count": null,
   "metadata": {},
   "outputs": [],
   "source": []
  }
 ],
 "metadata": {
  "kernelspec": {
   "display_name": "Python 3",
   "language": "python",
   "name": "python3"
  },
  "language_info": {
   "codemirror_mode": {
    "name": "ipython",
    "version": 3
   },
   "file_extension": ".py",
   "mimetype": "text/x-python",
   "name": "python",
   "nbconvert_exporter": "python",
   "pygments_lexer": "ipython3",
   "version": "3.7.3"
  }
 },
 "nbformat": 4,
 "nbformat_minor": 2
}
