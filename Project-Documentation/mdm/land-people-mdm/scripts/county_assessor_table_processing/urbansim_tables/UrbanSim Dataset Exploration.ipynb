{
 "cells": [
  {
   "cell_type": "code",
   "execution_count": null,
   "metadata": {},
   "outputs": [],
   "source": [
    "# Requirements: run this cell first to install necessary Python libraries\n",
    "\n",
    "! pip install boto3\n",
    "! pip install s3fs\n",
    "! conda install -y -c anaconda psycopg2\n",
    "! pip install sodapy\n",
    "! pip install sqlalchemy-redshift"
   ]
  },
  {
   "cell_type": "code",
   "execution_count": 1,
   "metadata": {},
   "outputs": [],
   "source": [
    "import os\n",
    "import sys\n",
    "import pandas as pd\n",
    "\n",
    "user = os.environ['USER']\n",
    "sys.path.insert(0, '/Users/{}/Box/DataViz Projects/Utility Code'.format(user))\n",
    "from utils_io import *"
   ]
  },
  {
   "cell_type": "markdown",
   "metadata": {},
   "source": [
    "# UrbanSim Data Set Exploration\n",
    "\n",
    "\n",
    "Pythonic Approach to Managing Socrata Data Assets using SodaPy\n",
    "\n",
    "**SodaPy source**:\n",
    "https://github.com/xmunoz/sodapy\n",
    "\n",
    "**Github Documentation**: [BayAreaMetro/DataServices](https://github.com/BayAreaMetro/DataServices/tree/master/Project-Documentation/mdm)\n",
    "\n",
    "## Socrata Data Sets\n",
    "\n",
    "### Parcels 2018\n",
    "\n",
    "**Documentation**: [Parcels 2018](https://github.com/BayAreaMetro/DataServices/blob/master/Project-Documentation/mdm/land-people-mdm/parcels_2018.md)\n",
    "\n",
    "**Socrata dataset ID**: fqea-xb6g\n",
    "\n",
    "**Primary key**: 'joinid'\n",
    "\n",
    "### UrbanSim Buildings\n",
    "\n",
    "**Documentation**: [UrbanSim Buildings](https://github.com/BayAreaMetro/DataServices/blob/master/Project-Documentation/mdm/land-people-mdm/buildings.md)\n",
    "\n",
    "**Socrata dataset ID**: rrrx-2reu\n",
    "\n",
    "**Primary key**: 'building_id'\n",
    "\n",
    "**Foreign key**: 'joinid\n",
    "\n",
    "### UrbanSim Parcels\n",
    "\n",
    "**Documentation**: [UrbanSim Parcels](https://github.com/BayAreaMetro/DataServices/blob/master/Project-Documentation/mdm/land-people-mdm/urbansim_parcels.md)\n",
    "\n",
    "**Socrata dataset ID**: 6q7r-gybw\n",
    "\n",
    "**Primary key**: 'joinid'\n",
    "\n",
    "\n",
    "### Socrata Credentials\n",
    "\n",
    "Socrata credentials for this  are managed by Kaya Tollas (ktollas@bayareametro.gov)"
   ]
  },
  {
   "cell_type": "markdown",
   "metadata": {},
   "source": [
    "# How to use this notebook:\n",
    "\n",
    "This notebook shows how to identify datasets of interest (based on tags) on Socrata, pull data from Socrata into a pandas DataFrame, and begin exploratory data analysis (EDA)"
   ]
  },
  {
   "cell_type": "markdown",
   "metadata": {},
   "source": [
    "## 1. Find data sets of interest from Socrata\n",
    "\n",
    "First pull the Socrata data assets table to get metadata for all data assets."
   ]
  },
  {
   "cell_type": "code",
   "execution_count": 2,
   "metadata": {},
   "outputs": [
    {
     "name": "stdout",
     "output_type": "stream",
     "text": [
      "pulling data in 1 chunks of 156 rows each\n",
      "pulling chunk 0\n"
     ]
    }
   ],
   "source": [
    "socrata_asset_table_id = 'rs6b-4exy'\n",
    "socrata_asset_table = pull_df_from_socrata(socrata_asset_table_id)"
   ]
  },
  {
   "cell_type": "code",
   "execution_count": null,
   "metadata": {},
   "outputs": [],
   "source": [
    "# these are the relevant columns for selecting relevant datasets\n",
    "keep_cols = ['api_endpoint', 'category', 'dataset_link',\n",
    "             'endpoint', 'keywords', 'name', 'u_id', 'visits']\n",
    "\n",
    "socrata_asset_table = socrata_asset_table[keep_cols]\n",
    "socrata_asset_table.head()"
   ]
  },
  {
   "cell_type": "markdown",
   "metadata": {},
   "source": [
    "Filter the datasets to the ones of interest by filtering on tag"
   ]
  },
  {
   "cell_type": "code",
   "execution_count": 21,
   "metadata": {},
   "outputs": [],
   "source": [
    "def filter_datasets_by_tag(filter_tag):\n",
    "    urbansim_table_data = socrata_asset_table[socrata_asset_table['keywords'].str.contains(filter_tag) == True]\n",
    "    filtered_datasets = urbansim_table_data[['name', 'u_id', 'keywords']]\n",
    "    return filtered_datasets"
   ]
  },
  {
   "cell_type": "code",
   "execution_count": 22,
   "metadata": {},
   "outputs": [
    {
     "data": {
      "text/html": [
       "<div>\n",
       "<style scoped>\n",
       "    .dataframe tbody tr th:only-of-type {\n",
       "        vertical-align: middle;\n",
       "    }\n",
       "\n",
       "    .dataframe tbody tr th {\n",
       "        vertical-align: top;\n",
       "    }\n",
       "\n",
       "    .dataframe thead th {\n",
       "        text-align: right;\n",
       "    }\n",
       "</style>\n",
       "<table border=\"1\" class=\"dataframe\">\n",
       "  <thead>\n",
       "    <tr style=\"text-align: right;\">\n",
       "      <th></th>\n",
       "      <th>name</th>\n",
       "      <th>u_id</th>\n",
       "      <th>keywords</th>\n",
       "    </tr>\n",
       "  </thead>\n",
       "  <tbody>\n",
       "    <tr>\n",
       "      <th>19</th>\n",
       "      <td>UrbanSim Parcels</td>\n",
       "      <td>6q7r-gybw</td>\n",
       "      <td>mdm,basis,urbansim</td>\n",
       "    </tr>\n",
       "    <tr>\n",
       "      <th>28</th>\n",
       "      <td>Deprecated - Regional Land Use in 2019 (Draft)</td>\n",
       "      <td>9tcv-7ybg</td>\n",
       "      <td>plu,land use,urbansim</td>\n",
       "    </tr>\n",
       "    <tr>\n",
       "      <th>113</th>\n",
       "      <td>Buildings</td>\n",
       "      <td>rrrx-2reu</td>\n",
       "      <td>basis,mdm,urbansim</td>\n",
       "    </tr>\n",
       "  </tbody>\n",
       "</table>\n",
       "</div>"
      ],
      "text/plain": [
       "                                               name       u_id  \\\n",
       "19                                 UrbanSim Parcels  6q7r-gybw   \n",
       "28   Deprecated - Regional Land Use in 2019 (Draft)  9tcv-7ybg   \n",
       "113                                       Buildings  rrrx-2reu   \n",
       "\n",
       "                  keywords  \n",
       "19      mdm,basis,urbansim  \n",
       "28   plu,land use,urbansim  \n",
       "113     basis,mdm,urbansim  "
      ]
     },
     "execution_count": 22,
     "metadata": {},
     "output_type": "execute_result"
    }
   ],
   "source": [
    "urbansim_datasets = filter_datasets_by_tag('urbansim')\n",
    "urbansim_datasets"
   ]
  },
  {
   "cell_type": "markdown",
   "metadata": {},
   "source": [
    "## 2. Pull these datasets into pandas DataFrames"
   ]
  },
  {
   "cell_type": "code",
   "execution_count": 8,
   "metadata": {
    "scrolled": true
   },
   "outputs": [
    {
     "name": "stdout",
     "output_type": "stream",
     "text": [
      "pulling data in 37 chunks of 100000 rows each\n",
      "pulling chunk 0\n",
      "pulling chunk 1\n",
      "pulling chunk 2\n",
      "pulling chunk 3\n",
      "pulling chunk 4\n",
      "pulling chunk 5\n",
      "pulling chunk 6\n",
      "pulling chunk 7\n",
      "pulling chunk 8\n",
      "pulling chunk 9\n",
      "pulling chunk 10\n",
      "pulling chunk 11\n",
      "pulling chunk 12\n",
      "pulling chunk 13\n",
      "pulling chunk 14\n",
      "pulling chunk 15\n",
      "pulling chunk 16\n",
      "pulling chunk 17\n",
      "pulling chunk 18\n",
      "pulling chunk 19\n",
      "pulling chunk 20\n",
      "pulling chunk 21\n",
      "pulling chunk 22\n",
      "pulling chunk 23\n",
      "pulling chunk 24\n",
      "pulling chunk 25\n",
      "pulling chunk 26\n",
      "pulling chunk 27\n",
      "pulling chunk 28\n",
      "pulling chunk 29\n",
      "pulling chunk 30\n",
      "pulling chunk 31\n",
      "pulling chunk 32\n",
      "pulling chunk 33\n",
      "pulling chunk 34\n",
      "pulling chunk 35\n",
      "pulling chunk 36\n"
     ]
    }
   ],
   "source": [
    "# pull urbansim parcels and buildings for now\n",
    "urbansim_buildings_id = 'rrrx-2reu'\n",
    "urbansim_buildings = pull_df_from_socrata(urbansim_buildings_id)"
   ]
  },
  {
   "cell_type": "code",
   "execution_count": null,
   "metadata": {},
   "outputs": [],
   "source": [
    "urbansim_buildings.head()"
   ]
  },
  {
   "cell_type": "code",
   "execution_count": 15,
   "metadata": {},
   "outputs": [
    {
     "data": {
      "text/plain": [
       "(3655207, 15)"
      ]
     },
     "execution_count": 15,
     "metadata": {},
     "output_type": "execute_result"
    }
   ],
   "source": [
    "urbansim_buildings.shape"
   ]
  },
  {
   "cell_type": "code",
   "execution_count": 16,
   "metadata": {
    "scrolled": true
   },
   "outputs": [
    {
     "name": "stdout",
     "output_type": "stream",
     "text": [
      "pulling data in 37 chunks of 100000 rows each\n",
      "pulling chunk 0\n",
      "pulling chunk 1\n",
      "pulling chunk 2\n",
      "pulling chunk 3\n",
      "pulling chunk 4\n",
      "pulling chunk 5\n",
      "pulling chunk 6\n",
      "pulling chunk 7\n",
      "pulling chunk 8\n",
      "pulling chunk 9\n",
      "pulling chunk 10\n",
      "pulling chunk 11\n",
      "pulling chunk 12\n",
      "pulling chunk 13\n",
      "pulling chunk 14\n",
      "pulling chunk 15\n",
      "pulling chunk 16\n",
      "pulling chunk 17\n",
      "pulling chunk 18\n",
      "pulling chunk 19\n",
      "pulling chunk 20\n",
      "pulling chunk 21\n",
      "pulling chunk 22\n",
      "pulling chunk 23\n",
      "pulling chunk 24\n",
      "pulling chunk 25\n",
      "pulling chunk 26\n",
      "pulling chunk 27\n",
      "pulling chunk 28\n",
      "pulling chunk 29\n",
      "pulling chunk 30\n",
      "pulling chunk 31\n",
      "pulling chunk 32\n",
      "pulling chunk 33\n",
      "pulling chunk 34\n",
      "pulling chunk 35\n",
      "pulling chunk 36\n"
     ]
    }
   ],
   "source": [
    "urbansim_parcels_id = '6q7r-gybw'\n",
    "urbansim_parcels = pull_df_from_socrata(urbansim_parcels_id)"
   ]
  },
  {
   "cell_type": "code",
   "execution_count": null,
   "metadata": {},
   "outputs": [],
   "source": [
    "urbansim_parcels.head()"
   ]
  },
  {
   "cell_type": "code",
   "execution_count": 17,
   "metadata": {},
   "outputs": [
    {
     "data": {
      "text/plain": [
       "(3655207, 7)"
      ]
     },
     "execution_count": 17,
     "metadata": {},
     "output_type": "execute_result"
    }
   ],
   "source": [
    "urbansim_parcels.shape"
   ]
  },
  {
   "cell_type": "markdown",
   "metadata": {},
   "source": [
    "## 3. EDA\n",
    "\n",
    "Your exploratory data analysis steps go here:"
   ]
  },
  {
   "cell_type": "code",
   "execution_count": null,
   "metadata": {},
   "outputs": [],
   "source": []
  }
 ],
 "metadata": {
  "kernelspec": {
   "display_name": "Python 3",
   "language": "python",
   "name": "python3"
  },
  "language_info": {
   "codemirror_mode": {
    "name": "ipython",
    "version": 3
   },
   "file_extension": ".py",
   "mimetype": "text/x-python",
   "name": "python",
   "nbconvert_exporter": "python",
   "pygments_lexer": "ipython3",
   "version": "3.7.3"
  }
 },
 "nbformat": 4,
 "nbformat_minor": 2
}
