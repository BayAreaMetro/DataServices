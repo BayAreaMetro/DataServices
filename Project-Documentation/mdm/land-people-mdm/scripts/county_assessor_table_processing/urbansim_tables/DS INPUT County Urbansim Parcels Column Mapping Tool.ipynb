{
 "cells": [
  {
   "cell_type": "markdown",
   "metadata": {},
   "source": [
    "# Urbansim Parcels Column Mapping Tool\n",
    "\n",
    "## How to use this notebook:\n",
    "\n",
    "1. Pull this notebook from Github\n",
    "    - Clone or copy this Github repository: https://github.com/BayAreaMetro/DataServices\n",
    "    - This notebook is in the folder `Project-Documentation/mdm/land-people-mdm/scripts/county_assessor_table_processing/urbansim_tables`\n",
    "2. Run this notebook and select/enter the appropriate field name mapping (in SQL format) for each UrbanSim Buildings field\n",
    "3. Create a folder containing this notebook's output folders (column_map_csvs, column_map_dicts) and copy it to this [Box folder](https://mtcdrive.app.box.com/folder/76889542701)\n",
    "4. Write a note in the Slack channel #urbansim-data-collab [?] informing the DataViz and UrbanSim teams that you made an update"
   ]
  },
  {
   "cell_type": "code",
   "execution_count": null,
   "metadata": {},
   "outputs": [],
   "source": [
    "# Requirements: run this cell first if necessary to install necessary Python libraries\n",
    "\n",
    "! pip install boto3\n",
    "! pip install s3fs\n",
    "! conda install -y -c anaconda psycopg2\n",
    "! pip install sodapy\n",
    "! pip install sqlalchemy-redshift"
   ]
  },
  {
   "cell_type": "code",
   "execution_count": null,
   "metadata": {},
   "outputs": [],
   "source": [
    "from config import *\n",
    "from colmap_utils import display_colmap_menu, show_download_button\n",
    "from utils import *"
   ]
  },
  {
   "cell_type": "markdown",
   "metadata": {},
   "source": [
    "### Santa Clara"
   ]
  },
  {
   "cell_type": "code",
   "execution_count": null,
   "metadata": {},
   "outputs": [],
   "source": [
    "county_name = 'Santa_Clara'\n",
    "urbansim_table = 'parcels'"
   ]
  },
  {
   "cell_type": "code",
   "execution_count": null,
   "metadata": {},
   "outputs": [],
   "source": [
    "urbansim_col_menus = display_colmap_menu(urbansim_table, county=county_name)"
   ]
  },
  {
   "cell_type": "code",
   "execution_count": null,
   "metadata": {},
   "outputs": [],
   "source": [
    "show_download_button(urbansim_col_menus, county_name, urbansim_table)"
   ]
  },
  {
   "cell_type": "code",
   "execution_count": null,
   "metadata": {},
   "outputs": [],
   "source": [
    "colmapping = load_json('column_map_dicts/parcels_colmap_Santa_Clara.json')\n",
    "colmapping"
   ]
  },
  {
   "cell_type": "code",
   "execution_count": null,
   "metadata": {},
   "outputs": [],
   "source": []
  }
 ],
 "metadata": {
  "kernelspec": {
   "display_name": "Python 3",
   "language": "python",
   "name": "python3"
  },
  "language_info": {
   "codemirror_mode": {
    "name": "ipython",
    "version": 3
   },
   "file_extension": ".py",
   "mimetype": "text/x-python",
   "name": "python",
   "nbconvert_exporter": "python",
   "pygments_lexer": "ipython3",
   "version": "3.7.3"
  }
 },
 "nbformat": 4,
 "nbformat_minor": 2
}
