{
 "cells": [
  {
   "cell_type": "markdown",
   "metadata": {},
   "source": [
    "# Headway Explorer Tool\n",
    "\n",
    "This tool is for exploring headway data given your specifications. You must specify desired service days, time period, and maximum headway length (in minutes). The resulting table flags the Bay Area transit service that meet the criteria you specified.\n",
    "\n",
    "\n",
    "### TODO:\n",
    "\n",
    "- add visualization of stops\n",
    "- add route type (e.g. bus) and buffer selector tool"
   ]
  },
  {
   "cell_type": "code",
   "execution_count": 1,
   "metadata": {},
   "outputs": [],
   "source": [
    "from widget_fns import *\n",
    "from headway_fns import (pull_GTFS_tables,\n",
    "                         calc_headways,\n",
    "                         get_headway_calc_period_str)"
   ]
  },
  {
   "cell_type": "markdown",
   "metadata": {},
   "source": [
    "# I. Get data:\n",
    "\n",
    "## Pull static GTFS tables for headway calculation"
   ]
  },
  {
   "cell_type": "code",
   "execution_count": 2,
   "metadata": {},
   "outputs": [
    {
     "name": "stdout",
     "output_type": "stream",
     "text": [
      "2019-04-26 16:18:27,704 INFO sqlalchemy.engine.base.Engine select version()\n",
      "2019-04-26 16:18:27,705 INFO sqlalchemy.engine.base.Engine {}\n",
      "2019-04-26 16:18:27,760 INFO sqlalchemy.engine.base.Engine select current_schema()\n",
      "2019-04-26 16:18:27,761 INFO sqlalchemy.engine.base.Engine {}\n",
      "2019-04-26 16:18:27,816 INFO sqlalchemy.engine.base.Engine SELECT CAST('test plain returns' AS VARCHAR(60)) AS anon_1\n",
      "2019-04-26 16:18:27,817 INFO sqlalchemy.engine.base.Engine {}\n",
      "2019-04-26 16:18:27,845 INFO sqlalchemy.engine.base.Engine SELECT CAST('test unicode returns' AS VARCHAR(60)) AS anon_1\n",
      "2019-04-26 16:18:27,845 INFO sqlalchemy.engine.base.Engine {}\n",
      "2019-04-26 16:18:27,900 INFO sqlalchemy.engine.base.Engine select relname from pg_class c join pg_namespace n on n.oid=c.relnamespace where pg_catalog.pg_table_is_visible(c.oid) and relname=%(name)s\n",
      "2019-04-26 16:18:27,901 INFO sqlalchemy.engine.base.Engine {'name': 'SELECT * FROM transportation.gtfs_trips;'}\n",
      "2019-04-26 16:18:27,984 INFO sqlalchemy.engine.base.Engine SELECT * FROM transportation.gtfs_trips;\n",
      "2019-04-26 16:18:27,984 INFO sqlalchemy.engine.base.Engine {}\n",
      "2019-04-26 16:18:29,916 INFO sqlalchemy.engine.base.Engine select version()\n",
      "2019-04-26 16:18:29,917 INFO sqlalchemy.engine.base.Engine {}\n",
      "2019-04-26 16:18:29,968 INFO sqlalchemy.engine.base.Engine select current_schema()\n",
      "2019-04-26 16:18:29,969 INFO sqlalchemy.engine.base.Engine {}\n",
      "2019-04-26 16:18:30,019 INFO sqlalchemy.engine.base.Engine SELECT CAST('test plain returns' AS VARCHAR(60)) AS anon_1\n",
      "2019-04-26 16:18:30,020 INFO sqlalchemy.engine.base.Engine {}\n",
      "2019-04-26 16:18:30,046 INFO sqlalchemy.engine.base.Engine SELECT CAST('test unicode returns' AS VARCHAR(60)) AS anon_1\n",
      "2019-04-26 16:18:30,047 INFO sqlalchemy.engine.base.Engine {}\n",
      "2019-04-26 16:18:30,098 INFO sqlalchemy.engine.base.Engine select relname from pg_class c join pg_namespace n on n.oid=c.relnamespace where pg_catalog.pg_table_is_visible(c.oid) and relname=%(name)s\n",
      "2019-04-26 16:18:30,099 INFO sqlalchemy.engine.base.Engine {'name': 'SELECT * FROM transportation.gtfs_stop_times;'}\n",
      "2019-04-26 16:18:30,176 INFO sqlalchemy.engine.base.Engine SELECT * FROM transportation.gtfs_stop_times;\n",
      "2019-04-26 16:18:30,177 INFO sqlalchemy.engine.base.Engine {}\n",
      "2019-04-26 16:20:15,795 INFO sqlalchemy.engine.base.Engine select version()\n",
      "2019-04-26 16:20:15,796 INFO sqlalchemy.engine.base.Engine {}\n",
      "2019-04-26 16:20:15,847 INFO sqlalchemy.engine.base.Engine select current_schema()\n",
      "2019-04-26 16:20:15,848 INFO sqlalchemy.engine.base.Engine {}\n",
      "2019-04-26 16:20:15,900 INFO sqlalchemy.engine.base.Engine SELECT CAST('test plain returns' AS VARCHAR(60)) AS anon_1\n",
      "2019-04-26 16:20:15,900 INFO sqlalchemy.engine.base.Engine {}\n",
      "2019-04-26 16:20:15,927 INFO sqlalchemy.engine.base.Engine SELECT CAST('test unicode returns' AS VARCHAR(60)) AS anon_1\n",
      "2019-04-26 16:20:15,928 INFO sqlalchemy.engine.base.Engine {}\n",
      "2019-04-26 16:20:15,980 INFO sqlalchemy.engine.base.Engine select relname from pg_class c join pg_namespace n on n.oid=c.relnamespace where pg_catalog.pg_table_is_visible(c.oid) and relname=%(name)s\n",
      "2019-04-26 16:20:15,981 INFO sqlalchemy.engine.base.Engine {'name': 'SELECT * FROM transportation.gtfs_routes;'}\n",
      "2019-04-26 16:20:16,059 INFO sqlalchemy.engine.base.Engine SELECT * FROM transportation.gtfs_routes;\n",
      "2019-04-26 16:20:16,060 INFO sqlalchemy.engine.base.Engine {}\n",
      "2019-04-26 16:20:16,491 INFO sqlalchemy.engine.base.Engine select version()\n",
      "2019-04-26 16:20:16,491 INFO sqlalchemy.engine.base.Engine {}\n",
      "2019-04-26 16:20:16,546 INFO sqlalchemy.engine.base.Engine select current_schema()\n",
      "2019-04-26 16:20:16,547 INFO sqlalchemy.engine.base.Engine {}\n",
      "2019-04-26 16:20:16,601 INFO sqlalchemy.engine.base.Engine SELECT CAST('test plain returns' AS VARCHAR(60)) AS anon_1\n",
      "2019-04-26 16:20:16,602 INFO sqlalchemy.engine.base.Engine {}\n",
      "2019-04-26 16:20:16,630 INFO sqlalchemy.engine.base.Engine SELECT CAST('test unicode returns' AS VARCHAR(60)) AS anon_1\n",
      "2019-04-26 16:20:16,631 INFO sqlalchemy.engine.base.Engine {}\n",
      "2019-04-26 16:20:16,685 INFO sqlalchemy.engine.base.Engine select relname from pg_class c join pg_namespace n on n.oid=c.relnamespace where pg_catalog.pg_table_is_visible(c.oid) and relname=%(name)s\n",
      "2019-04-26 16:20:16,686 INFO sqlalchemy.engine.base.Engine {'name': 'SELECT * FROM transportation.gtfs_calendar;'}\n",
      "2019-04-26 16:20:16,769 INFO sqlalchemy.engine.base.Engine SELECT * FROM transportation.gtfs_calendar;\n",
      "2019-04-26 16:20:16,770 INFO sqlalchemy.engine.base.Engine {}\n"
     ]
    }
   ],
   "source": [
    "# pull necessary GTFS tables from Redshift\n",
    "df_dict = pull_GTFS_tables()"
   ]
  },
  {
   "cell_type": "markdown",
   "metadata": {},
   "source": [
    "# II. Get user input:\n",
    "\n",
    "## Specify desired service days:"
   ]
  },
  {
   "cell_type": "code",
   "execution_count": 12,
   "metadata": {},
   "outputs": [
    {
     "data": {
      "application/vnd.jupyter.widget-view+json": {
       "model_id": "25761b8472854db2be455ffd7547a023",
       "version_major": 2,
       "version_minor": 0
      },
      "text/plain": [
       "RadioButtons(description='Day type:', options=('Weekday', 'Weekend', 'Select Day(s)'), value='Weekday')"
      ]
     },
     "metadata": {},
     "output_type": "display_data"
    }
   ],
   "source": [
    "day_type_button, weekday_checkboxes = init_day_type_button()\n",
    "display(day_type_button)"
   ]
  },
  {
   "cell_type": "code",
   "execution_count": 27,
   "metadata": {},
   "outputs": [
    {
     "name": "stdout",
     "output_type": "stream",
     "text": [
      "you selected ['saturday', 'sunday']\n"
     ]
    }
   ],
   "source": [
    "# save user-specified input (from above cells)\n",
    "service_days = get_days(day_type_button, weekday_checkboxes)"
   ]
  },
  {
   "cell_type": "markdown",
   "metadata": {},
   "source": [
    "## Specify desired time period:"
   ]
  },
  {
   "cell_type": "code",
   "execution_count": 14,
   "metadata": {},
   "outputs": [
    {
     "data": {
      "application/vnd.jupyter.widget-view+json": {
       "model_id": "4ce7ecb238eb4ea5a5b7eb5287782c82",
       "version_major": 2,
       "version_minor": 0
      },
      "text/plain": [
       "Dropdown(description='Time period:', options=('AM Peak (6-10AM)', 'PM Peak (3-7PM)', 'Standard weekday (6AM-10…"
      ]
     },
     "metadata": {},
     "output_type": "display_data"
    }
   ],
   "source": [
    "# make dropdown\n",
    "time_period_menu, custom_time_dict = init_time_period_menu()\n",
    "display(time_period_menu)"
   ]
  },
  {
   "cell_type": "code",
   "execution_count": 28,
   "metadata": {},
   "outputs": [
    {
     "name": "stdout",
     "output_type": "stream",
     "text": [
      "You selected start time of 08:00:00 and end time of 22:00:00\n"
     ]
    }
   ],
   "source": [
    "start_time, end_time = get_time_period(time_period_menu, custom_time_dict)"
   ]
  },
  {
   "cell_type": "markdown",
   "metadata": {},
   "source": [
    "## Specify desired maximum headway length (in minutes):"
   ]
  },
  {
   "cell_type": "code",
   "execution_count": 7,
   "metadata": {},
   "outputs": [
    {
     "data": {
      "application/vnd.jupyter.widget-view+json": {
       "model_id": "fc2d872905fd4bf58d924097ae1f29bf",
       "version_major": 2,
       "version_minor": 0
      },
      "text/plain": [
       "Dropdown(description='Headway:', options=('15 mins', '20 mins', '30 mins', 'Enter your own'), value='15 mins')"
      ]
     },
     "metadata": {},
     "output_type": "display_data"
    }
   ],
   "source": [
    "headway_selector, custom_headway = init_headway_selector()\n",
    "display(headway_selector)"
   ]
  },
  {
   "cell_type": "code",
   "execution_count": 29,
   "metadata": {},
   "outputs": [
    {
     "name": "stdout",
     "output_type": "stream",
     "text": [
      "you selected a headway of 30 mins\n"
     ]
    }
   ],
   "source": [
    "max_headway = get_headway(headway_selector, custom_headway)"
   ]
  },
  {
   "cell_type": "markdown",
   "metadata": {},
   "source": [
    "# III. Compute headways table"
   ]
  },
  {
   "cell_type": "code",
   "execution_count": 30,
   "metadata": {},
   "outputs": [],
   "source": [
    "user_input_args = {'max_headway': max_headway,\n",
    "                   'service_days': service_days,\n",
    "                   'time_period': {'start_time_td': start_time,\n",
    "                                   'end_time_td': end_time}}\n",
    "\n",
    "headways_args = {**df_dict, **user_input_args}\n",
    "\n",
    "calc_id = get_headway_calc_period_str(service_days, start_time, end_time)\n",
    "headways_table = calc_headways(**headways_args)"
   ]
  },
  {
   "cell_type": "markdown",
   "metadata": {},
   "source": [
    "# IV. Download and inspect data"
   ]
  },
  {
   "cell_type": "code",
   "execution_count": 31,
   "metadata": {},
   "outputs": [
    {
     "data": {
      "application/vnd.jupyter.widget-view+json": {
       "model_id": "28ad956a13a040da8128a8319d8418c7",
       "version_major": 2,
       "version_minor": 0
      },
      "text/plain": [
       "Button(description='Download Data', style=ButtonStyle())"
      ]
     },
     "metadata": {},
     "output_type": "display_data"
    },
    {
     "name": "stdout",
     "output_type": "stream",
     "text": [
      "Downloading as Weekend_08:00-22:00.csv\n"
     ]
    }
   ],
   "source": [
    "show_download_button(headways_table, calc_id)"
   ]
  },
  {
   "cell_type": "code",
   "execution_count": 26,
   "metadata": {},
   "outputs": [
    {
     "data": {
      "text/html": [
       "<div>\n",
       "<style scoped>\n",
       "    .dataframe tbody tr th:only-of-type {\n",
       "        vertical-align: middle;\n",
       "    }\n",
       "\n",
       "    .dataframe tbody tr th {\n",
       "        vertical-align: top;\n",
       "    }\n",
       "\n",
       "    .dataframe thead th {\n",
       "        text-align: right;\n",
       "    }\n",
       "</style>\n",
       "<table border=\"1\" class=\"dataframe\">\n",
       "  <thead>\n",
       "    <tr style=\"text-align: right;\">\n",
       "      <th></th>\n",
       "      <th>agency_id</th>\n",
       "      <th>agency_name</th>\n",
       "      <th>route_id</th>\n",
       "      <th>direction_id</th>\n",
       "      <th>trip_headsign</th>\n",
       "      <th>route_type</th>\n",
       "      <th>Route_Pattern_ID</th>\n",
       "      <th>Weekday_06:00-22:00_Headways</th>\n",
       "      <th>Weekday_06:00-22:00_Num_Trips</th>\n",
       "      <th>time_period</th>\n",
       "      <th>Meets_criteria</th>\n",
       "    </tr>\n",
       "  </thead>\n",
       "  <tbody>\n",
       "    <tr>\n",
       "      <th>0</th>\n",
       "      <td>3D</td>\n",
       "      <td>Tri Delta Transit</td>\n",
       "      <td>388</td>\n",
       "      <td>Outbound</td>\n",
       "      <td>Eastbound Kaiser</td>\n",
       "      <td>3</td>\n",
       "      <td>3D-388-Outbound</td>\n",
       "      <td>50</td>\n",
       "      <td>19</td>\n",
       "      <td>06:00-22:00</td>\n",
       "      <td>0</td>\n",
       "    </tr>\n",
       "    <tr>\n",
       "      <th>1</th>\n",
       "      <td>3D</td>\n",
       "      <td>Tri Delta Transit</td>\n",
       "      <td>388</td>\n",
       "      <td>Outbound</td>\n",
       "      <td>Eastbound Kaiser</td>\n",
       "      <td>3</td>\n",
       "      <td>3D-388-Outbound</td>\n",
       "      <td>50</td>\n",
       "      <td>19</td>\n",
       "      <td>06:00-22:00</td>\n",
       "      <td>0</td>\n",
       "    </tr>\n",
       "    <tr>\n",
       "      <th>2</th>\n",
       "      <td>3D</td>\n",
       "      <td>Tri Delta Transit</td>\n",
       "      <td>388</td>\n",
       "      <td>Outbound</td>\n",
       "      <td>Eastbound Kaiser</td>\n",
       "      <td>3</td>\n",
       "      <td>3D-388-Outbound</td>\n",
       "      <td>50</td>\n",
       "      <td>19</td>\n",
       "      <td>06:00-22:00</td>\n",
       "      <td>0</td>\n",
       "    </tr>\n",
       "    <tr>\n",
       "      <th>3</th>\n",
       "      <td>3D</td>\n",
       "      <td>Tri Delta Transit</td>\n",
       "      <td>388</td>\n",
       "      <td>Outbound</td>\n",
       "      <td>Eastbound Kaiser</td>\n",
       "      <td>3</td>\n",
       "      <td>3D-388-Outbound</td>\n",
       "      <td>50</td>\n",
       "      <td>19</td>\n",
       "      <td>06:00-22:00</td>\n",
       "      <td>0</td>\n",
       "    </tr>\n",
       "    <tr>\n",
       "      <th>4</th>\n",
       "      <td>3D</td>\n",
       "      <td>Tri Delta Transit</td>\n",
       "      <td>388</td>\n",
       "      <td>Outbound</td>\n",
       "      <td>Eastbound Kaiser</td>\n",
       "      <td>3</td>\n",
       "      <td>3D-388-Outbound</td>\n",
       "      <td>50</td>\n",
       "      <td>19</td>\n",
       "      <td>06:00-22:00</td>\n",
       "      <td>0</td>\n",
       "    </tr>\n",
       "  </tbody>\n",
       "</table>\n",
       "</div>"
      ],
      "text/plain": [
       "  agency_id        agency_name route_id direction_id     trip_headsign  \\\n",
       "0        3D  Tri Delta Transit      388     Outbound  Eastbound Kaiser   \n",
       "1        3D  Tri Delta Transit      388     Outbound  Eastbound Kaiser   \n",
       "2        3D  Tri Delta Transit      388     Outbound  Eastbound Kaiser   \n",
       "3        3D  Tri Delta Transit      388     Outbound  Eastbound Kaiser   \n",
       "4        3D  Tri Delta Transit      388     Outbound  Eastbound Kaiser   \n",
       "\n",
       "   route_type Route_Pattern_ID  Weekday_06:00-22:00_Headways  \\\n",
       "0           3  3D-388-Outbound                            50   \n",
       "1           3  3D-388-Outbound                            50   \n",
       "2           3  3D-388-Outbound                            50   \n",
       "3           3  3D-388-Outbound                            50   \n",
       "4           3  3D-388-Outbound                            50   \n",
       "\n",
       "   Weekday_06:00-22:00_Num_Trips  time_period  Meets_criteria  \n",
       "0                             19  06:00-22:00               0  \n",
       "1                             19  06:00-22:00               0  \n",
       "2                             19  06:00-22:00               0  \n",
       "3                             19  06:00-22:00               0  \n",
       "4                             19  06:00-22:00               0  "
      ]
     },
     "execution_count": 26,
     "metadata": {},
     "output_type": "execute_result"
    }
   ],
   "source": [
    "# displayed table must have pagination and filtering \n",
    "headways_table.head()"
   ]
  },
  {
   "cell_type": "markdown",
   "metadata": {},
   "source": [
    "## TODO: show route/stops visualization\n",
    "\n",
    "- for mapping, add stops (join with route_pattern_id) (stop id, lat, long, Route_Pattern_ID -> draw routes on map)"
   ]
  },
  {
   "cell_type": "code",
   "execution_count": null,
   "metadata": {},
   "outputs": [],
   "source": []
  },
  {
   "cell_type": "code",
   "execution_count": null,
   "metadata": {},
   "outputs": [],
   "source": []
  }
 ],
 "metadata": {
  "kernelspec": {
   "display_name": "Python 3",
   "language": "python",
   "name": "python3"
  },
  "language_info": {
   "codemirror_mode": {
    "name": "ipython",
    "version": 3
   },
   "file_extension": ".py",
   "mimetype": "text/x-python",
   "name": "python",
   "nbconvert_exporter": "python",
   "pygments_lexer": "ipython3",
   "version": "3.7.3"
  }
 },
 "nbformat": 4,
 "nbformat_minor": 2
}
