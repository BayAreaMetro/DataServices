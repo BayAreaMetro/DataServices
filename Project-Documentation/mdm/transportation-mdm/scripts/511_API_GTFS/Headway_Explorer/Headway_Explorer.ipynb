{
 "cells": [
  {
   "cell_type": "markdown",
   "metadata": {},
   "source": [
    "# Headway Explorer Tool\n",
    "\n",
    "This tool is for exploring headway data given your specifications. You must specify desired service days, time period, and maximum headway length (in minutes). The resulting table is a filtered subset of all Bay Area transit service that meet the criteria you specified.\n",
    "\n",
    "\n",
    "### TODO:\n",
    "\n",
    "- add visualization of stops\n",
    "- add buffer selector tool"
   ]
  },
  {
   "cell_type": "code",
   "execution_count": 1,
   "metadata": {},
   "outputs": [],
   "source": [
    "from widget_fns import *\n",
    "from headway_fns import pull_GTFS_tables, calc_headways"
   ]
  },
  {
   "cell_type": "markdown",
   "metadata": {},
   "source": [
    "## Specify desired service days:"
   ]
  },
  {
   "cell_type": "code",
   "execution_count": 51,
   "metadata": {},
   "outputs": [
    {
     "data": {
      "application/vnd.jupyter.widget-view+json": {
       "model_id": "2494b60f6edd42ddaaf67b00dd5b1360",
       "version_major": 2,
       "version_minor": 0
      },
      "text/plain": [
       "RadioButtons(description='Day type:', options=('Weekday', 'Weekend', 'Select Day(s)'), value='Weekday')"
      ]
     },
     "metadata": {},
     "output_type": "display_data"
    }
   ],
   "source": [
    "day_type_button, weekday_checkboxes = init_day_type_button()\n",
    "display(day_type_button)"
   ]
  },
  {
   "cell_type": "markdown",
   "metadata": {},
   "source": [
    "## Specify desired time period:"
   ]
  },
  {
   "cell_type": "code",
   "execution_count": 3,
   "metadata": {},
   "outputs": [
    {
     "data": {
      "application/vnd.jupyter.widget-view+json": {
       "model_id": "0368ee495f424834b172fc5f53075f38",
       "version_major": 2,
       "version_minor": 0
      },
      "text/plain": [
       "RadioButtons(description='Time period:', options=('AM Peak (6-10AM)', 'PM Peak (3-7PM)', 'Standard weekday (6A…"
      ]
     },
     "metadata": {},
     "output_type": "display_data"
    }
   ],
   "source": [
    "time_period_menu, custom_time_dict = init_time_period_menu()\n",
    "display(time_period_menu)"
   ]
  },
  {
   "cell_type": "markdown",
   "metadata": {},
   "source": [
    "## Specify desired maximum headway length (in minutes):"
   ]
  },
  {
   "cell_type": "code",
   "execution_count": 4,
   "metadata": {},
   "outputs": [
    {
     "data": {
      "application/vnd.jupyter.widget-view+json": {
       "model_id": "5377acd14f2441fd8e65083884c1a141",
       "version_major": 2,
       "version_minor": 0
      },
      "text/plain": [
       "Dropdown(description='Headway:', options=('15 mins', '20 mins', '30 mins', 'Enter your own'), value='15 mins')"
      ]
     },
     "metadata": {},
     "output_type": "display_data"
    }
   ],
   "source": [
    "headway_selector, custom_headway = init_headway_selector()\n",
    "display(headway_selector)"
   ]
  },
  {
   "cell_type": "markdown",
   "metadata": {},
   "source": [
    "## Compute headways table"
   ]
  },
  {
   "cell_type": "code",
   "execution_count": 5,
   "metadata": {},
   "outputs": [],
   "source": [
    "# pull necessary GTFS tables from Redshift\n",
    "df_dict = pull_GTFS_tables()\n",
    "\n",
    "# save user-specified input (from above cells)\n",
    "service_days = get_days(day_type_button, weekday_checkboxes)\n",
    "start_time, end_time = get_time_period(time_period_menu, custom_time_dict)\n",
    "max_headway = get_headway(headway_selector, custom_headway)\n",
    "user_input_args = {'max_headway': max_headway,\n",
    "                   'service_days': service_days,\n",
    "                   'time_period': {'start_time_td': start_time,\n",
    "                                   'end_time_td': end_time}}\n",
    "\n",
    "headways_args = {**df_dict, **user_input_args}"
   ]
  },
  {
   "cell_type": "code",
   "execution_count": 52,
   "metadata": {},
   "outputs": [
    {
     "data": {
      "text/html": [
       "<div>\n",
       "<style scoped>\n",
       "    .dataframe tbody tr th:only-of-type {\n",
       "        vertical-align: middle;\n",
       "    }\n",
       "\n",
       "    .dataframe tbody tr th {\n",
       "        vertical-align: top;\n",
       "    }\n",
       "\n",
       "    .dataframe thead th {\n",
       "        text-align: right;\n",
       "    }\n",
       "</style>\n",
       "<table border=\"1\" class=\"dataframe\">\n",
       "  <thead>\n",
       "    <tr style=\"text-align: right;\">\n",
       "      <th></th>\n",
       "      <th>agency_id</th>\n",
       "      <th>agency_name</th>\n",
       "      <th>route_id</th>\n",
       "      <th>direction_id</th>\n",
       "      <th>trip_headsign</th>\n",
       "      <th>Total_Trips</th>\n",
       "      <th>Headway</th>\n",
       "      <th>Avg_Headway</th>\n",
       "      <th>Avg_Num_Trips</th>\n",
       "      <th>route_type</th>\n",
       "      <th>time_period</th>\n",
       "      <th>Route_Pattern_ID</th>\n",
       "    </tr>\n",
       "  </thead>\n",
       "  <tbody>\n",
       "    <tr>\n",
       "      <th>7870</th>\n",
       "      <td>SC</td>\n",
       "      <td>VTA</td>\n",
       "      <td>201</td>\n",
       "      <td>Outbound</td>\n",
       "      <td>DASH/FREE SHUTTLE</td>\n",
       "      <td>61</td>\n",
       "      <td>13.770492</td>\n",
       "      <td>13.548387</td>\n",
       "      <td>62.010753</td>\n",
       "      <td>3</td>\n",
       "      <td>08:00:00-22:00:00</td>\n",
       "      <td>SC-201-Outbound</td>\n",
       "    </tr>\n",
       "    <tr>\n",
       "      <th>7871</th>\n",
       "      <td>SC</td>\n",
       "      <td>VTA</td>\n",
       "      <td>201</td>\n",
       "      <td>Outbound</td>\n",
       "      <td>DASH/FREE SHUTTLE</td>\n",
       "      <td>62</td>\n",
       "      <td>13.548387</td>\n",
       "      <td>13.548387</td>\n",
       "      <td>62.010753</td>\n",
       "      <td>3</td>\n",
       "      <td>08:00:00-22:00:00</td>\n",
       "      <td>SC-201-Outbound</td>\n",
       "    </tr>\n",
       "    <tr>\n",
       "      <th>7872</th>\n",
       "      <td>SC</td>\n",
       "      <td>VTA</td>\n",
       "      <td>201</td>\n",
       "      <td>Outbound</td>\n",
       "      <td>DASH/FREE SHUTTLE</td>\n",
       "      <td>63</td>\n",
       "      <td>13.333333</td>\n",
       "      <td>13.548387</td>\n",
       "      <td>62.010753</td>\n",
       "      <td>3</td>\n",
       "      <td>08:00:00-22:00:00</td>\n",
       "      <td>SC-201-Outbound</td>\n",
       "    </tr>\n",
       "    <tr>\n",
       "      <th>7876</th>\n",
       "      <td>SC</td>\n",
       "      <td>VTA</td>\n",
       "      <td>201</td>\n",
       "      <td>Outbound</td>\n",
       "      <td>DASH/FREE SHUTTLE</td>\n",
       "      <td>61</td>\n",
       "      <td>13.770492</td>\n",
       "      <td>13.548387</td>\n",
       "      <td>62.010753</td>\n",
       "      <td>3</td>\n",
       "      <td>08:00:00-22:00:00</td>\n",
       "      <td>SC-201-Outbound</td>\n",
       "    </tr>\n",
       "    <tr>\n",
       "      <th>7877</th>\n",
       "      <td>SC</td>\n",
       "      <td>VTA</td>\n",
       "      <td>201</td>\n",
       "      <td>Outbound</td>\n",
       "      <td>DASH/FREE SHUTTLE</td>\n",
       "      <td>62</td>\n",
       "      <td>13.548387</td>\n",
       "      <td>13.548387</td>\n",
       "      <td>62.010753</td>\n",
       "      <td>3</td>\n",
       "      <td>08:00:00-22:00:00</td>\n",
       "      <td>SC-201-Outbound</td>\n",
       "    </tr>\n",
       "  </tbody>\n",
       "</table>\n",
       "</div>"
      ],
      "text/plain": [
       "     agency_id agency_name route_id direction_id      trip_headsign  \\\n",
       "7870        SC         VTA      201     Outbound  DASH/FREE SHUTTLE   \n",
       "7871        SC         VTA      201     Outbound  DASH/FREE SHUTTLE   \n",
       "7872        SC         VTA      201     Outbound  DASH/FREE SHUTTLE   \n",
       "7876        SC         VTA      201     Outbound  DASH/FREE SHUTTLE   \n",
       "7877        SC         VTA      201     Outbound  DASH/FREE SHUTTLE   \n",
       "\n",
       "      Total_Trips    Headway  Avg_Headway  Avg_Num_Trips  route_type  \\\n",
       "7870           61  13.770492    13.548387      62.010753           3   \n",
       "7871           62  13.548387    13.548387      62.010753           3   \n",
       "7872           63  13.333333    13.548387      62.010753           3   \n",
       "7876           61  13.770492    13.548387      62.010753           3   \n",
       "7877           62  13.548387    13.548387      62.010753           3   \n",
       "\n",
       "            time_period Route_Pattern_ID  \n",
       "7870  08:00:00-22:00:00  SC-201-Outbound  \n",
       "7871  08:00:00-22:00:00  SC-201-Outbound  \n",
       "7872  08:00:00-22:00:00  SC-201-Outbound  \n",
       "7876  08:00:00-22:00:00  SC-201-Outbound  \n",
       "7877  08:00:00-22:00:00  SC-201-Outbound  "
      ]
     },
     "execution_count": 52,
     "metadata": {},
     "output_type": "execute_result"
    }
   ],
   "source": [
    "headways_table = calc_headways(**headways_args)\n",
    "headways_table.to_csv('~/Downloads/headways_table.csv', index=False)\n",
    "headways_table.head()"
   ]
  },
  {
   "cell_type": "markdown",
   "metadata": {},
   "source": [
    "## TODO: get stops buffer distance input from user "
   ]
  },
  {
   "cell_type": "markdown",
   "metadata": {},
   "source": [
    "## TODO: show route/stops visualization"
   ]
  }
 ],
 "metadata": {
  "kernelspec": {
   "display_name": "Python 3",
   "language": "python",
   "name": "python3"
  },
  "language_info": {
   "codemirror_mode": {
    "name": "ipython",
    "version": 3
   },
   "file_extension": ".py",
   "mimetype": "text/x-python",
   "name": "python",
   "nbconvert_exporter": "python",
   "pygments_lexer": "ipython3",
   "version": "3.7.3"
  }
 },
 "nbformat": 4,
 "nbformat_minor": 2
}
