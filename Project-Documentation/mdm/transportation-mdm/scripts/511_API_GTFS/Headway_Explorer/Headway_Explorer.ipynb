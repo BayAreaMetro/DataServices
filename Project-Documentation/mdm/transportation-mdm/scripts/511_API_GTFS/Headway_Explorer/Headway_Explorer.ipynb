{
 "cells": [
  {
   "cell_type": "markdown",
   "metadata": {},
   "source": [
    "# Headway Explorer Tool\n",
    "\n",
    "This tool is for exploring headway data given your specifications. You must specify desired service days, time period, and maximum headway length (in minutes). The resulting table flags the Bay Area transit service that meet the criteria you specified.\n",
    "\n",
    "\n",
    "### TODO:\n",
    "\n",
    "- add visualization of stops\n",
    "- add route type (e.g. bus) and buffer selector tool"
   ]
  },
  {
   "cell_type": "code",
   "execution_count": null,
   "metadata": {},
   "outputs": [],
   "source": [
    "from widget_fns import *\n",
    "from headway_fns import (pull_GTFS_tables,\n",
    "                         calc_headways,\n",
    "                         get_headway_calc_period_str)"
   ]
  },
  {
   "cell_type": "markdown",
   "metadata": {},
   "source": [
    "# I. Get data:\n",
    "\n",
    "## Pull static GTFS tables for headway calculation"
   ]
  },
  {
   "cell_type": "code",
   "execution_count": null,
   "metadata": {},
   "outputs": [],
   "source": [
    "# pull necessary GTFS tables from Redshift\n",
    "df_dict = pull_GTFS_tables()"
   ]
  },
  {
   "cell_type": "markdown",
   "metadata": {},
   "source": [
    "# II. Get user input:\n",
    "\n",
    "## Specify desired service days:"
   ]
  },
  {
   "cell_type": "code",
   "execution_count": null,
   "metadata": {},
   "outputs": [],
   "source": [
    "day_type_button, weekday_checkboxes = init_day_type_button()\n",
    "display(day_type_button)"
   ]
  },
  {
   "cell_type": "code",
   "execution_count": null,
   "metadata": {},
   "outputs": [],
   "source": [
    "# save user-specified input (from above cells)\n",
    "service_days = get_days(day_type_button, weekday_checkboxes)"
   ]
  },
  {
   "cell_type": "markdown",
   "metadata": {},
   "source": [
    "## Specify desired time period:"
   ]
  },
  {
   "cell_type": "code",
   "execution_count": null,
   "metadata": {},
   "outputs": [],
   "source": [
    "# make dropdown\n",
    "time_period_menu, custom_time_dict = init_time_period_menu()\n",
    "display(time_period_menu)"
   ]
  },
  {
   "cell_type": "code",
   "execution_count": null,
   "metadata": {},
   "outputs": [],
   "source": [
    "start_time, end_time = get_time_period(time_period_menu, custom_time_dict)"
   ]
  },
  {
   "cell_type": "markdown",
   "metadata": {},
   "source": [
    "## Specify desired maximum headway length (in minutes):"
   ]
  },
  {
   "cell_type": "code",
   "execution_count": null,
   "metadata": {},
   "outputs": [],
   "source": [
    "headway_selector, custom_headway = init_headway_selector()\n",
    "display(headway_selector)"
   ]
  },
  {
   "cell_type": "code",
   "execution_count": null,
   "metadata": {},
   "outputs": [],
   "source": [
    "max_headway = get_headway(headway_selector, custom_headway)"
   ]
  },
  {
   "cell_type": "markdown",
   "metadata": {},
   "source": [
    "# III. Compute headways table"
   ]
  },
  {
   "cell_type": "code",
   "execution_count": null,
   "metadata": {},
   "outputs": [],
   "source": [
    "user_input_args = {'max_headway': max_headway,\n",
    "                   'service_days': service_days,\n",
    "                   'time_period': {'start_time_td': start_time,\n",
    "                                   'end_time_td': end_time}}\n",
    "\n",
    "headways_args = {**df_dict, **user_input_args}\n",
    "\n",
    "calc_id = get_headway_calc_period_str(service_days, start_time, end_time)\n",
    "headways_table = calc_headways(**headways_args)"
   ]
  },
  {
   "cell_type": "markdown",
   "metadata": {},
   "source": [
    "# IV. Download and inspect data"
   ]
  },
  {
   "cell_type": "code",
   "execution_count": null,
   "metadata": {},
   "outputs": [],
   "source": [
    "show_download_button(headways_table, calc_id)"
   ]
  },
  {
   "cell_type": "code",
   "execution_count": null,
   "metadata": {},
   "outputs": [],
   "source": [
    "# displayed table must have pagination and filtering \n",
    "headways_table.head()"
   ]
  },
  {
   "cell_type": "markdown",
   "metadata": {},
   "source": [
    "## TODO: show route/stops visualization\n",
    "\n",
    "- for mapping, add stops (join with route_pattern_id) (stop id, lat, long, Route_Pattern_ID -> draw routes on map)"
   ]
  },
  {
   "cell_type": "code",
   "execution_count": null,
   "metadata": {},
   "outputs": [],
   "source": []
  },
  {
   "cell_type": "code",
   "execution_count": null,
   "metadata": {},
   "outputs": [],
   "source": []
  }
 ],
 "metadata": {
  "kernelspec": {
   "display_name": "Python 3",
   "language": "python",
   "name": "python3"
  },
  "language_info": {
   "codemirror_mode": {
    "name": "ipython",
    "version": 3
   },
   "file_extension": ".py",
   "mimetype": "text/x-python",
   "name": "python",
   "nbconvert_exporter": "python",
   "pygments_lexer": "ipython3",
   "version": "3.7.3"
  }
 },
 "nbformat": 4,
 "nbformat_minor": 2
}
